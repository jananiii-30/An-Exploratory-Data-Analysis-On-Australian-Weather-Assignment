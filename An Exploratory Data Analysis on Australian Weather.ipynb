{
 "cells": [
  {
   "cell_type": "code",
   "execution_count": 4,
   "id": "35d5f382",
   "metadata": {},
   "outputs": [
    {
     "data": {
      "text/html": [
       "<div>\n",
       "<style scoped>\n",
       "    .dataframe tbody tr th:only-of-type {\n",
       "        vertical-align: middle;\n",
       "    }\n",
       "\n",
       "    .dataframe tbody tr th {\n",
       "        vertical-align: top;\n",
       "    }\n",
       "\n",
       "    .dataframe thead th {\n",
       "        text-align: right;\n",
       "    }\n",
       "</style>\n",
       "<table border=\"1\" class=\"dataframe\">\n",
       "  <thead>\n",
       "    <tr style=\"text-align: right;\">\n",
       "      <th></th>\n",
       "      <th>Date</th>\n",
       "      <th>Location</th>\n",
       "      <th>MinTemp</th>\n",
       "      <th>MaxTemp</th>\n",
       "      <th>Rainfall</th>\n",
       "      <th>Evaporation</th>\n",
       "      <th>Sunshine</th>\n",
       "      <th>WindGustDir</th>\n",
       "      <th>WindGustSpeed</th>\n",
       "      <th>WindDir9am</th>\n",
       "      <th>...</th>\n",
       "      <th>Humidity9am</th>\n",
       "      <th>Humidity3pm</th>\n",
       "      <th>Pressure9am</th>\n",
       "      <th>Pressure3pm</th>\n",
       "      <th>Cloud9am</th>\n",
       "      <th>Cloud3pm</th>\n",
       "      <th>Temp9am</th>\n",
       "      <th>Temp3pm</th>\n",
       "      <th>RainToday</th>\n",
       "      <th>RainTomorrow</th>\n",
       "    </tr>\n",
       "  </thead>\n",
       "  <tbody>\n",
       "    <tr>\n",
       "      <th>0</th>\n",
       "      <td>7/2/2014</td>\n",
       "      <td>CoffsHarbour</td>\n",
       "      <td>17.7</td>\n",
       "      <td>25.9</td>\n",
       "      <td>2.2</td>\n",
       "      <td>1.6</td>\n",
       "      <td>NaN</td>\n",
       "      <td>NNE</td>\n",
       "      <td>31.0</td>\n",
       "      <td>SW</td>\n",
       "      <td>...</td>\n",
       "      <td>76.0</td>\n",
       "      <td>66.0</td>\n",
       "      <td>1017.3</td>\n",
       "      <td>1016.5</td>\n",
       "      <td>7.0</td>\n",
       "      <td>4.0</td>\n",
       "      <td>21.5</td>\n",
       "      <td>24.2</td>\n",
       "      <td>Yes</td>\n",
       "      <td>No</td>\n",
       "    </tr>\n",
       "    <tr>\n",
       "      <th>1</th>\n",
       "      <td>23-04-2009</td>\n",
       "      <td>Portland</td>\n",
       "      <td>6.7</td>\n",
       "      <td>22.0</td>\n",
       "      <td>0.0</td>\n",
       "      <td>5.4</td>\n",
       "      <td>0.4</td>\n",
       "      <td>NNE</td>\n",
       "      <td>44.0</td>\n",
       "      <td>NE</td>\n",
       "      <td>...</td>\n",
       "      <td>65.0</td>\n",
       "      <td>37.0</td>\n",
       "      <td>1014.0</td>\n",
       "      <td>1008.8</td>\n",
       "      <td>7.0</td>\n",
       "      <td>8.0</td>\n",
       "      <td>14.0</td>\n",
       "      <td>21.8</td>\n",
       "      <td>No</td>\n",
       "      <td>Yes</td>\n",
       "    </tr>\n",
       "    <tr>\n",
       "      <th>2</th>\n",
       "      <td>8/11/2015</td>\n",
       "      <td>Watsonia</td>\n",
       "      <td>6.2</td>\n",
       "      <td>25.7</td>\n",
       "      <td>0.0</td>\n",
       "      <td>4.2</td>\n",
       "      <td>10.9</td>\n",
       "      <td>WSW</td>\n",
       "      <td>20.0</td>\n",
       "      <td>SE</td>\n",
       "      <td>...</td>\n",
       "      <td>71.0</td>\n",
       "      <td>28.0</td>\n",
       "      <td>1022.5</td>\n",
       "      <td>1019.4</td>\n",
       "      <td>2.0</td>\n",
       "      <td>7.0</td>\n",
       "      <td>12.8</td>\n",
       "      <td>23.6</td>\n",
       "      <td>No</td>\n",
       "      <td>No</td>\n",
       "    </tr>\n",
       "    <tr>\n",
       "      <th>3</th>\n",
       "      <td>21-11-2012</td>\n",
       "      <td>Wollongong</td>\n",
       "      <td>13.8</td>\n",
       "      <td>22.8</td>\n",
       "      <td>0.0</td>\n",
       "      <td>NaN</td>\n",
       "      <td>NaN</td>\n",
       "      <td>SSW</td>\n",
       "      <td>70.0</td>\n",
       "      <td>N</td>\n",
       "      <td>...</td>\n",
       "      <td>65.0</td>\n",
       "      <td>76.0</td>\n",
       "      <td>1017.0</td>\n",
       "      <td>1010.6</td>\n",
       "      <td>NaN</td>\n",
       "      <td>NaN</td>\n",
       "      <td>18.9</td>\n",
       "      <td>20.6</td>\n",
       "      <td>No</td>\n",
       "      <td>No</td>\n",
       "    </tr>\n",
       "    <tr>\n",
       "      <th>4</th>\n",
       "      <td>30-07-2013</td>\n",
       "      <td>Townsville</td>\n",
       "      <td>13.4</td>\n",
       "      <td>27.2</td>\n",
       "      <td>0.0</td>\n",
       "      <td>6.0</td>\n",
       "      <td>10.2</td>\n",
       "      <td>ENE</td>\n",
       "      <td>30.0</td>\n",
       "      <td>SSW</td>\n",
       "      <td>...</td>\n",
       "      <td>61.0</td>\n",
       "      <td>46.0</td>\n",
       "      <td>1016.8</td>\n",
       "      <td>1011.8</td>\n",
       "      <td>1.0</td>\n",
       "      <td>1.0</td>\n",
       "      <td>21.7</td>\n",
       "      <td>25.6</td>\n",
       "      <td>No</td>\n",
       "      <td>No</td>\n",
       "    </tr>\n",
       "    <tr>\n",
       "      <th>5</th>\n",
       "      <td>20-05-2016</td>\n",
       "      <td>Albany</td>\n",
       "      <td>10.1</td>\n",
       "      <td>21.8</td>\n",
       "      <td>0.0</td>\n",
       "      <td>0.8</td>\n",
       "      <td>NaN</td>\n",
       "      <td>NaN</td>\n",
       "      <td>NaN</td>\n",
       "      <td>N</td>\n",
       "      <td>...</td>\n",
       "      <td>93.0</td>\n",
       "      <td>NaN</td>\n",
       "      <td>1011.7</td>\n",
       "      <td>1003.9</td>\n",
       "      <td>1.0</td>\n",
       "      <td>NaN</td>\n",
       "      <td>12.9</td>\n",
       "      <td>NaN</td>\n",
       "      <td>No</td>\n",
       "      <td>Yes</td>\n",
       "    </tr>\n",
       "  </tbody>\n",
       "</table>\n",
       "<p>6 rows × 23 columns</p>\n",
       "</div>"
      ],
      "text/plain": [
       "         Date      Location  MinTemp  MaxTemp  Rainfall  Evaporation  \\\n",
       "0    7/2/2014  CoffsHarbour     17.7     25.9       2.2          1.6   \n",
       "1  23-04-2009      Portland      6.7     22.0       0.0          5.4   \n",
       "2   8/11/2015      Watsonia      6.2     25.7       0.0          4.2   \n",
       "3  21-11-2012    Wollongong     13.8     22.8       0.0          NaN   \n",
       "4  30-07-2013    Townsville     13.4     27.2       0.0          6.0   \n",
       "5  20-05-2016        Albany     10.1     21.8       0.0          0.8   \n",
       "\n",
       "   Sunshine WindGustDir  WindGustSpeed WindDir9am  ... Humidity9am  \\\n",
       "0       NaN         NNE           31.0         SW  ...        76.0   \n",
       "1       0.4         NNE           44.0         NE  ...        65.0   \n",
       "2      10.9         WSW           20.0         SE  ...        71.0   \n",
       "3       NaN         SSW           70.0          N  ...        65.0   \n",
       "4      10.2         ENE           30.0        SSW  ...        61.0   \n",
       "5       NaN         NaN            NaN          N  ...        93.0   \n",
       "\n",
       "   Humidity3pm  Pressure9am  Pressure3pm  Cloud9am  Cloud3pm  Temp9am  \\\n",
       "0         66.0       1017.3       1016.5       7.0       4.0     21.5   \n",
       "1         37.0       1014.0       1008.8       7.0       8.0     14.0   \n",
       "2         28.0       1022.5       1019.4       2.0       7.0     12.8   \n",
       "3         76.0       1017.0       1010.6       NaN       NaN     18.9   \n",
       "4         46.0       1016.8       1011.8       1.0       1.0     21.7   \n",
       "5          NaN       1011.7       1003.9       1.0       NaN     12.9   \n",
       "\n",
       "   Temp3pm  RainToday  RainTomorrow  \n",
       "0     24.2        Yes            No  \n",
       "1     21.8         No           Yes  \n",
       "2     23.6         No            No  \n",
       "3     20.6         No            No  \n",
       "4     25.6         No            No  \n",
       "5      NaN         No           Yes  \n",
       "\n",
       "[6 rows x 23 columns]"
      ]
     },
     "execution_count": 4,
     "metadata": {},
     "output_type": "execute_result"
    }
   ],
   "source": [
    "# Loading the required libraries and Dataset\n",
    "import pandas as pd\n",
    "import numpy as np\n",
    "import seaborn as sns\n",
    "import seaborn as sb\n",
    "import matplotlib.pyplot as plt\n",
    "data=pd.read_csv('Assignment1_EDA.csv')\n",
    "data.head(6)"
   ]
  },
  {
   "cell_type": "code",
   "execution_count": 5,
   "id": "dae99a88",
   "metadata": {},
   "outputs": [],
   "source": [
    "# For better analysis and to avoid ambiguity:\n",
    "#Average of Max and Min Temperature as Temp:\n",
    "data['Temp']=(data['MinTemp']+data['MaxTemp'])/2\n",
    "\n",
    "# Average of Humidity9am and Humidity3pm as Humidity:\n",
    "data['Humidity']=(data['Humidity9am']+data['Humidity3pm'])/2\n",
    "\n",
    "# Average of Pressure9am and Pressure3pm as Pressure:\n",
    "data['Pressure']=(data['Pressure9am']+data['Pressure3pm'])/2\n",
    "\n",
    "# Average of Cloud9am and Cloud3pm as Cloud:\n",
    "data['Cloud']=(data['Cloud9am']+data['Cloud3pm'])/2\n",
    "\n",
    "#Average of Temp9am and Temp3pm as Temp1:\n",
    "data['Temp1']=(data['Temp9am']+data['Temp3pm'])/2\n",
    "\n",
    "#Average of WindSpeed9am and WindSpeed3pm as WindSpeed:\n",
    "data['WindSpeed']=(data['WindSpeed9am']+data['WindSpeed3pm'])/2"
   ]
  },
  {
   "cell_type": "code",
   "execution_count": 6,
   "id": "410c6786",
   "metadata": {},
   "outputs": [
    {
     "data": {
      "text/html": [
       "<div>\n",
       "<style scoped>\n",
       "    .dataframe tbody tr th:only-of-type {\n",
       "        vertical-align: middle;\n",
       "    }\n",
       "\n",
       "    .dataframe tbody tr th {\n",
       "        vertical-align: top;\n",
       "    }\n",
       "\n",
       "    .dataframe thead th {\n",
       "        text-align: right;\n",
       "    }\n",
       "</style>\n",
       "<table border=\"1\" class=\"dataframe\">\n",
       "  <thead>\n",
       "    <tr style=\"text-align: right;\">\n",
       "      <th></th>\n",
       "      <th>Date</th>\n",
       "      <th>Location</th>\n",
       "      <th>MinTemp</th>\n",
       "      <th>MaxTemp</th>\n",
       "      <th>Rainfall</th>\n",
       "      <th>Evaporation</th>\n",
       "      <th>Sunshine</th>\n",
       "      <th>WindGustDir</th>\n",
       "      <th>WindGustSpeed</th>\n",
       "      <th>WindDir9am</th>\n",
       "      <th>...</th>\n",
       "      <th>Temp9am</th>\n",
       "      <th>Temp3pm</th>\n",
       "      <th>RainToday</th>\n",
       "      <th>RainTomorrow</th>\n",
       "      <th>Temp</th>\n",
       "      <th>Humidity</th>\n",
       "      <th>Pressure</th>\n",
       "      <th>Cloud</th>\n",
       "      <th>Temp1</th>\n",
       "      <th>WindSpeed</th>\n",
       "    </tr>\n",
       "  </thead>\n",
       "  <tbody>\n",
       "    <tr>\n",
       "      <th>0</th>\n",
       "      <td>7/2/2014</td>\n",
       "      <td>CoffsHarbour</td>\n",
       "      <td>17.7</td>\n",
       "      <td>25.9</td>\n",
       "      <td>2.2</td>\n",
       "      <td>1.6</td>\n",
       "      <td>NaN</td>\n",
       "      <td>NNE</td>\n",
       "      <td>31.0</td>\n",
       "      <td>SW</td>\n",
       "      <td>...</td>\n",
       "      <td>21.5</td>\n",
       "      <td>24.2</td>\n",
       "      <td>Yes</td>\n",
       "      <td>No</td>\n",
       "      <td>21.80</td>\n",
       "      <td>71.0</td>\n",
       "      <td>1016.90</td>\n",
       "      <td>5.5</td>\n",
       "      <td>22.85</td>\n",
       "      <td>13.0</td>\n",
       "    </tr>\n",
       "    <tr>\n",
       "      <th>1</th>\n",
       "      <td>23-04-2009</td>\n",
       "      <td>Portland</td>\n",
       "      <td>6.7</td>\n",
       "      <td>22.0</td>\n",
       "      <td>0.0</td>\n",
       "      <td>5.4</td>\n",
       "      <td>0.4</td>\n",
       "      <td>NNE</td>\n",
       "      <td>44.0</td>\n",
       "      <td>NE</td>\n",
       "      <td>...</td>\n",
       "      <td>14.0</td>\n",
       "      <td>21.8</td>\n",
       "      <td>No</td>\n",
       "      <td>Yes</td>\n",
       "      <td>14.35</td>\n",
       "      <td>51.0</td>\n",
       "      <td>1011.40</td>\n",
       "      <td>7.5</td>\n",
       "      <td>17.90</td>\n",
       "      <td>16.0</td>\n",
       "    </tr>\n",
       "    <tr>\n",
       "      <th>2</th>\n",
       "      <td>8/11/2015</td>\n",
       "      <td>Watsonia</td>\n",
       "      <td>6.2</td>\n",
       "      <td>25.7</td>\n",
       "      <td>0.0</td>\n",
       "      <td>4.2</td>\n",
       "      <td>10.9</td>\n",
       "      <td>WSW</td>\n",
       "      <td>20.0</td>\n",
       "      <td>SE</td>\n",
       "      <td>...</td>\n",
       "      <td>12.8</td>\n",
       "      <td>23.6</td>\n",
       "      <td>No</td>\n",
       "      <td>No</td>\n",
       "      <td>15.95</td>\n",
       "      <td>49.5</td>\n",
       "      <td>1020.95</td>\n",
       "      <td>4.5</td>\n",
       "      <td>18.20</td>\n",
       "      <td>6.5</td>\n",
       "    </tr>\n",
       "  </tbody>\n",
       "</table>\n",
       "<p>3 rows × 29 columns</p>\n",
       "</div>"
      ],
      "text/plain": [
       "         Date      Location  MinTemp  MaxTemp  Rainfall  Evaporation  \\\n",
       "0    7/2/2014  CoffsHarbour     17.7     25.9       2.2          1.6   \n",
       "1  23-04-2009      Portland      6.7     22.0       0.0          5.4   \n",
       "2   8/11/2015      Watsonia      6.2     25.7       0.0          4.2   \n",
       "\n",
       "   Sunshine WindGustDir  WindGustSpeed WindDir9am  ... Temp9am  Temp3pm  \\\n",
       "0       NaN         NNE           31.0         SW  ...    21.5     24.2   \n",
       "1       0.4         NNE           44.0         NE  ...    14.0     21.8   \n",
       "2      10.9         WSW           20.0         SE  ...    12.8     23.6   \n",
       "\n",
       "   RainToday  RainTomorrow   Temp  Humidity  Pressure  Cloud  Temp1  WindSpeed  \n",
       "0        Yes            No  21.80      71.0   1016.90    5.5  22.85       13.0  \n",
       "1         No           Yes  14.35      51.0   1011.40    7.5  17.90       16.0  \n",
       "2         No            No  15.95      49.5   1020.95    4.5  18.20        6.5  \n",
       "\n",
       "[3 rows x 29 columns]"
      ]
     },
     "execution_count": 6,
     "metadata": {},
     "output_type": "execute_result"
    }
   ],
   "source": [
    "# Adding the above new columns :\n",
    "data.head(3)"
   ]
  },
  {
   "cell_type": "code",
   "execution_count": 7,
   "id": "5e9ee940",
   "metadata": {},
   "outputs": [
    {
     "data": {
      "text/html": [
       "<div>\n",
       "<style scoped>\n",
       "    .dataframe tbody tr th:only-of-type {\n",
       "        vertical-align: middle;\n",
       "    }\n",
       "\n",
       "    .dataframe tbody tr th {\n",
       "        vertical-align: top;\n",
       "    }\n",
       "\n",
       "    .dataframe thead th {\n",
       "        text-align: right;\n",
       "    }\n",
       "</style>\n",
       "<table border=\"1\" class=\"dataframe\">\n",
       "  <thead>\n",
       "    <tr style=\"text-align: right;\">\n",
       "      <th></th>\n",
       "      <th>Date</th>\n",
       "      <th>Location</th>\n",
       "      <th>MinTemp</th>\n",
       "      <th>Rainfall</th>\n",
       "      <th>Evaporation</th>\n",
       "      <th>Sunshine</th>\n",
       "      <th>WindGustDir</th>\n",
       "      <th>WindGustSpeed</th>\n",
       "      <th>WindDir9am</th>\n",
       "      <th>WindDir3pm</th>\n",
       "      <th>RainToday</th>\n",
       "      <th>RainTomorrow</th>\n",
       "      <th>Temp</th>\n",
       "      <th>Humidity</th>\n",
       "      <th>Pressure</th>\n",
       "      <th>Cloud</th>\n",
       "      <th>Temp1</th>\n",
       "      <th>WindSpeed</th>\n",
       "    </tr>\n",
       "  </thead>\n",
       "  <tbody>\n",
       "    <tr>\n",
       "      <th>0</th>\n",
       "      <td>7/2/2014</td>\n",
       "      <td>CoffsHarbour</td>\n",
       "      <td>17.7</td>\n",
       "      <td>2.2</td>\n",
       "      <td>1.6</td>\n",
       "      <td>NaN</td>\n",
       "      <td>NNE</td>\n",
       "      <td>31.0</td>\n",
       "      <td>SW</td>\n",
       "      <td>ESE</td>\n",
       "      <td>Yes</td>\n",
       "      <td>No</td>\n",
       "      <td>21.80</td>\n",
       "      <td>71.0</td>\n",
       "      <td>1016.90</td>\n",
       "      <td>5.5</td>\n",
       "      <td>22.85</td>\n",
       "      <td>13.0</td>\n",
       "    </tr>\n",
       "    <tr>\n",
       "      <th>1</th>\n",
       "      <td>23-04-2009</td>\n",
       "      <td>Portland</td>\n",
       "      <td>6.7</td>\n",
       "      <td>0.0</td>\n",
       "      <td>5.4</td>\n",
       "      <td>0.4</td>\n",
       "      <td>NNE</td>\n",
       "      <td>44.0</td>\n",
       "      <td>NE</td>\n",
       "      <td>NNE</td>\n",
       "      <td>No</td>\n",
       "      <td>Yes</td>\n",
       "      <td>14.35</td>\n",
       "      <td>51.0</td>\n",
       "      <td>1011.40</td>\n",
       "      <td>7.5</td>\n",
       "      <td>17.90</td>\n",
       "      <td>16.0</td>\n",
       "    </tr>\n",
       "    <tr>\n",
       "      <th>2</th>\n",
       "      <td>8/11/2015</td>\n",
       "      <td>Watsonia</td>\n",
       "      <td>6.2</td>\n",
       "      <td>0.0</td>\n",
       "      <td>4.2</td>\n",
       "      <td>10.9</td>\n",
       "      <td>WSW</td>\n",
       "      <td>20.0</td>\n",
       "      <td>SE</td>\n",
       "      <td>E</td>\n",
       "      <td>No</td>\n",
       "      <td>No</td>\n",
       "      <td>15.95</td>\n",
       "      <td>49.5</td>\n",
       "      <td>1020.95</td>\n",
       "      <td>4.5</td>\n",
       "      <td>18.20</td>\n",
       "      <td>6.5</td>\n",
       "    </tr>\n",
       "    <tr>\n",
       "      <th>3</th>\n",
       "      <td>21-11-2012</td>\n",
       "      <td>Wollongong</td>\n",
       "      <td>13.8</td>\n",
       "      <td>0.0</td>\n",
       "      <td>NaN</td>\n",
       "      <td>NaN</td>\n",
       "      <td>SSW</td>\n",
       "      <td>70.0</td>\n",
       "      <td>N</td>\n",
       "      <td>NE</td>\n",
       "      <td>No</td>\n",
       "      <td>No</td>\n",
       "      <td>18.30</td>\n",
       "      <td>70.5</td>\n",
       "      <td>1013.80</td>\n",
       "      <td>NaN</td>\n",
       "      <td>19.75</td>\n",
       "      <td>28.0</td>\n",
       "    </tr>\n",
       "    <tr>\n",
       "      <th>4</th>\n",
       "      <td>30-07-2013</td>\n",
       "      <td>Townsville</td>\n",
       "      <td>13.4</td>\n",
       "      <td>0.0</td>\n",
       "      <td>6.0</td>\n",
       "      <td>10.2</td>\n",
       "      <td>ENE</td>\n",
       "      <td>30.0</td>\n",
       "      <td>SSW</td>\n",
       "      <td>NNW</td>\n",
       "      <td>No</td>\n",
       "      <td>No</td>\n",
       "      <td>20.30</td>\n",
       "      <td>53.5</td>\n",
       "      <td>1014.30</td>\n",
       "      <td>1.0</td>\n",
       "      <td>23.65</td>\n",
       "      <td>11.0</td>\n",
       "    </tr>\n",
       "  </tbody>\n",
       "</table>\n",
       "</div>"
      ],
      "text/plain": [
       "         Date      Location  MinTemp  Rainfall  Evaporation  Sunshine  \\\n",
       "0    7/2/2014  CoffsHarbour     17.7       2.2          1.6       NaN   \n",
       "1  23-04-2009      Portland      6.7       0.0          5.4       0.4   \n",
       "2   8/11/2015      Watsonia      6.2       0.0          4.2      10.9   \n",
       "3  21-11-2012    Wollongong     13.8       0.0          NaN       NaN   \n",
       "4  30-07-2013    Townsville     13.4       0.0          6.0      10.2   \n",
       "\n",
       "  WindGustDir  WindGustSpeed WindDir9am WindDir3pm RainToday RainTomorrow  \\\n",
       "0         NNE           31.0         SW        ESE       Yes           No   \n",
       "1         NNE           44.0         NE        NNE        No          Yes   \n",
       "2         WSW           20.0         SE          E        No           No   \n",
       "3         SSW           70.0          N         NE        No           No   \n",
       "4         ENE           30.0        SSW        NNW        No           No   \n",
       "\n",
       "    Temp  Humidity  Pressure  Cloud  Temp1  WindSpeed  \n",
       "0  21.80      71.0   1016.90    5.5  22.85       13.0  \n",
       "1  14.35      51.0   1011.40    7.5  17.90       16.0  \n",
       "2  15.95      49.5   1020.95    4.5  18.20        6.5  \n",
       "3  18.30      70.5   1013.80    NaN  19.75       28.0  \n",
       "4  20.30      53.5   1014.30    1.0  23.65       11.0  "
      ]
     },
     "execution_count": 7,
     "metadata": {},
     "output_type": "execute_result"
    }
   ],
   "source": [
    "# Dropping  the respective extra columns \n",
    "data=data.drop(['MaxTemp','Humidity9am','Humidity3pm','Pressure9am','Pressure3pm','Cloud9am','Cloud3pm','Temp9am','Temp3pm','WindSpeed9am','WindSpeed3pm'],axis=1)\n",
    "data.head(5)\n"
   ]
  },
  {
   "cell_type": "code",
   "execution_count": 8,
   "id": "24f37c33",
   "metadata": {},
   "outputs": [
    {
     "data": {
      "text/html": [
       "<div>\n",
       "<style scoped>\n",
       "    .dataframe tbody tr th:only-of-type {\n",
       "        vertical-align: middle;\n",
       "    }\n",
       "\n",
       "    .dataframe tbody tr th {\n",
       "        vertical-align: top;\n",
       "    }\n",
       "\n",
       "    .dataframe thead th {\n",
       "        text-align: right;\n",
       "    }\n",
       "</style>\n",
       "<table border=\"1\" class=\"dataframe\">\n",
       "  <thead>\n",
       "    <tr style=\"text-align: right;\">\n",
       "      <th></th>\n",
       "      <th>MinTemp</th>\n",
       "      <th>Rainfall</th>\n",
       "      <th>Evaporation</th>\n",
       "      <th>Sunshine</th>\n",
       "      <th>WindGustSpeed</th>\n",
       "      <th>Temp</th>\n",
       "      <th>Humidity</th>\n",
       "      <th>Pressure</th>\n",
       "      <th>Cloud</th>\n",
       "      <th>Temp1</th>\n",
       "      <th>WindSpeed</th>\n",
       "    </tr>\n",
       "  </thead>\n",
       "  <tbody>\n",
       "    <tr>\n",
       "      <th>0</th>\n",
       "      <td>17.7</td>\n",
       "      <td>2.2</td>\n",
       "      <td>1.6</td>\n",
       "      <td>NaN</td>\n",
       "      <td>31.0</td>\n",
       "      <td>21.80</td>\n",
       "      <td>71.0</td>\n",
       "      <td>1016.90</td>\n",
       "      <td>5.5</td>\n",
       "      <td>22.85</td>\n",
       "      <td>13.0</td>\n",
       "    </tr>\n",
       "    <tr>\n",
       "      <th>1</th>\n",
       "      <td>6.7</td>\n",
       "      <td>0.0</td>\n",
       "      <td>5.4</td>\n",
       "      <td>0.4</td>\n",
       "      <td>44.0</td>\n",
       "      <td>14.35</td>\n",
       "      <td>51.0</td>\n",
       "      <td>1011.40</td>\n",
       "      <td>7.5</td>\n",
       "      <td>17.90</td>\n",
       "      <td>16.0</td>\n",
       "    </tr>\n",
       "    <tr>\n",
       "      <th>2</th>\n",
       "      <td>6.2</td>\n",
       "      <td>0.0</td>\n",
       "      <td>4.2</td>\n",
       "      <td>10.9</td>\n",
       "      <td>20.0</td>\n",
       "      <td>15.95</td>\n",
       "      <td>49.5</td>\n",
       "      <td>1020.95</td>\n",
       "      <td>4.5</td>\n",
       "      <td>18.20</td>\n",
       "      <td>6.5</td>\n",
       "    </tr>\n",
       "    <tr>\n",
       "      <th>3</th>\n",
       "      <td>13.8</td>\n",
       "      <td>0.0</td>\n",
       "      <td>NaN</td>\n",
       "      <td>NaN</td>\n",
       "      <td>70.0</td>\n",
       "      <td>18.30</td>\n",
       "      <td>70.5</td>\n",
       "      <td>1013.80</td>\n",
       "      <td>NaN</td>\n",
       "      <td>19.75</td>\n",
       "      <td>28.0</td>\n",
       "    </tr>\n",
       "  </tbody>\n",
       "</table>\n",
       "</div>"
      ],
      "text/plain": [
       "   MinTemp  Rainfall  Evaporation  Sunshine  WindGustSpeed   Temp  Humidity  \\\n",
       "0     17.7       2.2          1.6       NaN           31.0  21.80      71.0   \n",
       "1      6.7       0.0          5.4       0.4           44.0  14.35      51.0   \n",
       "2      6.2       0.0          4.2      10.9           20.0  15.95      49.5   \n",
       "3     13.8       0.0          NaN       NaN           70.0  18.30      70.5   \n",
       "\n",
       "   Pressure  Cloud  Temp1  WindSpeed  \n",
       "0   1016.90    5.5  22.85       13.0  \n",
       "1   1011.40    7.5  17.90       16.0  \n",
       "2   1020.95    4.5  18.20        6.5  \n",
       "3   1013.80    NaN  19.75       28.0  "
      ]
     },
     "execution_count": 8,
     "metadata": {},
     "output_type": "execute_result"
    }
   ],
   "source": [
    "# Deriving numerical data in order to preprocess them .\n",
    "num_data=data.select_dtypes(include=np.number)\n",
    "num_data.head(4)"
   ]
  },
  {
   "cell_type": "code",
   "execution_count": 9,
   "id": "2e4809d5",
   "metadata": {},
   "outputs": [
    {
     "data": {
      "text/plain": [
       "Date                 0\n",
       "Location             0\n",
       "MinTemp            436\n",
       "Rainfall           970\n",
       "Evaporation      42633\n",
       "Sunshine         47482\n",
       "WindGustDir       6581\n",
       "WindGustSpeed     6540\n",
       "WindDir9am        7062\n",
       "WindDir3pm        2691\n",
       "RainToday          970\n",
       "RainTomorrow         0\n",
       "Temp               593\n",
       "Humidity          3006\n",
       "Pressure          9965\n",
       "Cloud            42812\n",
       "Temp1             2291\n",
       "WindSpeed         2177\n",
       "dtype: int64"
      ]
     },
     "execution_count": 9,
     "metadata": {},
     "output_type": "execute_result"
    }
   ],
   "source": [
    "# Missing Value Imputation \n",
    "# Finding out missing values\n",
    "data.isnull().sum()"
   ]
  },
  {
   "cell_type": "code",
   "execution_count": 10,
   "id": "8093738b",
   "metadata": {},
   "outputs": [
    {
     "data": {
      "text/plain": [
       "Date              0.000\n",
       "Location          0.000\n",
       "MinTemp           0.436\n",
       "Rainfall          0.970\n",
       "Evaporation      42.633\n",
       "Sunshine         47.482\n",
       "WindGustDir       6.581\n",
       "WindGustSpeed     6.540\n",
       "WindDir9am        7.062\n",
       "WindDir3pm        2.691\n",
       "RainToday         0.970\n",
       "RainTomorrow      0.000\n",
       "Temp              0.593\n",
       "Humidity          3.006\n",
       "Pressure          9.965\n",
       "Cloud            42.812\n",
       "Temp1             2.291\n",
       "WindSpeed         2.177\n",
       "dtype: float64"
      ]
     },
     "execution_count": 10,
     "metadata": {},
     "output_type": "execute_result"
    }
   ],
   "source": [
    "# Finding out the percentage of missing values in each column\n",
    "data.isnull().sum()/len(data)*100"
   ]
  },
  {
   "cell_type": "code",
   "execution_count": 95,
   "id": "fe19b4e1",
   "metadata": {
    "scrolled": true
   },
   "outputs": [
    {
     "data": {
      "text/plain": [
       "Date              0.000\n",
       "Location          0.000\n",
       "MinTemp           0.000\n",
       "Rainfall          0.000\n",
       "Evaporation       0.000\n",
       "Sunshine         47.482\n",
       "WindGustDir       6.581\n",
       "WindGustSpeed     0.000\n",
       "WindDir9am        7.062\n",
       "WindDir3pm        2.691\n",
       "RainToday         0.970\n",
       "RainTomorrow      0.000\n",
       "Temp              0.000\n",
       "Humidity          0.000\n",
       "Pressure          0.000\n",
       "Cloud             0.000\n",
       "Temp1             0.000\n",
       "WindSpeed         0.000\n",
       "Month             0.000\n",
       "dtype: float64"
      ]
     },
     "execution_count": 95,
     "metadata": {},
     "output_type": "execute_result"
    }
   ],
   "source": [
    "# Imputing the missing values of the below columns with Mean \n",
    "data['Cloud']=data['Cloud'].fillna(data['Cloud'].mean())\n",
    "data['Pressure']=data['Pressure'].fillna(data['Pressure'].mean())\n",
    "data['Humidity']=data['Humidity'].fillna(data['Humidity'].mean())\n",
    "data['Temp']=data['Temp'].fillna(data['Temp'].mean())\n",
    "data['Temp1']=data['Temp1'].fillna(data['Temp1'].mean())\n",
    "data['Rainfall']=data['Rainfall'].fillna(data['Rainfall'].mean())\n",
    "data['WindSpeed']=data['WindSpeed'].fillna(data['WindSpeed'].mean())\n",
    "data['WindGustSpeed']=data['WindGustSpeed'].fillna(data['WindGustSpeed'].mean())\n",
    "data['Evaporation']=data['Evaporation'].fillna(data['Evaporation'].mean())\n",
    "data['MinTemp']=data['MinTemp'].fillna(data['MinTemp'].mean())\n",
    "data.isnull().sum()/len(data)*100\n",
    "\n"
   ]
  },
  {
   "cell_type": "markdown",
   "id": "3317a1db",
   "metadata": {},
   "source": [
    "# 1. Find the windy (Highest wind speed and frequent high-speed winds) places to build a windmill. Also find the sunny places to setup a solar field. Take values more than 75 percentile as minimum values for analysis"
   ]
  },
  {
   "cell_type": "code",
   "execution_count": 96,
   "id": "69aa0d14",
   "metadata": {},
   "outputs": [
    {
     "data": {
      "text/plain": [
       "20.5"
      ]
     },
     "execution_count": 96,
     "metadata": {},
     "output_type": "execute_result"
    }
   ],
   "source": [
    "# We first find the Wind Speed value at 75 percentile\n",
    "data['WindSpeed']\n",
    "data75=data['WindSpeed'].quantile(0.75)\n",
    "data75 # Hence the wind speed is 20.5 at 75th percentile."
   ]
  },
  {
   "cell_type": "code",
   "execution_count": 97,
   "id": "6d6d5ce6",
   "metadata": {},
   "outputs": [
    {
     "data": {
      "text/html": [
       "<div>\n",
       "<style scoped>\n",
       "    .dataframe tbody tr th:only-of-type {\n",
       "        vertical-align: middle;\n",
       "    }\n",
       "\n",
       "    .dataframe tbody tr th {\n",
       "        vertical-align: top;\n",
       "    }\n",
       "\n",
       "    .dataframe thead th {\n",
       "        text-align: right;\n",
       "    }\n",
       "</style>\n",
       "<table border=\"1\" class=\"dataframe\">\n",
       "  <thead>\n",
       "    <tr style=\"text-align: right;\">\n",
       "      <th></th>\n",
       "      <th>Date</th>\n",
       "      <th>Location</th>\n",
       "      <th>MinTemp</th>\n",
       "      <th>Rainfall</th>\n",
       "      <th>Evaporation</th>\n",
       "      <th>Sunshine</th>\n",
       "      <th>WindGustDir</th>\n",
       "      <th>WindGustSpeed</th>\n",
       "      <th>WindDir9am</th>\n",
       "      <th>WindDir3pm</th>\n",
       "      <th>RainToday</th>\n",
       "      <th>RainTomorrow</th>\n",
       "      <th>Temp</th>\n",
       "      <th>Humidity</th>\n",
       "      <th>Pressure</th>\n",
       "      <th>Cloud</th>\n",
       "      <th>Temp1</th>\n",
       "      <th>WindSpeed</th>\n",
       "      <th>Month</th>\n",
       "    </tr>\n",
       "  </thead>\n",
       "  <tbody>\n",
       "    <tr>\n",
       "      <th>3</th>\n",
       "      <td>2012-11-21</td>\n",
       "      <td>Wollongong</td>\n",
       "      <td>13.8</td>\n",
       "      <td>0.0</td>\n",
       "      <td>5.467535</td>\n",
       "      <td>NaN</td>\n",
       "      <td>SSW</td>\n",
       "      <td>70.0</td>\n",
       "      <td>N</td>\n",
       "      <td>NE</td>\n",
       "      <td>No</td>\n",
       "      <td>No</td>\n",
       "      <td>18.30</td>\n",
       "      <td>70.5</td>\n",
       "      <td>1013.80</td>\n",
       "      <td>4.476193</td>\n",
       "      <td>19.75</td>\n",
       "      <td>28.0</td>\n",
       "      <td>November</td>\n",
       "    </tr>\n",
       "    <tr>\n",
       "      <th>10</th>\n",
       "      <td>2012-03-31</td>\n",
       "      <td>Dartmoor</td>\n",
       "      <td>11.1</td>\n",
       "      <td>0.0</td>\n",
       "      <td>7.000000</td>\n",
       "      <td>8.1</td>\n",
       "      <td>WNW</td>\n",
       "      <td>39.0</td>\n",
       "      <td>W</td>\n",
       "      <td>W</td>\n",
       "      <td>No</td>\n",
       "      <td>No</td>\n",
       "      <td>16.45</td>\n",
       "      <td>65.0</td>\n",
       "      <td>1013.60</td>\n",
       "      <td>4.476193</td>\n",
       "      <td>18.30</td>\n",
       "      <td>23.0</td>\n",
       "      <td>March</td>\n",
       "    </tr>\n",
       "    <tr>\n",
       "      <th>12</th>\n",
       "      <td>2012-02-26</td>\n",
       "      <td>Ballarat</td>\n",
       "      <td>20.6</td>\n",
       "      <td>0.0</td>\n",
       "      <td>5.467535</td>\n",
       "      <td>NaN</td>\n",
       "      <td>N</td>\n",
       "      <td>65.0</td>\n",
       "      <td>NNE</td>\n",
       "      <td>N</td>\n",
       "      <td>No</td>\n",
       "      <td>Yes</td>\n",
       "      <td>26.45</td>\n",
       "      <td>54.0</td>\n",
       "      <td>1010.95</td>\n",
       "      <td>3.500000</td>\n",
       "      <td>26.20</td>\n",
       "      <td>38.0</td>\n",
       "      <td>February</td>\n",
       "    </tr>\n",
       "    <tr>\n",
       "      <th>16</th>\n",
       "      <td>2014-04-11</td>\n",
       "      <td>Mildura</td>\n",
       "      <td>12.5</td>\n",
       "      <td>0.0</td>\n",
       "      <td>7.600000</td>\n",
       "      <td>11.5</td>\n",
       "      <td>SW</td>\n",
       "      <td>48.0</td>\n",
       "      <td>N</td>\n",
       "      <td>W</td>\n",
       "      <td>No</td>\n",
       "      <td>No</td>\n",
       "      <td>23.20</td>\n",
       "      <td>9.0</td>\n",
       "      <td>1014.85</td>\n",
       "      <td>4.000000</td>\n",
       "      <td>27.75</td>\n",
       "      <td>24.0</td>\n",
       "      <td>April</td>\n",
       "    </tr>\n",
       "    <tr>\n",
       "      <th>20</th>\n",
       "      <td>2009-04-26</td>\n",
       "      <td>MelbourneAirport</td>\n",
       "      <td>7.2</td>\n",
       "      <td>1.8</td>\n",
       "      <td>5.200000</td>\n",
       "      <td>4.2</td>\n",
       "      <td>W</td>\n",
       "      <td>81.0</td>\n",
       "      <td>NNW</td>\n",
       "      <td>WNW</td>\n",
       "      <td>Yes</td>\n",
       "      <td>Yes</td>\n",
       "      <td>10.15</td>\n",
       "      <td>65.0</td>\n",
       "      <td>998.40</td>\n",
       "      <td>7.000000</td>\n",
       "      <td>10.35</td>\n",
       "      <td>39.0</td>\n",
       "      <td>April</td>\n",
       "    </tr>\n",
       "    <tr>\n",
       "      <th>...</th>\n",
       "      <td>...</td>\n",
       "      <td>...</td>\n",
       "      <td>...</td>\n",
       "      <td>...</td>\n",
       "      <td>...</td>\n",
       "      <td>...</td>\n",
       "      <td>...</td>\n",
       "      <td>...</td>\n",
       "      <td>...</td>\n",
       "      <td>...</td>\n",
       "      <td>...</td>\n",
       "      <td>...</td>\n",
       "      <td>...</td>\n",
       "      <td>...</td>\n",
       "      <td>...</td>\n",
       "      <td>...</td>\n",
       "      <td>...</td>\n",
       "      <td>...</td>\n",
       "      <td>...</td>\n",
       "    </tr>\n",
       "    <tr>\n",
       "      <th>99985</th>\n",
       "      <td>2014-08-10</td>\n",
       "      <td>Sale</td>\n",
       "      <td>7.4</td>\n",
       "      <td>0.2</td>\n",
       "      <td>5.467535</td>\n",
       "      <td>NaN</td>\n",
       "      <td>W</td>\n",
       "      <td>52.0</td>\n",
       "      <td>W</td>\n",
       "      <td>WSW</td>\n",
       "      <td>No</td>\n",
       "      <td>No</td>\n",
       "      <td>12.55</td>\n",
       "      <td>64.0</td>\n",
       "      <td>1019.55</td>\n",
       "      <td>3.500000</td>\n",
       "      <td>14.70</td>\n",
       "      <td>27.5</td>\n",
       "      <td>August</td>\n",
       "    </tr>\n",
       "    <tr>\n",
       "      <th>99993</th>\n",
       "      <td>2010-07-05</td>\n",
       "      <td>MelbourneAirport</td>\n",
       "      <td>8.3</td>\n",
       "      <td>0.0</td>\n",
       "      <td>2.400000</td>\n",
       "      <td>0.7</td>\n",
       "      <td>N</td>\n",
       "      <td>41.0</td>\n",
       "      <td>N</td>\n",
       "      <td>NW</td>\n",
       "      <td>No</td>\n",
       "      <td>Yes</td>\n",
       "      <td>14.00</td>\n",
       "      <td>67.5</td>\n",
       "      <td>1019.80</td>\n",
       "      <td>7.000000</td>\n",
       "      <td>15.95</td>\n",
       "      <td>23.0</td>\n",
       "      <td>July</td>\n",
       "    </tr>\n",
       "    <tr>\n",
       "      <th>99994</th>\n",
       "      <td>2014-06-16</td>\n",
       "      <td>Uluru</td>\n",
       "      <td>4.0</td>\n",
       "      <td>0.0</td>\n",
       "      <td>5.467535</td>\n",
       "      <td>NaN</td>\n",
       "      <td>E</td>\n",
       "      <td>44.0</td>\n",
       "      <td>ESE</td>\n",
       "      <td>E</td>\n",
       "      <td>No</td>\n",
       "      <td>No</td>\n",
       "      <td>10.90</td>\n",
       "      <td>51.0</td>\n",
       "      <td>1027.05</td>\n",
       "      <td>4.476193</td>\n",
       "      <td>12.80</td>\n",
       "      <td>22.5</td>\n",
       "      <td>June</td>\n",
       "    </tr>\n",
       "    <tr>\n",
       "      <th>99995</th>\n",
       "      <td>2013-01-27</td>\n",
       "      <td>AliceSprings</td>\n",
       "      <td>17.6</td>\n",
       "      <td>0.0</td>\n",
       "      <td>15.600000</td>\n",
       "      <td>12.9</td>\n",
       "      <td>SE</td>\n",
       "      <td>44.0</td>\n",
       "      <td>SE</td>\n",
       "      <td>SE</td>\n",
       "      <td>No</td>\n",
       "      <td>No</td>\n",
       "      <td>26.00</td>\n",
       "      <td>15.0</td>\n",
       "      <td>1008.75</td>\n",
       "      <td>1.000000</td>\n",
       "      <td>29.55</td>\n",
       "      <td>26.0</td>\n",
       "      <td>January</td>\n",
       "    </tr>\n",
       "    <tr>\n",
       "      <th>99996</th>\n",
       "      <td>2010-08-14</td>\n",
       "      <td>Melbourne</td>\n",
       "      <td>10.2</td>\n",
       "      <td>0.0</td>\n",
       "      <td>3.800000</td>\n",
       "      <td>3.8</td>\n",
       "      <td>N</td>\n",
       "      <td>89.0</td>\n",
       "      <td>N</td>\n",
       "      <td>N</td>\n",
       "      <td>No</td>\n",
       "      <td>No</td>\n",
       "      <td>13.05</td>\n",
       "      <td>50.5</td>\n",
       "      <td>1004.05</td>\n",
       "      <td>7.000000</td>\n",
       "      <td>14.10</td>\n",
       "      <td>50.5</td>\n",
       "      <td>August</td>\n",
       "    </tr>\n",
       "  </tbody>\n",
       "</table>\n",
       "<p>24361 rows × 19 columns</p>\n",
       "</div>"
      ],
      "text/plain": [
       "            Date          Location  MinTemp  Rainfall  Evaporation  Sunshine  \\\n",
       "3     2012-11-21        Wollongong     13.8       0.0     5.467535       NaN   \n",
       "10    2012-03-31          Dartmoor     11.1       0.0     7.000000       8.1   \n",
       "12    2012-02-26          Ballarat     20.6       0.0     5.467535       NaN   \n",
       "16    2014-04-11           Mildura     12.5       0.0     7.600000      11.5   \n",
       "20    2009-04-26  MelbourneAirport      7.2       1.8     5.200000       4.2   \n",
       "...          ...               ...      ...       ...          ...       ...   \n",
       "99985 2014-08-10              Sale      7.4       0.2     5.467535       NaN   \n",
       "99993 2010-07-05  MelbourneAirport      8.3       0.0     2.400000       0.7   \n",
       "99994 2014-06-16             Uluru      4.0       0.0     5.467535       NaN   \n",
       "99995 2013-01-27      AliceSprings     17.6       0.0    15.600000      12.9   \n",
       "99996 2010-08-14         Melbourne     10.2       0.0     3.800000       3.8   \n",
       "\n",
       "      WindGustDir  WindGustSpeed WindDir9am WindDir3pm RainToday RainTomorrow  \\\n",
       "3             SSW           70.0          N         NE        No           No   \n",
       "10            WNW           39.0          W          W        No           No   \n",
       "12              N           65.0        NNE          N        No          Yes   \n",
       "16             SW           48.0          N          W        No           No   \n",
       "20              W           81.0        NNW        WNW       Yes          Yes   \n",
       "...           ...            ...        ...        ...       ...          ...   \n",
       "99985           W           52.0          W        WSW        No           No   \n",
       "99993           N           41.0          N         NW        No          Yes   \n",
       "99994           E           44.0        ESE          E        No           No   \n",
       "99995          SE           44.0         SE         SE        No           No   \n",
       "99996           N           89.0          N          N        No           No   \n",
       "\n",
       "        Temp  Humidity  Pressure     Cloud  Temp1  WindSpeed     Month  \n",
       "3      18.30      70.5   1013.80  4.476193  19.75       28.0  November  \n",
       "10     16.45      65.0   1013.60  4.476193  18.30       23.0     March  \n",
       "12     26.45      54.0   1010.95  3.500000  26.20       38.0  February  \n",
       "16     23.20       9.0   1014.85  4.000000  27.75       24.0     April  \n",
       "20     10.15      65.0    998.40  7.000000  10.35       39.0     April  \n",
       "...      ...       ...       ...       ...    ...        ...       ...  \n",
       "99985  12.55      64.0   1019.55  3.500000  14.70       27.5    August  \n",
       "99993  14.00      67.5   1019.80  7.000000  15.95       23.0      July  \n",
       "99994  10.90      51.0   1027.05  4.476193  12.80       22.5      June  \n",
       "99995  26.00      15.0   1008.75  1.000000  29.55       26.0   January  \n",
       "99996  13.05      50.5   1004.05  7.000000  14.10       50.5    August  \n",
       "\n",
       "[24361 rows x 19 columns]"
      ]
     },
     "execution_count": 97,
     "metadata": {},
     "output_type": "execute_result"
    }
   ],
   "source": [
    "# Defining data_Highwinds  as those wind speeds above 75 percentile \n",
    "data_HighWinds=data[data['WindSpeed']>data75]\n",
    "data_HighWinds \n",
    "# If you notice the column: WindSpeed in the below table, you can notice that Wind Speed is all more than 75th percentile which is 20.5\n"
   ]
  },
  {
   "cell_type": "code",
   "execution_count": 98,
   "id": "4156cc56",
   "metadata": {},
   "outputs": [
    {
     "data": {
      "text/html": [
       "<div>\n",
       "<style scoped>\n",
       "    .dataframe tbody tr th:only-of-type {\n",
       "        vertical-align: middle;\n",
       "    }\n",
       "\n",
       "    .dataframe tbody tr th {\n",
       "        vertical-align: top;\n",
       "    }\n",
       "\n",
       "    .dataframe thead th {\n",
       "        text-align: right;\n",
       "    }\n",
       "</style>\n",
       "<table border=\"1\" class=\"dataframe\">\n",
       "  <thead>\n",
       "    <tr style=\"text-align: right;\">\n",
       "      <th></th>\n",
       "      <th>HighWindsLocation</th>\n",
       "      <th>Frequency</th>\n",
       "    </tr>\n",
       "  </thead>\n",
       "  <tbody>\n",
       "    <tr>\n",
       "      <th>0</th>\n",
       "      <td>Ballarat</td>\n",
       "      <td>1081</td>\n",
       "    </tr>\n",
       "    <tr>\n",
       "      <th>1</th>\n",
       "      <td>GoldCoast</td>\n",
       "      <td>1076</td>\n",
       "    </tr>\n",
       "    <tr>\n",
       "      <th>2</th>\n",
       "      <td>SydneyAirport</td>\n",
       "      <td>1040</td>\n",
       "    </tr>\n",
       "    <tr>\n",
       "      <th>3</th>\n",
       "      <td>NorfolkIsland</td>\n",
       "      <td>1005</td>\n",
       "    </tr>\n",
       "    <tr>\n",
       "      <th>4</th>\n",
       "      <td>MelbourneAirport</td>\n",
       "      <td>987</td>\n",
       "    </tr>\n",
       "    <tr>\n",
       "      <th>5</th>\n",
       "      <td>MountGambier</td>\n",
       "      <td>904</td>\n",
       "    </tr>\n",
       "    <tr>\n",
       "      <th>6</th>\n",
       "      <td>Townsville</td>\n",
       "      <td>889</td>\n",
       "    </tr>\n",
       "    <tr>\n",
       "      <th>7</th>\n",
       "      <td>Woomera</td>\n",
       "      <td>884</td>\n",
       "    </tr>\n",
       "    <tr>\n",
       "      <th>8</th>\n",
       "      <td>PerthAirport</td>\n",
       "      <td>868</td>\n",
       "    </tr>\n",
       "    <tr>\n",
       "      <th>9</th>\n",
       "      <td>Cairns</td>\n",
       "      <td>769</td>\n",
       "    </tr>\n",
       "    <tr>\n",
       "      <th>10</th>\n",
       "      <td>Wollongong</td>\n",
       "      <td>766</td>\n",
       "    </tr>\n",
       "    <tr>\n",
       "      <th>11</th>\n",
       "      <td>Melbourne</td>\n",
       "      <td>765</td>\n",
       "    </tr>\n",
       "    <tr>\n",
       "      <th>12</th>\n",
       "      <td>Portland</td>\n",
       "      <td>675</td>\n",
       "    </tr>\n",
       "    <tr>\n",
       "      <th>13</th>\n",
       "      <td>Hobart</td>\n",
       "      <td>665</td>\n",
       "    </tr>\n",
       "    <tr>\n",
       "      <th>14</th>\n",
       "      <td>Sale</td>\n",
       "      <td>647</td>\n",
       "    </tr>\n",
       "    <tr>\n",
       "      <th>15</th>\n",
       "      <td>Williamtown</td>\n",
       "      <td>629</td>\n",
       "    </tr>\n",
       "  </tbody>\n",
       "</table>\n",
       "</div>"
      ],
      "text/plain": [
       "   HighWindsLocation  Frequency\n",
       "0           Ballarat       1081\n",
       "1          GoldCoast       1076\n",
       "2      SydneyAirport       1040\n",
       "3      NorfolkIsland       1005\n",
       "4   MelbourneAirport        987\n",
       "5       MountGambier        904\n",
       "6         Townsville        889\n",
       "7            Woomera        884\n",
       "8       PerthAirport        868\n",
       "9             Cairns        769\n",
       "10        Wollongong        766\n",
       "11         Melbourne        765\n",
       "12          Portland        675\n",
       "13            Hobart        665\n",
       "14              Sale        647\n",
       "15       Williamtown        629"
      ]
     },
     "execution_count": 98,
     "metadata": {},
     "output_type": "execute_result"
    }
   ],
   "source": [
    "# Places where Frequent High winds occur can be found out by finding the value count of locations with HighSpeed Winds.\n",
    "data_FreqWinds=data_HighWinds['Location'].value_counts().reset_index()\n",
    "data_FreqWinds.columns=['HighWindsLocation','Frequency']\n",
    "data_FreqWinds.head(16)\n"
   ]
  },
  {
   "cell_type": "code",
   "execution_count": 99,
   "id": "2df38e86",
   "metadata": {},
   "outputs": [],
   "source": [
    "# Answer: Hence the top 5 places in Australia with highest wind speed are Ballarat, GoldCoast,SydneyAirport,NorFork Island and Melbourne Airport"
   ]
  },
  {
   "cell_type": "code",
   "execution_count": 100,
   "id": "857e28a4",
   "metadata": {},
   "outputs": [
    {
     "data": {
      "text/plain": [
       "10.6"
      ]
     },
     "execution_count": 100,
     "metadata": {},
     "output_type": "execute_result"
    }
   ],
   "source": [
    "# To find the sunny places to set solar fields.\n",
    "# Finding values for sunshine above 75 percentile\n",
    "data['Sunshine']\n",
    "sunshine75=data['Sunshine'].quantile(0.75)\n",
    "sunshine75 # Hence the sunshine is 10.6  at 75th percentile."
   ]
  },
  {
   "cell_type": "code",
   "execution_count": 101,
   "id": "bc6a0eaf",
   "metadata": {},
   "outputs": [
    {
     "data": {
      "text/html": [
       "<div>\n",
       "<style scoped>\n",
       "    .dataframe tbody tr th:only-of-type {\n",
       "        vertical-align: middle;\n",
       "    }\n",
       "\n",
       "    .dataframe tbody tr th {\n",
       "        vertical-align: top;\n",
       "    }\n",
       "\n",
       "    .dataframe thead th {\n",
       "        text-align: right;\n",
       "    }\n",
       "</style>\n",
       "<table border=\"1\" class=\"dataframe\">\n",
       "  <thead>\n",
       "    <tr style=\"text-align: right;\">\n",
       "      <th></th>\n",
       "      <th>Date</th>\n",
       "      <th>Location</th>\n",
       "      <th>MinTemp</th>\n",
       "      <th>Rainfall</th>\n",
       "      <th>Evaporation</th>\n",
       "      <th>Sunshine</th>\n",
       "      <th>WindGustDir</th>\n",
       "      <th>WindGustSpeed</th>\n",
       "      <th>WindDir9am</th>\n",
       "      <th>WindDir3pm</th>\n",
       "      <th>RainToday</th>\n",
       "      <th>RainTomorrow</th>\n",
       "      <th>Temp</th>\n",
       "      <th>Humidity</th>\n",
       "      <th>Pressure</th>\n",
       "      <th>Cloud</th>\n",
       "      <th>Temp1</th>\n",
       "      <th>WindSpeed</th>\n",
       "      <th>Month</th>\n",
       "    </tr>\n",
       "  </thead>\n",
       "  <tbody>\n",
       "    <tr>\n",
       "      <th>2</th>\n",
       "      <td>2015-08-11</td>\n",
       "      <td>Watsonia</td>\n",
       "      <td>6.2</td>\n",
       "      <td>0.0</td>\n",
       "      <td>4.2</td>\n",
       "      <td>10.9</td>\n",
       "      <td>WSW</td>\n",
       "      <td>20.0</td>\n",
       "      <td>SE</td>\n",
       "      <td>E</td>\n",
       "      <td>No</td>\n",
       "      <td>No</td>\n",
       "      <td>15.95</td>\n",
       "      <td>49.5</td>\n",
       "      <td>1020.95</td>\n",
       "      <td>4.500000</td>\n",
       "      <td>18.20</td>\n",
       "      <td>6.5</td>\n",
       "      <td>August</td>\n",
       "    </tr>\n",
       "    <tr>\n",
       "      <th>7</th>\n",
       "      <td>2016-02-24</td>\n",
       "      <td>Moree</td>\n",
       "      <td>19.9</td>\n",
       "      <td>0.0</td>\n",
       "      <td>10.2</td>\n",
       "      <td>12.5</td>\n",
       "      <td>NNE</td>\n",
       "      <td>37.0</td>\n",
       "      <td>N</td>\n",
       "      <td>NW</td>\n",
       "      <td>No</td>\n",
       "      <td>No</td>\n",
       "      <td>27.45</td>\n",
       "      <td>39.5</td>\n",
       "      <td>1015.35</td>\n",
       "      <td>0.500000</td>\n",
       "      <td>29.30</td>\n",
       "      <td>16.5</td>\n",
       "      <td>February</td>\n",
       "    </tr>\n",
       "    <tr>\n",
       "      <th>14</th>\n",
       "      <td>2009-02-21</td>\n",
       "      <td>Woomera</td>\n",
       "      <td>16.2</td>\n",
       "      <td>0.0</td>\n",
       "      <td>14.2</td>\n",
       "      <td>12.5</td>\n",
       "      <td>SSE</td>\n",
       "      <td>44.0</td>\n",
       "      <td>SSE</td>\n",
       "      <td>SSE</td>\n",
       "      <td>No</td>\n",
       "      <td>No</td>\n",
       "      <td>23.80</td>\n",
       "      <td>39.0</td>\n",
       "      <td>1015.75</td>\n",
       "      <td>0.000000</td>\n",
       "      <td>23.75</td>\n",
       "      <td>18.5</td>\n",
       "      <td>February</td>\n",
       "    </tr>\n",
       "    <tr>\n",
       "      <th>16</th>\n",
       "      <td>2014-04-11</td>\n",
       "      <td>Mildura</td>\n",
       "      <td>12.5</td>\n",
       "      <td>0.0</td>\n",
       "      <td>7.6</td>\n",
       "      <td>11.5</td>\n",
       "      <td>SW</td>\n",
       "      <td>48.0</td>\n",
       "      <td>N</td>\n",
       "      <td>W</td>\n",
       "      <td>No</td>\n",
       "      <td>No</td>\n",
       "      <td>23.20</td>\n",
       "      <td>9.0</td>\n",
       "      <td>1014.85</td>\n",
       "      <td>4.000000</td>\n",
       "      <td>27.75</td>\n",
       "      <td>24.0</td>\n",
       "      <td>April</td>\n",
       "    </tr>\n",
       "    <tr>\n",
       "      <th>21</th>\n",
       "      <td>2009-03-22</td>\n",
       "      <td>Woomera</td>\n",
       "      <td>16.8</td>\n",
       "      <td>0.0</td>\n",
       "      <td>13.8</td>\n",
       "      <td>10.9</td>\n",
       "      <td>S</td>\n",
       "      <td>54.0</td>\n",
       "      <td>S</td>\n",
       "      <td>SSW</td>\n",
       "      <td>No</td>\n",
       "      <td>No</td>\n",
       "      <td>22.70</td>\n",
       "      <td>44.0</td>\n",
       "      <td>1014.35</td>\n",
       "      <td>1.000000</td>\n",
       "      <td>22.95</td>\n",
       "      <td>22.0</td>\n",
       "      <td>March</td>\n",
       "    </tr>\n",
       "    <tr>\n",
       "      <th>...</th>\n",
       "      <td>...</td>\n",
       "      <td>...</td>\n",
       "      <td>...</td>\n",
       "      <td>...</td>\n",
       "      <td>...</td>\n",
       "      <td>...</td>\n",
       "      <td>...</td>\n",
       "      <td>...</td>\n",
       "      <td>...</td>\n",
       "      <td>...</td>\n",
       "      <td>...</td>\n",
       "      <td>...</td>\n",
       "      <td>...</td>\n",
       "      <td>...</td>\n",
       "      <td>...</td>\n",
       "      <td>...</td>\n",
       "      <td>...</td>\n",
       "      <td>...</td>\n",
       "      <td>...</td>\n",
       "    </tr>\n",
       "    <tr>\n",
       "      <th>99981</th>\n",
       "      <td>2009-02-03</td>\n",
       "      <td>Cairns</td>\n",
       "      <td>22.2</td>\n",
       "      <td>0.0</td>\n",
       "      <td>10.6</td>\n",
       "      <td>10.9</td>\n",
       "      <td>SE</td>\n",
       "      <td>48.0</td>\n",
       "      <td>SSE</td>\n",
       "      <td>ESE</td>\n",
       "      <td>No</td>\n",
       "      <td>No</td>\n",
       "      <td>27.10</td>\n",
       "      <td>57.0</td>\n",
       "      <td>1009.10</td>\n",
       "      <td>1.000000</td>\n",
       "      <td>29.30</td>\n",
       "      <td>25.5</td>\n",
       "      <td>February</td>\n",
       "    </tr>\n",
       "    <tr>\n",
       "      <th>99982</th>\n",
       "      <td>2013-05-14</td>\n",
       "      <td>Cairns</td>\n",
       "      <td>20.2</td>\n",
       "      <td>0.0</td>\n",
       "      <td>5.8</td>\n",
       "      <td>10.7</td>\n",
       "      <td>ENE</td>\n",
       "      <td>28.0</td>\n",
       "      <td>S</td>\n",
       "      <td>ENE</td>\n",
       "      <td>No</td>\n",
       "      <td>No</td>\n",
       "      <td>24.50</td>\n",
       "      <td>64.0</td>\n",
       "      <td>1011.55</td>\n",
       "      <td>3.000000</td>\n",
       "      <td>26.80</td>\n",
       "      <td>15.0</td>\n",
       "      <td>May</td>\n",
       "    </tr>\n",
       "    <tr>\n",
       "      <th>99991</th>\n",
       "      <td>2010-01-24</td>\n",
       "      <td>Moree</td>\n",
       "      <td>22.9</td>\n",
       "      <td>0.0</td>\n",
       "      <td>12.0</td>\n",
       "      <td>11.2</td>\n",
       "      <td>N</td>\n",
       "      <td>37.0</td>\n",
       "      <td>NNE</td>\n",
       "      <td>N</td>\n",
       "      <td>No</td>\n",
       "      <td>No</td>\n",
       "      <td>30.40</td>\n",
       "      <td>40.0</td>\n",
       "      <td>1010.65</td>\n",
       "      <td>1.000000</td>\n",
       "      <td>31.50</td>\n",
       "      <td>19.5</td>\n",
       "      <td>January</td>\n",
       "    </tr>\n",
       "    <tr>\n",
       "      <th>99992</th>\n",
       "      <td>2015-02-24</td>\n",
       "      <td>Dartmoor</td>\n",
       "      <td>7.0</td>\n",
       "      <td>0.0</td>\n",
       "      <td>6.2</td>\n",
       "      <td>12.0</td>\n",
       "      <td>SE</td>\n",
       "      <td>52.0</td>\n",
       "      <td>S</td>\n",
       "      <td>SSE</td>\n",
       "      <td>No</td>\n",
       "      <td>No</td>\n",
       "      <td>14.05</td>\n",
       "      <td>64.5</td>\n",
       "      <td>1022.10</td>\n",
       "      <td>4.476193</td>\n",
       "      <td>16.10</td>\n",
       "      <td>17.5</td>\n",
       "      <td>February</td>\n",
       "    </tr>\n",
       "    <tr>\n",
       "      <th>99995</th>\n",
       "      <td>2013-01-27</td>\n",
       "      <td>AliceSprings</td>\n",
       "      <td>17.6</td>\n",
       "      <td>0.0</td>\n",
       "      <td>15.6</td>\n",
       "      <td>12.9</td>\n",
       "      <td>SE</td>\n",
       "      <td>44.0</td>\n",
       "      <td>SE</td>\n",
       "      <td>SE</td>\n",
       "      <td>No</td>\n",
       "      <td>No</td>\n",
       "      <td>26.00</td>\n",
       "      <td>15.0</td>\n",
       "      <td>1008.75</td>\n",
       "      <td>1.000000</td>\n",
       "      <td>29.55</td>\n",
       "      <td>26.0</td>\n",
       "      <td>January</td>\n",
       "    </tr>\n",
       "  </tbody>\n",
       "</table>\n",
       "<p>13125 rows × 19 columns</p>\n",
       "</div>"
      ],
      "text/plain": [
       "            Date      Location  MinTemp  Rainfall  Evaporation  Sunshine  \\\n",
       "2     2015-08-11      Watsonia      6.2       0.0          4.2      10.9   \n",
       "7     2016-02-24         Moree     19.9       0.0         10.2      12.5   \n",
       "14    2009-02-21       Woomera     16.2       0.0         14.2      12.5   \n",
       "16    2014-04-11       Mildura     12.5       0.0          7.6      11.5   \n",
       "21    2009-03-22       Woomera     16.8       0.0         13.8      10.9   \n",
       "...          ...           ...      ...       ...          ...       ...   \n",
       "99981 2009-02-03        Cairns     22.2       0.0         10.6      10.9   \n",
       "99982 2013-05-14        Cairns     20.2       0.0          5.8      10.7   \n",
       "99991 2010-01-24         Moree     22.9       0.0         12.0      11.2   \n",
       "99992 2015-02-24      Dartmoor      7.0       0.0          6.2      12.0   \n",
       "99995 2013-01-27  AliceSprings     17.6       0.0         15.6      12.9   \n",
       "\n",
       "      WindGustDir  WindGustSpeed WindDir9am WindDir3pm RainToday RainTomorrow  \\\n",
       "2             WSW           20.0         SE          E        No           No   \n",
       "7             NNE           37.0          N         NW        No           No   \n",
       "14            SSE           44.0        SSE        SSE        No           No   \n",
       "16             SW           48.0          N          W        No           No   \n",
       "21              S           54.0          S        SSW        No           No   \n",
       "...           ...            ...        ...        ...       ...          ...   \n",
       "99981          SE           48.0        SSE        ESE        No           No   \n",
       "99982         ENE           28.0          S        ENE        No           No   \n",
       "99991           N           37.0        NNE          N        No           No   \n",
       "99992          SE           52.0          S        SSE        No           No   \n",
       "99995          SE           44.0         SE         SE        No           No   \n",
       "\n",
       "        Temp  Humidity  Pressure     Cloud  Temp1  WindSpeed     Month  \n",
       "2      15.95      49.5   1020.95  4.500000  18.20        6.5    August  \n",
       "7      27.45      39.5   1015.35  0.500000  29.30       16.5  February  \n",
       "14     23.80      39.0   1015.75  0.000000  23.75       18.5  February  \n",
       "16     23.20       9.0   1014.85  4.000000  27.75       24.0     April  \n",
       "21     22.70      44.0   1014.35  1.000000  22.95       22.0     March  \n",
       "...      ...       ...       ...       ...    ...        ...       ...  \n",
       "99981  27.10      57.0   1009.10  1.000000  29.30       25.5  February  \n",
       "99982  24.50      64.0   1011.55  3.000000  26.80       15.0       May  \n",
       "99991  30.40      40.0   1010.65  1.000000  31.50       19.5   January  \n",
       "99992  14.05      64.5   1022.10  4.476193  16.10       17.5  February  \n",
       "99995  26.00      15.0   1008.75  1.000000  29.55       26.0   January  \n",
       "\n",
       "[13125 rows x 19 columns]"
      ]
     },
     "execution_count": 101,
     "metadata": {},
     "output_type": "execute_result"
    }
   ],
   "source": [
    "# Defining data_sunny  as those sunshine values above 75 percentile \n",
    "data_sunny=data[data['Sunshine']>sunshine75]\n",
    "data_sunny \n",
    "# If you notice the column: Sunshine in the below table, you can notice that the values for Sunshine is all more than 75th percentile which is 10.6\n",
    "# Places where Frequent High winds occur can be found out by finding the value count of locations with HighSpeed Winds.\n",
    "\n"
   ]
  },
  {
   "cell_type": "code",
   "execution_count": 102,
   "id": "e5d0c728",
   "metadata": {},
   "outputs": [
    {
     "data": {
      "text/html": [
       "<div>\n",
       "<style scoped>\n",
       "    .dataframe tbody tr th:only-of-type {\n",
       "        vertical-align: middle;\n",
       "    }\n",
       "\n",
       "    .dataframe tbody tr th {\n",
       "        vertical-align: top;\n",
       "    }\n",
       "\n",
       "    .dataframe thead th {\n",
       "        text-align: right;\n",
       "    }\n",
       "</style>\n",
       "<table border=\"1\" class=\"dataframe\">\n",
       "  <thead>\n",
       "    <tr style=\"text-align: right;\">\n",
       "      <th></th>\n",
       "      <th>Location</th>\n",
       "      <th>Sunshine</th>\n",
       "    </tr>\n",
       "  </thead>\n",
       "  <tbody>\n",
       "    <tr>\n",
       "      <th>2</th>\n",
       "      <td>Watsonia</td>\n",
       "      <td>10.9</td>\n",
       "    </tr>\n",
       "    <tr>\n",
       "      <th>7</th>\n",
       "      <td>Moree</td>\n",
       "      <td>12.5</td>\n",
       "    </tr>\n",
       "    <tr>\n",
       "      <th>14</th>\n",
       "      <td>Woomera</td>\n",
       "      <td>12.5</td>\n",
       "    </tr>\n",
       "    <tr>\n",
       "      <th>16</th>\n",
       "      <td>Mildura</td>\n",
       "      <td>11.5</td>\n",
       "    </tr>\n",
       "    <tr>\n",
       "      <th>21</th>\n",
       "      <td>Woomera</td>\n",
       "      <td>10.9</td>\n",
       "    </tr>\n",
       "    <tr>\n",
       "      <th>33</th>\n",
       "      <td>WaggaWagga</td>\n",
       "      <td>13.7</td>\n",
       "    </tr>\n",
       "    <tr>\n",
       "      <th>44</th>\n",
       "      <td>Moree</td>\n",
       "      <td>11.2</td>\n",
       "    </tr>\n",
       "    <tr>\n",
       "      <th>49</th>\n",
       "      <td>AliceSprings</td>\n",
       "      <td>11.9</td>\n",
       "    </tr>\n",
       "    <tr>\n",
       "      <th>67</th>\n",
       "      <td>Mildura</td>\n",
       "      <td>12.4</td>\n",
       "    </tr>\n",
       "    <tr>\n",
       "      <th>71</th>\n",
       "      <td>Woomera</td>\n",
       "      <td>12.3</td>\n",
       "    </tr>\n",
       "  </tbody>\n",
       "</table>\n",
       "</div>"
      ],
      "text/plain": [
       "        Location  Sunshine\n",
       "2       Watsonia      10.9\n",
       "7          Moree      12.5\n",
       "14       Woomera      12.5\n",
       "16       Mildura      11.5\n",
       "21       Woomera      10.9\n",
       "33    WaggaWagga      13.7\n",
       "44         Moree      11.2\n",
       "49  AliceSprings      11.9\n",
       "67       Mildura      12.4\n",
       "71       Woomera      12.3"
      ]
     },
     "execution_count": 102,
     "metadata": {},
     "output_type": "execute_result"
    }
   ],
   "source": [
    "df=pd.DataFrame(data_sunny,columns=['Location','Sunshine'])\n",
    "df.head(10)"
   ]
  },
  {
   "cell_type": "code",
   "execution_count": 103,
   "id": "c7b55caf",
   "metadata": {},
   "outputs": [],
   "source": [
    "# Therefore the most sunny places where we can set up solar fields are WaggaWagga,Moree,Woomera,AliceSprings,Mildura and Watsonia"
   ]
  },
  {
   "cell_type": "markdown",
   "id": "8f6c44a9",
   "metadata": {},
   "source": [
    "# 2. Find the locations where humidity and temperature are more than 80 percentile value."
   ]
  },
  {
   "cell_type": "code",
   "execution_count": 104,
   "id": "3452336f",
   "metadata": {},
   "outputs": [],
   "source": [
    "# Finding values for Humidity and Temperature  above 80 percentile  [ We use Temp as the Temperature here,Since I believe Temp  gives more meaning to the analysis in this context]\n",
    "humidity_80=data['Humidity'].quantile(0.80)\n",
    "Temp_80=data['Temp'].quantile(0.80)\n",
    "\n"
   ]
  },
  {
   "cell_type": "code",
   "execution_count": 105,
   "id": "11fe4227",
   "metadata": {},
   "outputs": [
    {
     "data": {
      "text/plain": [
       "75.5"
      ]
     },
     "execution_count": 105,
     "metadata": {},
     "output_type": "execute_result"
    }
   ],
   "source": [
    "humidity_80"
   ]
  },
  {
   "cell_type": "code",
   "execution_count": 106,
   "id": "59c328e3",
   "metadata": {},
   "outputs": [
    {
     "data": {
      "text/plain": [
       "23.4"
      ]
     },
     "execution_count": 106,
     "metadata": {},
     "output_type": "execute_result"
    }
   ],
   "source": [
    "Temp_80"
   ]
  },
  {
   "cell_type": "code",
   "execution_count": 107,
   "id": "a3fa9709",
   "metadata": {},
   "outputs": [],
   "source": [
    "\n",
    "#Finding Locations where Humidity and Temperature are above 80 percentile\n",
    "location_Temp=data[data['Temp']>Temp_80]\n",
    "location_humid=data[data['Humidity']>humidity_80]\n"
   ]
  },
  {
   "cell_type": "code",
   "execution_count": 108,
   "id": "bfc7e5ff",
   "metadata": {},
   "outputs": [
    {
     "data": {
      "text/html": [
       "<div>\n",
       "<style scoped>\n",
       "    .dataframe tbody tr th:only-of-type {\n",
       "        vertical-align: middle;\n",
       "    }\n",
       "\n",
       "    .dataframe tbody tr th {\n",
       "        vertical-align: top;\n",
       "    }\n",
       "\n",
       "    .dataframe thead th {\n",
       "        text-align: right;\n",
       "    }\n",
       "</style>\n",
       "<table border=\"1\" class=\"dataframe\">\n",
       "  <thead>\n",
       "    <tr style=\"text-align: right;\">\n",
       "      <th></th>\n",
       "      <th>Location</th>\n",
       "      <th>Temp</th>\n",
       "    </tr>\n",
       "  </thead>\n",
       "  <tbody>\n",
       "    <tr>\n",
       "      <th>7</th>\n",
       "      <td>Moree</td>\n",
       "      <td>27.45</td>\n",
       "    </tr>\n",
       "    <tr>\n",
       "      <th>12</th>\n",
       "      <td>Ballarat</td>\n",
       "      <td>26.45</td>\n",
       "    </tr>\n",
       "    <tr>\n",
       "      <th>14</th>\n",
       "      <td>Woomera</td>\n",
       "      <td>23.80</td>\n",
       "    </tr>\n",
       "    <tr>\n",
       "      <th>26</th>\n",
       "      <td>Penrith</td>\n",
       "      <td>27.55</td>\n",
       "    </tr>\n",
       "    <tr>\n",
       "      <th>27</th>\n",
       "      <td>Katherine</td>\n",
       "      <td>26.55</td>\n",
       "    </tr>\n",
       "  </tbody>\n",
       "</table>\n",
       "</div>"
      ],
      "text/plain": [
       "     Location   Temp\n",
       "7       Moree  27.45\n",
       "12   Ballarat  26.45\n",
       "14    Woomera  23.80\n",
       "26    Penrith  27.55\n",
       "27  Katherine  26.55"
      ]
     },
     "execution_count": 108,
     "metadata": {},
     "output_type": "execute_result"
    }
   ],
   "source": [
    "df2=pd.DataFrame(location_Temp,columns=['Location','Temp'])\n",
    "df2.head(5)"
   ]
  },
  {
   "cell_type": "code",
   "execution_count": 109,
   "id": "5a6e522e",
   "metadata": {},
   "outputs": [],
   "source": [
    "#Therefore places where Temperature is more than 80 percentile value are Penrith, Moree,Katherine and Ballarat"
   ]
  },
  {
   "cell_type": "code",
   "execution_count": 110,
   "id": "ab0a6f79",
   "metadata": {},
   "outputs": [
    {
     "data": {
      "text/html": [
       "<div>\n",
       "<style scoped>\n",
       "    .dataframe tbody tr th:only-of-type {\n",
       "        vertical-align: middle;\n",
       "    }\n",
       "\n",
       "    .dataframe tbody tr th {\n",
       "        vertical-align: top;\n",
       "    }\n",
       "\n",
       "    .dataframe thead th {\n",
       "        text-align: right;\n",
       "    }\n",
       "</style>\n",
       "<table border=\"1\" class=\"dataframe\">\n",
       "  <thead>\n",
       "    <tr style=\"text-align: right;\">\n",
       "      <th></th>\n",
       "      <th>Location</th>\n",
       "      <th>Humidity</th>\n",
       "    </tr>\n",
       "  </thead>\n",
       "  <tbody>\n",
       "    <tr>\n",
       "      <th>9</th>\n",
       "      <td>Penrith</td>\n",
       "      <td>94.0</td>\n",
       "    </tr>\n",
       "    <tr>\n",
       "      <th>13</th>\n",
       "      <td>Bendigo</td>\n",
       "      <td>97.0</td>\n",
       "    </tr>\n",
       "    <tr>\n",
       "      <th>29</th>\n",
       "      <td>MountGambier</td>\n",
       "      <td>92.5</td>\n",
       "    </tr>\n",
       "    <tr>\n",
       "      <th>34</th>\n",
       "      <td>Launceston</td>\n",
       "      <td>79.5</td>\n",
       "    </tr>\n",
       "    <tr>\n",
       "      <th>37</th>\n",
       "      <td>GoldCoast</td>\n",
       "      <td>87.0</td>\n",
       "    </tr>\n",
       "  </tbody>\n",
       "</table>\n",
       "</div>"
      ],
      "text/plain": [
       "        Location  Humidity\n",
       "9        Penrith      94.0\n",
       "13       Bendigo      97.0\n",
       "29  MountGambier      92.5\n",
       "34    Launceston      79.5\n",
       "37     GoldCoast      87.0"
      ]
     },
     "execution_count": 110,
     "metadata": {},
     "output_type": "execute_result"
    }
   ],
   "source": [
    "df3=pd.DataFrame(location_humid,columns=['Location','Humidity'])\n",
    "df3.head(5)"
   ]
  },
  {
   "cell_type": "code",
   "execution_count": 111,
   "id": "16fcf69d",
   "metadata": {},
   "outputs": [],
   "source": [
    "# Therefore places where Humidity is more than 80 percentile value are Bendigo,Penrith,MountGambier and GoldCoast."
   ]
  },
  {
   "cell_type": "markdown",
   "id": "cc1f03c4",
   "metadata": {},
   "source": [
    "# 3.Find 3 places where rainfall, sunshine, humidity is not too high or too low[ Use logical threshold using percentile values]"
   ]
  },
  {
   "cell_type": "code",
   "execution_count": 112,
   "id": "a58e80db",
   "metadata": {},
   "outputs": [
    {
     "name": "stderr",
     "output_type": "stream",
     "text": [
      "C:\\Users\\Dell\\anaconda3\\envs\\tf_env\\lib\\site-packages\\pandas\\core\\indexing.py:1732: SettingWithCopyWarning: \n",
      "A value is trying to be set on a copy of a slice from a DataFrame\n",
      "\n",
      "See the caveats in the documentation: https://pandas.pydata.org/pandas-docs/stable/user_guide/indexing.html#returning-a-view-versus-a-copy\n",
      "  self._setitem_single_block(indexer, value, name)\n",
      "C:\\Users\\Dell\\anaconda3\\envs\\tf_env\\lib\\site-packages\\pandas\\core\\indexing.py:723: SettingWithCopyWarning: \n",
      "A value is trying to be set on a copy of a slice from a DataFrame\n",
      "\n",
      "See the caveats in the documentation: https://pandas.pydata.org/pandas-docs/stable/user_guide/indexing.html#returning-a-view-versus-a-copy\n",
      "  iloc._setitem_with_indexer(indexer, value, self.name)\n"
     ]
    }
   ],
   "source": [
    "# Given below is the syntax to find outlier using Capping Method \n",
    "for i in num_data.columns:\n",
    "    q1=num_data[i].quantile(0.25)\n",
    "    q3=num_data[i].quantile(0.75)\n",
    "    iqr=q3-q1\n",
    "    ub=q3+1.5*iqr\n",
    "    lb=q1-1.5*iqr\n",
    "    uc=num_data[i].quantile(0.99)\n",
    "    lc=num_data[i].quantile(0.01)\n",
    "    \n",
    "    ind1=num_data[data[i]>ub].index\n",
    "    ind2=num_data[data[i]<lb].index\n",
    "    \n",
    "    num_data.loc[ind1,i]=uc\n",
    "    num_data.loc[ind2,i]=lc\n",
    "        "
   ]
  },
  {
   "cell_type": "code",
   "execution_count": 113,
   "id": "e30cc1a0",
   "metadata": {},
   "outputs": [
    {
     "data": {
      "image/png": "[encoded data removed]",
      "text/plain": [
       "<Figure size 432x288 with 1 Axes>"
      ]
     },
     "metadata": {
      "needs_background": "light"
     },
     "output_type": "display_data"
    },
    {
     "data": {
      "image/png": "[encoded data removed]",
      "text/plain": [
       "<Figure size 432x288 with 1 Axes>"
      ]
     },
     "metadata": {
      "needs_background": "light"
     },
     "output_type": "display_data"
    },
    {
     "data": {
      "image/png": "[encoded data removed]",
      "text/plain": [
       "<Figure size 432x288 with 1 Axes>"
      ]
     },
     "metadata": {
      "needs_background": "light"
     },
     "output_type": "display_data"
    },
    {
     "data": {
      "image/png": "[encoded data removed]",
      "text/plain": [
       "<Figure size 432x288 with 1 Axes>"
      ]
     },
     "metadata": {
      "needs_background": "light"
     },
     "output_type": "display_data"
    },
    {
     "data": {
      "image/png": "[encoded data removed]",
      "text/plain": [
       "<Figure size 432x288 with 1 Axes>"
      ]
     },
     "metadata": {
      "needs_background": "light"
     },
     "output_type": "display_data"
    },
    {
     "data": {
      "image/png": "[encoded data removed]",
      "text/plain": [
       "<Figure size 432x288 with 1 Axes>"
      ]
     },
     "metadata": {
      "needs_background": "light"
     },
     "output_type": "display_data"
    },
    {
     "data": {
      "image/png": "[encoded data removed]",
      "text/plain": [
       "<Figure size 432x288 with 1 Axes>"
      ]
     },
     "metadata": {
      "needs_background": "light"
     },
     "output_type": "display_data"
    },
    {
     "data": {
      "image/png": "[encoded data removed]",
      "text/plain": [
       "<Figure size 432x288 with 1 Axes>"
      ]
     },
     "metadata": {
      "needs_background": "light"
     },
     "output_type": "display_data"
    },
    {
     "data": {
      "image/png": "[encoded data removed]",
      "text/plain": [
       "<Figure size 432x288 with 1 Axes>"
      ]
     },
     "metadata": {
      "needs_background": "light"
     },
     "output_type": "display_data"
    },
    {
     "data": {
      "image/png": "[encoded data removed]",
      "text/plain": [
       "<Figure size 432x288 with 1 Axes>"
      ]
     },
     "metadata": {
      "needs_background": "light"
     },
     "output_type": "display_data"
    },
    {
     "data": {
      "image/png": "[encoded data removed]",
      "text/plain": [
       "<Figure size 432x288 with 1 Axes>"
      ]
     },
     "metadata": {
      "needs_background": "light"
     },
     "output_type": "display_data"
    }
   ],
   "source": [
    "for i in num_data.columns:\n",
    "    sb.boxplot(x=num_data[i])\n",
    "    plt.show() # We can notice from the boxplots that there are hardly any outliers in the numerical columns"
   ]
  },
  {
   "cell_type": "markdown",
   "id": "9a01d76a",
   "metadata": {},
   "source": [
    "# Rainfall"
   ]
  },
  {
   "cell_type": "code",
   "execution_count": 114,
   "id": "9acd04c1",
   "metadata": {},
   "outputs": [
    {
     "data": {
      "text/plain": [
       "0.2"
      ]
     },
     "execution_count": 114,
     "metadata": {},
     "output_type": "execute_result"
    }
   ],
   "source": [
    "# We now move forward to the analysis without outlier treatment\n",
    "#On constant trial error we came  to a conclusion that 0.64th percentile yields us the lowest value.\n",
    "data['Rainfall'].quantile(0.64) #You can play with the quantile values to check if its true"
   ]
  },
  {
   "cell_type": "code",
   "execution_count": 115,
   "id": "fc80c3e4",
   "metadata": {},
   "outputs": [
    {
     "data": {
      "text/plain": [
       "37.4"
      ]
     },
     "execution_count": 115,
     "metadata": {},
     "output_type": "execute_result"
    }
   ],
   "source": [
    "# And similarly 0.99th quantile as the Highest value\n",
    "data['Rainfall'].quantile(0.99)"
   ]
  },
  {
   "cell_type": "code",
   "execution_count": 116,
   "id": "e7858273",
   "metadata": {},
   "outputs": [
    {
     "name": "stdout",
     "output_type": "stream",
     "text": [
      "8.0\n",
      "19.2\n"
     ]
    }
   ],
   "source": [
    "# Hence as the question demands using logical thresholds(Here I tried to find out the range of values that could possibly lie between the highest and lowest value \n",
    "Rainfall_q94=data['Rainfall'].quantile(0.92)\n",
    "Rainfall_q97=data['Rainfall'].quantile(0.97)\n",
    "print(Rainfall_q94)\n",
    "print(Rainfall_q97) \n"
   ]
  },
  {
   "cell_type": "markdown",
   "id": "50d242b6",
   "metadata": {},
   "source": [
    "# Humidity\n"
   ]
  },
  {
   "cell_type": "code",
   "execution_count": 117,
   "id": "2b2d5af3",
   "metadata": {},
   "outputs": [
    {
     "data": {
      "text/plain": [
       "1.0"
      ]
     },
     "execution_count": 117,
     "metadata": {},
     "output_type": "execute_result"
    }
   ],
   "source": [
    "#0th Percentile  yields us the lowest value \n",
    "data['Humidity'].quantile(0)"
   ]
  },
  {
   "cell_type": "code",
   "execution_count": 118,
   "id": "1ff7254f",
   "metadata": {},
   "outputs": [
    {
     "data": {
      "text/plain": [
       "100.0"
      ]
     },
     "execution_count": 118,
     "metadata": {},
     "output_type": "execute_result"
    }
   ],
   "source": [
    "#And 100th percentile yields the highest\n",
    "data['Humidity'].quantile(1)"
   ]
  },
  {
   "cell_type": "code",
   "execution_count": 119,
   "id": "696b9b03",
   "metadata": {},
   "outputs": [
    {
     "name": "stdout",
     "output_type": "stream",
     "text": [
      "45.5\n",
      "50.0\n"
     ]
    }
   ],
   "source": [
    "# Similarly  as the question demands using logical thresholds we find the values lying in between the highest and lowest \n",
    "Humidity_q20=data['Humidity'].quantile(0.20)\n",
    "Humidity_q26=data['Humidity'].quantile(0.26)\n",
    "print(Humidity_q20)\n",
    "print(Humidity_q26)"
   ]
  },
  {
   "cell_type": "markdown",
   "id": "795cdb60",
   "metadata": {},
   "source": [
    "# Sunshine"
   ]
  },
  {
   "cell_type": "code",
   "execution_count": 120,
   "id": "9f0fe621",
   "metadata": {},
   "outputs": [
    {
     "data": {
      "text/plain": [
       "1.5"
      ]
     },
     "execution_count": 120,
     "metadata": {},
     "output_type": "execute_result"
    }
   ],
   "source": [
    "#Lowest Value\n",
    "data['Sunshine'].quantile(0.1)"
   ]
  },
  {
   "cell_type": "code",
   "execution_count": 121,
   "id": "5c3f51d8",
   "metadata": {},
   "outputs": [
    {
     "data": {
      "text/plain": [
       "14.5"
      ]
     },
     "execution_count": 121,
     "metadata": {},
     "output_type": "execute_result"
    }
   ],
   "source": [
    "#Highest Value\n",
    "data['Sunshine'].quantile(1)"
   ]
  },
  {
   "cell_type": "code",
   "execution_count": 122,
   "id": "357e405c",
   "metadata": {},
   "outputs": [
    {
     "name": "stdout",
     "output_type": "stream",
     "text": [
      "6.4\n",
      "7.2\n"
     ]
    }
   ],
   "source": [
    "#Possible Values in between Lowest and highest with its corresponding quantiles.\n",
    "Sunshine_q34=data['Sunshine'].quantile(0.34)\n",
    "Sunshine_q40=data['Sunshine'].quantile(0.40)\n",
    "print(Sunshine_q34)\n",
    "print(Sunshine_q40)"
   ]
  },
  {
   "cell_type": "code",
   "execution_count": 123,
   "id": "89d04af4",
   "metadata": {},
   "outputs": [],
   "source": [
    "# As we found out the range earlier we will now derive 5 values in between the highest and lowest lying in the above mentioned range .These values are nothing but the\"Not too High or Low\" values\n",
    "Rainfall_top5=data[data['Rainfall'].between(Rainfall_q92,Rainfall_q97)]\n",
    "Humidity_top5=data[data['Humidity'].between(Humidity_q20,Humidity_q26)]\n",
    "Sunshine_top5=data[data['Sunshine'].between(Sunshine_q34,Sunshine_q40)]"
   ]
  },
  {
   "cell_type": "code",
   "execution_count": 124,
   "id": "8070ce5c",
   "metadata": {},
   "outputs": [],
   "source": [
    "#Finding out the locations lying in the middle range"
   ]
  },
  {
   "cell_type": "code",
   "execution_count": 125,
   "id": "91d075dc",
   "metadata": {},
   "outputs": [
    {
     "data": {
      "text/plain": [
       "17          WaggaWagga\n",
       "24             Walpole\n",
       "48    MelbourneAirport\n",
       "58             Penrith\n",
       "65              Sydney\n",
       "Name: Location, dtype: object"
      ]
     },
     "execution_count": 125,
     "metadata": {},
     "output_type": "execute_result"
    }
   ],
   "source": [
    " Rainfall_top5=Rainfall_top5[Rainfall_top5['Rainfall'].between(Rainfall_q92,Rainfall_q97)]\n",
    "Rainfall_top5['Location'].head(5)"
   ]
  },
  {
   "cell_type": "code",
   "execution_count": 126,
   "id": "61b61ec2",
   "metadata": {},
   "outputs": [
    {
     "data": {
      "text/plain": [
       "2        Watsonia\n",
       "22     Wollongong\n",
       "43     WaggaWagga\n",
       "113       Woomera\n",
       "122      Richmond\n",
       "Name: Location, dtype: object"
      ]
     },
     "execution_count": 126,
     "metadata": {},
     "output_type": "execute_result"
    }
   ],
   "source": [
    "Humidity_top5=Humidity_top5[Humidity_top5['Humidity'].between(Humidity_q20,Humidity_q26)]\n",
    "Humidity_top5['Location'].head(5)"
   ]
  },
  {
   "cell_type": "code",
   "execution_count": 127,
   "id": "06250422",
   "metadata": {},
   "outputs": [
    {
     "data": {
      "text/plain": [
       "6              Sale\n",
       "40          Mildura\n",
       "65           Sydney\n",
       "148    MountGambier\n",
       "244    AliceSprings\n",
       "Name: Location, dtype: object"
      ]
     },
     "execution_count": 127,
     "metadata": {},
     "output_type": "execute_result"
    }
   ],
   "source": [
    "Sunshine_top5=Sunshine_top5[Sunshine_top5['Sunshine'].between(Sunshine_q34,Sunshine_q40)]\n",
    "Sunshine_top5['Location'].head(5)"
   ]
  },
  {
   "cell_type": "markdown",
   "id": "48ace126",
   "metadata": {},
   "source": [
    "# 4. Top 5 coastal places where evaporation is higher than mean for setting up salt preparation plants"
   ]
  },
  {
   "cell_type": "code",
   "execution_count": 128,
   "id": "032a8220",
   "metadata": {},
   "outputs": [
    {
     "data": {
      "text/html": [
       "<div>\n",
       "<style scoped>\n",
       "    .dataframe tbody tr th:only-of-type {\n",
       "        vertical-align: middle;\n",
       "    }\n",
       "\n",
       "    .dataframe tbody tr th {\n",
       "        vertical-align: top;\n",
       "    }\n",
       "\n",
       "    .dataframe thead th {\n",
       "        text-align: right;\n",
       "    }\n",
       "</style>\n",
       "<table border=\"1\" class=\"dataframe\">\n",
       "  <thead>\n",
       "    <tr style=\"text-align: right;\">\n",
       "      <th></th>\n",
       "      <th>Location</th>\n",
       "      <th>Level of Evaporation</th>\n",
       "    </tr>\n",
       "  </thead>\n",
       "  <tbody>\n",
       "    <tr>\n",
       "      <th>48</th>\n",
       "      <td>Woomera</td>\n",
       "      <td>17684.625532</td>\n",
       "    </tr>\n",
       "    <tr>\n",
       "      <th>3</th>\n",
       "      <td>AliceSprings</td>\n",
       "      <td>16761.403049</td>\n",
       "    </tr>\n",
       "    <tr>\n",
       "      <th>39</th>\n",
       "      <td>Townsville</td>\n",
       "      <td>13170.622262</td>\n",
       "    </tr>\n",
       "    <tr>\n",
       "      <th>21</th>\n",
       "      <td>Moree</td>\n",
       "      <td>12279.670056</td>\n",
       "    </tr>\n",
       "    <tr>\n",
       "      <th>40</th>\n",
       "      <td>Tuggeranong</td>\n",
       "      <td>11536.499573</td>\n",
       "    </tr>\n",
       "  </tbody>\n",
       "</table>\n",
       "</div>"
      ],
      "text/plain": [
       "        Location  Level of Evaporation\n",
       "48       Woomera          17684.625532\n",
       "3   AliceSprings          16761.403049\n",
       "39    Townsville          13170.622262\n",
       "21         Moree          12279.670056\n",
       "40   Tuggeranong          11536.499573"
      ]
     },
     "execution_count": 128,
     "metadata": {},
     "output_type": "execute_result"
    }
   ],
   "source": [
    "# We first find out the mean of Evaporation\n",
    "Evaporation_mean=data['Evaporation'].mean()\n",
    "# Then the values above mean \n",
    "Coastal_places=data[data['Evaporation']>Evaporation_mean]\n",
    "#Now using Groupby we find the Places with Evaporation above mean.\n",
    "Top_Coastal=Coastal_places.groupby('Location')['Evaporation'].sum().reset_index()\n",
    "# We finally introduce columns as below by setting Level of evaporation in descending order for better understanding .\n",
    "Top_Coastal.columns=['Location','Level of Evaporation']\n",
    "Top_Coastal.sort_values(by='Level of Evaporation',ascending=False).head()\n"
   ]
  },
  {
   "cell_type": "code",
   "execution_count": 129,
   "id": "25fd4cda",
   "metadata": {},
   "outputs": [],
   "source": [
    "# Therefore the Top 5 locations where we can setup salt plants are Woomera,AliceSprings,Townsville,Moree and Tuggeranong"
   ]
  },
  {
   "cell_type": "markdown",
   "id": "e8349d46",
   "metadata": {},
   "source": [
    "# 5. Suggest a strategy for a winter goods company to choose the location and months to promote their products."
   ]
  },
  {
   "cell_type": "code",
   "execution_count": 130,
   "id": "7cb314e4",
   "metadata": {},
   "outputs": [
    {
     "data": {
      "text/plain": [
       "12.190558836527256"
      ]
     },
     "execution_count": 130,
     "metadata": {},
     "output_type": "execute_result"
    }
   ],
   "source": [
    "#Since we need MinTempto analyze winterplaces we did'nt drop it earlier.\n",
    "# First we find the average minimum temperature and define temperature values below that as  winter.\n",
    "data['MinTemp'].mean()"
   ]
  },
  {
   "cell_type": "code",
   "execution_count": 131,
   "id": "95ae02db",
   "metadata": {},
   "outputs": [
    {
     "name": "stderr",
     "output_type": "stream",
     "text": [
      "C:\\Users\\Dell\\anaconda3\\envs\\tf_env\\lib\\site-packages\\ipykernel_launcher.py:6: SettingWithCopyWarning: \n",
      "A value is trying to be set on a copy of a slice from a DataFrame.\n",
      "Try using .loc[row_indexer,col_indexer] = value instead\n",
      "\n",
      "See the caveats in the documentation: https://pandas.pydata.org/pandas-docs/stable/user_guide/indexing.html#returning-a-view-versus-a-copy\n",
      "  \n"
     ]
    }
   ],
   "source": [
    "# We then find the Months when its winter.\n",
    "data['Date']=pd.to_datetime(data['Date'])\n",
    "AvgMinTemp=data['MinTemp'].mean()\n",
    "Winterplaces=data[data['MinTemp']<AvgMinTemp]\n",
    "data['Month']=data['Date'].dt.month_name()\n",
    "Winterplaces['Month']=data['Month']\n"
   ]
  },
  {
   "cell_type": "code",
   "execution_count": 132,
   "id": "e8dab2bd",
   "metadata": {},
   "outputs": [
    {
     "data": {
      "text/html": [
       "<div>\n",
       "<style scoped>\n",
       "    .dataframe tbody tr th:only-of-type {\n",
       "        vertical-align: middle;\n",
       "    }\n",
       "\n",
       "    .dataframe tbody tr th {\n",
       "        vertical-align: top;\n",
       "    }\n",
       "\n",
       "    .dataframe thead th {\n",
       "        text-align: right;\n",
       "    }\n",
       "</style>\n",
       "<table border=\"1\" class=\"dataframe\">\n",
       "  <thead>\n",
       "    <tr style=\"text-align: right;\">\n",
       "      <th></th>\n",
       "      <th>Date</th>\n",
       "      <th>Location</th>\n",
       "      <th>MinTemp</th>\n",
       "      <th>Rainfall</th>\n",
       "      <th>Evaporation</th>\n",
       "      <th>Sunshine</th>\n",
       "      <th>WindGustDir</th>\n",
       "      <th>WindGustSpeed</th>\n",
       "      <th>WindDir9am</th>\n",
       "      <th>WindDir3pm</th>\n",
       "      <th>RainToday</th>\n",
       "      <th>RainTomorrow</th>\n",
       "      <th>Temp</th>\n",
       "      <th>Humidity</th>\n",
       "      <th>Pressure</th>\n",
       "      <th>Cloud</th>\n",
       "      <th>Temp1</th>\n",
       "      <th>WindSpeed</th>\n",
       "      <th>Month</th>\n",
       "    </tr>\n",
       "  </thead>\n",
       "  <tbody>\n",
       "    <tr>\n",
       "      <th>0</th>\n",
       "      <td>2014-07-02</td>\n",
       "      <td>CoffsHarbour</td>\n",
       "      <td>17.7</td>\n",
       "      <td>2.2</td>\n",
       "      <td>1.600000</td>\n",
       "      <td>NaN</td>\n",
       "      <td>NNE</td>\n",
       "      <td>31.0</td>\n",
       "      <td>SW</td>\n",
       "      <td>ESE</td>\n",
       "      <td>Yes</td>\n",
       "      <td>No</td>\n",
       "      <td>21.80</td>\n",
       "      <td>71.0</td>\n",
       "      <td>1016.90</td>\n",
       "      <td>5.500000</td>\n",
       "      <td>22.85</td>\n",
       "      <td>13.0</td>\n",
       "      <td>July</td>\n",
       "    </tr>\n",
       "    <tr>\n",
       "      <th>1</th>\n",
       "      <td>2009-04-23</td>\n",
       "      <td>Portland</td>\n",
       "      <td>6.7</td>\n",
       "      <td>0.0</td>\n",
       "      <td>5.400000</td>\n",
       "      <td>0.4</td>\n",
       "      <td>NNE</td>\n",
       "      <td>44.0</td>\n",
       "      <td>NE</td>\n",
       "      <td>NNE</td>\n",
       "      <td>No</td>\n",
       "      <td>Yes</td>\n",
       "      <td>14.35</td>\n",
       "      <td>51.0</td>\n",
       "      <td>1011.40</td>\n",
       "      <td>7.500000</td>\n",
       "      <td>17.90</td>\n",
       "      <td>16.0</td>\n",
       "      <td>April</td>\n",
       "    </tr>\n",
       "    <tr>\n",
       "      <th>2</th>\n",
       "      <td>2015-08-11</td>\n",
       "      <td>Watsonia</td>\n",
       "      <td>6.2</td>\n",
       "      <td>0.0</td>\n",
       "      <td>4.200000</td>\n",
       "      <td>10.9</td>\n",
       "      <td>WSW</td>\n",
       "      <td>20.0</td>\n",
       "      <td>SE</td>\n",
       "      <td>E</td>\n",
       "      <td>No</td>\n",
       "      <td>No</td>\n",
       "      <td>15.95</td>\n",
       "      <td>49.5</td>\n",
       "      <td>1020.95</td>\n",
       "      <td>4.500000</td>\n",
       "      <td>18.20</td>\n",
       "      <td>6.5</td>\n",
       "      <td>August</td>\n",
       "    </tr>\n",
       "    <tr>\n",
       "      <th>3</th>\n",
       "      <td>2012-11-21</td>\n",
       "      <td>Wollongong</td>\n",
       "      <td>13.8</td>\n",
       "      <td>0.0</td>\n",
       "      <td>5.467535</td>\n",
       "      <td>NaN</td>\n",
       "      <td>SSW</td>\n",
       "      <td>70.0</td>\n",
       "      <td>N</td>\n",
       "      <td>NE</td>\n",
       "      <td>No</td>\n",
       "      <td>No</td>\n",
       "      <td>18.30</td>\n",
       "      <td>70.5</td>\n",
       "      <td>1013.80</td>\n",
       "      <td>4.476193</td>\n",
       "      <td>19.75</td>\n",
       "      <td>28.0</td>\n",
       "      <td>November</td>\n",
       "    </tr>\n",
       "    <tr>\n",
       "      <th>4</th>\n",
       "      <td>2013-07-30</td>\n",
       "      <td>Townsville</td>\n",
       "      <td>13.4</td>\n",
       "      <td>0.0</td>\n",
       "      <td>6.000000</td>\n",
       "      <td>10.2</td>\n",
       "      <td>ENE</td>\n",
       "      <td>30.0</td>\n",
       "      <td>SSW</td>\n",
       "      <td>NNW</td>\n",
       "      <td>No</td>\n",
       "      <td>No</td>\n",
       "      <td>20.30</td>\n",
       "      <td>53.5</td>\n",
       "      <td>1014.30</td>\n",
       "      <td>1.000000</td>\n",
       "      <td>23.65</td>\n",
       "      <td>11.0</td>\n",
       "      <td>July</td>\n",
       "    </tr>\n",
       "  </tbody>\n",
       "</table>\n",
       "</div>"
      ],
      "text/plain": [
       "        Date      Location  MinTemp  Rainfall  Evaporation  Sunshine  \\\n",
       "0 2014-07-02  CoffsHarbour     17.7       2.2     1.600000       NaN   \n",
       "1 2009-04-23      Portland      6.7       0.0     5.400000       0.4   \n",
       "2 2015-08-11      Watsonia      6.2       0.0     4.200000      10.9   \n",
       "3 2012-11-21    Wollongong     13.8       0.0     5.467535       NaN   \n",
       "4 2013-07-30    Townsville     13.4       0.0     6.000000      10.2   \n",
       "\n",
       "  WindGustDir  WindGustSpeed WindDir9am WindDir3pm RainToday RainTomorrow  \\\n",
       "0         NNE           31.0         SW        ESE       Yes           No   \n",
       "1         NNE           44.0         NE        NNE        No          Yes   \n",
       "2         WSW           20.0         SE          E        No           No   \n",
       "3         SSW           70.0          N         NE        No           No   \n",
       "4         ENE           30.0        SSW        NNW        No           No   \n",
       "\n",
       "    Temp  Humidity  Pressure     Cloud  Temp1  WindSpeed     Month  \n",
       "0  21.80      71.0   1016.90  5.500000  22.85       13.0      July  \n",
       "1  14.35      51.0   1011.40  7.500000  17.90       16.0     April  \n",
       "2  15.95      49.5   1020.95  4.500000  18.20        6.5    August  \n",
       "3  18.30      70.5   1013.80  4.476193  19.75       28.0  November  \n",
       "4  20.30      53.5   1014.30  1.000000  23.65       11.0      July  "
      ]
     },
     "execution_count": 132,
     "metadata": {},
     "output_type": "execute_result"
    }
   ],
   "source": [
    "data.head()"
   ]
  },
  {
   "cell_type": "code",
   "execution_count": 133,
   "id": "88190ce7",
   "metadata": {},
   "outputs": [
    {
     "data": {
      "text/html": [
       "<div>\n",
       "<style scoped>\n",
       "    .dataframe tbody tr th:only-of-type {\n",
       "        vertical-align: middle;\n",
       "    }\n",
       "\n",
       "    .dataframe tbody tr th {\n",
       "        vertical-align: top;\n",
       "    }\n",
       "\n",
       "    .dataframe thead th {\n",
       "        text-align: right;\n",
       "    }\n",
       "</style>\n",
       "<table border=\"1\" class=\"dataframe\">\n",
       "  <thead>\n",
       "    <tr style=\"text-align: right;\">\n",
       "      <th></th>\n",
       "      <th>Date</th>\n",
       "      <th>Location</th>\n",
       "      <th>MinTemp</th>\n",
       "      <th>Rainfall</th>\n",
       "      <th>Evaporation</th>\n",
       "      <th>Sunshine</th>\n",
       "      <th>WindGustDir</th>\n",
       "      <th>WindGustSpeed</th>\n",
       "      <th>WindDir9am</th>\n",
       "      <th>WindDir3pm</th>\n",
       "      <th>RainToday</th>\n",
       "      <th>RainTomorrow</th>\n",
       "      <th>Temp</th>\n",
       "      <th>Humidity</th>\n",
       "      <th>Pressure</th>\n",
       "      <th>Cloud</th>\n",
       "      <th>Temp1</th>\n",
       "      <th>WindSpeed</th>\n",
       "      <th>Month</th>\n",
       "    </tr>\n",
       "  </thead>\n",
       "  <tbody>\n",
       "    <tr>\n",
       "      <th>1</th>\n",
       "      <td>2009-04-23</td>\n",
       "      <td>Portland</td>\n",
       "      <td>6.7</td>\n",
       "      <td>0.0</td>\n",
       "      <td>5.4</td>\n",
       "      <td>0.4</td>\n",
       "      <td>NNE</td>\n",
       "      <td>44.000000</td>\n",
       "      <td>NE</td>\n",
       "      <td>NNE</td>\n",
       "      <td>No</td>\n",
       "      <td>Yes</td>\n",
       "      <td>14.35</td>\n",
       "      <td>51.000000</td>\n",
       "      <td>1011.40</td>\n",
       "      <td>7.500000</td>\n",
       "      <td>17.900000</td>\n",
       "      <td>16.000000</td>\n",
       "      <td>April</td>\n",
       "    </tr>\n",
       "    <tr>\n",
       "      <th>2</th>\n",
       "      <td>2015-08-11</td>\n",
       "      <td>Watsonia</td>\n",
       "      <td>6.2</td>\n",
       "      <td>0.0</td>\n",
       "      <td>4.2</td>\n",
       "      <td>10.9</td>\n",
       "      <td>WSW</td>\n",
       "      <td>20.000000</td>\n",
       "      <td>SE</td>\n",
       "      <td>E</td>\n",
       "      <td>No</td>\n",
       "      <td>No</td>\n",
       "      <td>15.95</td>\n",
       "      <td>49.500000</td>\n",
       "      <td>1020.95</td>\n",
       "      <td>4.500000</td>\n",
       "      <td>18.200000</td>\n",
       "      <td>6.500000</td>\n",
       "      <td>August</td>\n",
       "    </tr>\n",
       "    <tr>\n",
       "      <th>5</th>\n",
       "      <td>2016-05-20</td>\n",
       "      <td>Albany</td>\n",
       "      <td>10.1</td>\n",
       "      <td>0.0</td>\n",
       "      <td>0.8</td>\n",
       "      <td>NaN</td>\n",
       "      <td>NaN</td>\n",
       "      <td>39.986818</td>\n",
       "      <td>N</td>\n",
       "      <td>NaN</td>\n",
       "      <td>No</td>\n",
       "      <td>Yes</td>\n",
       "      <td>15.95</td>\n",
       "      <td>60.118281</td>\n",
       "      <td>1007.80</td>\n",
       "      <td>4.476193</td>\n",
       "      <td>19.322685</td>\n",
       "      <td>16.330638</td>\n",
       "      <td>May</td>\n",
       "    </tr>\n",
       "    <tr>\n",
       "      <th>8</th>\n",
       "      <td>2009-04-28</td>\n",
       "      <td>Portland</td>\n",
       "      <td>7.1</td>\n",
       "      <td>3.6</td>\n",
       "      <td>1.4</td>\n",
       "      <td>3.4</td>\n",
       "      <td>SW</td>\n",
       "      <td>37.000000</td>\n",
       "      <td>S</td>\n",
       "      <td>S</td>\n",
       "      <td>Yes</td>\n",
       "      <td>No</td>\n",
       "      <td>10.05</td>\n",
       "      <td>58.000000</td>\n",
       "      <td>1022.35</td>\n",
       "      <td>5.000000</td>\n",
       "      <td>10.700000</td>\n",
       "      <td>13.000000</td>\n",
       "      <td>April</td>\n",
       "    </tr>\n",
       "    <tr>\n",
       "      <th>10</th>\n",
       "      <td>2012-03-31</td>\n",
       "      <td>Dartmoor</td>\n",
       "      <td>11.1</td>\n",
       "      <td>0.0</td>\n",
       "      <td>7.0</td>\n",
       "      <td>8.1</td>\n",
       "      <td>WNW</td>\n",
       "      <td>39.000000</td>\n",
       "      <td>W</td>\n",
       "      <td>W</td>\n",
       "      <td>No</td>\n",
       "      <td>No</td>\n",
       "      <td>16.45</td>\n",
       "      <td>65.000000</td>\n",
       "      <td>1013.60</td>\n",
       "      <td>4.476193</td>\n",
       "      <td>18.300000</td>\n",
       "      <td>23.000000</td>\n",
       "      <td>March</td>\n",
       "    </tr>\n",
       "  </tbody>\n",
       "</table>\n",
       "</div>"
      ],
      "text/plain": [
       "         Date  Location  MinTemp  Rainfall  Evaporation  Sunshine WindGustDir  \\\n",
       "1  2009-04-23  Portland      6.7       0.0          5.4       0.4         NNE   \n",
       "2  2015-08-11  Watsonia      6.2       0.0          4.2      10.9         WSW   \n",
       "5  2016-05-20    Albany     10.1       0.0          0.8       NaN         NaN   \n",
       "8  2009-04-28  Portland      7.1       3.6          1.4       3.4          SW   \n",
       "10 2012-03-31  Dartmoor     11.1       0.0          7.0       8.1         WNW   \n",
       "\n",
       "    WindGustSpeed WindDir9am WindDir3pm RainToday RainTomorrow   Temp  \\\n",
       "1       44.000000         NE        NNE        No          Yes  14.35   \n",
       "2       20.000000         SE          E        No           No  15.95   \n",
       "5       39.986818          N        NaN        No          Yes  15.95   \n",
       "8       37.000000          S          S       Yes           No  10.05   \n",
       "10      39.000000          W          W        No           No  16.45   \n",
       "\n",
       "     Humidity  Pressure     Cloud      Temp1  WindSpeed   Month  \n",
       "1   51.000000   1011.40  7.500000  17.900000  16.000000   April  \n",
       "2   49.500000   1020.95  4.500000  18.200000   6.500000  August  \n",
       "5   60.118281   1007.80  4.476193  19.322685  16.330638     May  \n",
       "8   58.000000   1022.35  5.000000  10.700000  13.000000   April  \n",
       "10  65.000000   1013.60  4.476193  18.300000  23.000000   March  "
      ]
     },
     "execution_count": 133,
     "metadata": {},
     "output_type": "execute_result"
    }
   ],
   "source": [
    "Winterplaces.head(5)"
   ]
  },
  {
   "cell_type": "code",
   "execution_count": 134,
   "id": "cefc4504",
   "metadata": {},
   "outputs": [
    {
     "data": {
      "text/html": [
       "<div>\n",
       "<style scoped>\n",
       "    .dataframe tbody tr th:only-of-type {\n",
       "        vertical-align: middle;\n",
       "    }\n",
       "\n",
       "    .dataframe tbody tr th {\n",
       "        vertical-align: top;\n",
       "    }\n",
       "\n",
       "    .dataframe thead th {\n",
       "        text-align: right;\n",
       "    }\n",
       "</style>\n",
       "<table border=\"1\" class=\"dataframe\">\n",
       "  <thead>\n",
       "    <tr style=\"text-align: right;\">\n",
       "      <th></th>\n",
       "      <th>Location</th>\n",
       "      <th>MinTemp</th>\n",
       "      <th>Month</th>\n",
       "    </tr>\n",
       "  </thead>\n",
       "  <tbody>\n",
       "    <tr>\n",
       "      <th>204</th>\n",
       "      <td>AliceSprings</td>\n",
       "      <td>-3.0</td>\n",
       "      <td>July</td>\n",
       "    </tr>\n",
       "    <tr>\n",
       "      <th>28</th>\n",
       "      <td>Tuggeranong</td>\n",
       "      <td>-2.4</td>\n",
       "      <td>July</td>\n",
       "    </tr>\n",
       "    <tr>\n",
       "      <th>34</th>\n",
       "      <td>Launceston</td>\n",
       "      <td>2.8</td>\n",
       "      <td>May</td>\n",
       "    </tr>\n",
       "    <tr>\n",
       "      <th>31</th>\n",
       "      <td>MountGinini</td>\n",
       "      <td>3.1</td>\n",
       "      <td>September</td>\n",
       "    </tr>\n",
       "    <tr>\n",
       "      <th>111</th>\n",
       "      <td>Moree</td>\n",
       "      <td>3.5</td>\n",
       "      <td>July</td>\n",
       "    </tr>\n",
       "  </tbody>\n",
       "</table>\n",
       "</div>"
      ],
      "text/plain": [
       "         Location  MinTemp      Month\n",
       "204  AliceSprings     -3.0       July\n",
       "28    Tuggeranong     -2.4       July\n",
       "34     Launceston      2.8        May\n",
       "31    MountGinini      3.1  September\n",
       "111         Moree      3.5       July"
      ]
     },
     "execution_count": 134,
     "metadata": {},
     "output_type": "execute_result"
    }
   ],
   "source": [
    "# Finally we find the locations where its winter during the above mentioned months.\n",
    "Winterplaces=Winterplaces.drop_duplicates(subset='Location',keep='first')\n",
    "Winterplaces.sort_values(by='MinTemp',inplace=True)\n",
    "Winterplaces[['Location','MinTemp','Month']].head()\n"
   ]
  },
  {
   "cell_type": "code",
   "execution_count": 135,
   "id": "855f9925",
   "metadata": {},
   "outputs": [],
   "source": [
    "# Therefore according to our understanding Wintergoods company can identify the above locations to sell their products . These places are AliceSprings,Tuggeranong,Launceston,MountGinini and Moree"
   ]
  },
  {
   "cell_type": "markdown",
   "id": "957d0282",
   "metadata": {},
   "source": [
    "# 6.\tCreate a new column as rainfall level with values as no, low, medium, high, heavy as categories and do the bivariate analyses between rainfall level and wind direction \n",
    " - no rain    ------> 0 percentile\n",
    " -low --------->0-25 percentile\n",
    " -medium--------->25-50 percentile\n",
    "-high--------->50-75 percentile\n",
    "-heavy--------->75-100 percentile\n"
   ]
  },
  {
   "cell_type": "code",
   "execution_count": 160,
   "id": "29f82a57",
   "metadata": {},
   "outputs": [
    {
     "data": {
      "text/plain": [
       "0.0"
      ]
     },
     "execution_count": 160,
     "metadata": {},
     "output_type": "execute_result"
    }
   ],
   "source": [
    "# Value of Rainfall at 0 percentile(no rain)\n",
    "q0=data['Rainfall'].quantile(0)\n",
    "q0"
   ]
  },
  {
   "cell_type": "code",
   "execution_count": 161,
   "id": "95197790",
   "metadata": {},
   "outputs": [
    {
     "data": {
      "text/plain": [
       "0.0"
      ]
     },
     "execution_count": 161,
     "metadata": {},
     "output_type": "execute_result"
    }
   ],
   "source": [
    "# Value of rainfall at 25th percentile(low rain)\n",
    "q25=data['Rainfall'].quantile(0.25)\n",
    "q25"
   ]
  },
  {
   "cell_type": "code",
   "execution_count": 162,
   "id": "bef1d2c2",
   "metadata": {},
   "outputs": [
    {
     "data": {
      "text/plain": [
       "0.0"
      ]
     },
     "execution_count": 162,
     "metadata": {},
     "output_type": "execute_result"
    }
   ],
   "source": [
    "# Value of rainfall at 50 th percentile(medium rain)\n",
    "q50=data['Rainfall'].quantile( 0.50)\n",
    "q50"
   ]
  },
  {
   "cell_type": "code",
   "execution_count": 163,
   "id": "2daa88de",
   "metadata": {},
   "outputs": [
    {
     "data": {
      "text/plain": [
       "0.8"
      ]
     },
     "execution_count": 163,
     "metadata": {},
     "output_type": "execute_result"
    }
   ],
   "source": [
    "# Value of rainfall at 75th percentile(high rain)\n",
    "q75=data['Rainfall'].quantile(0.75)\n",
    "q75"
   ]
  },
  {
   "cell_type": "code",
   "execution_count": 93,
   "id": "c7d0e7f5",
   "metadata": {},
   "outputs": [
    {
     "data": {
      "text/plain": [
       "278.4"
      ]
     },
     "execution_count": 93,
     "metadata": {},
     "output_type": "execute_result"
    }
   ],
   "source": [
    "# Value of rainfall at 100th percentile(heavy rain)\n",
    "q100=data['Rainfall'].quantile(1)\n",
    "q100"
   ]
  },
  {
   "cell_type": "code",
   "execution_count": 164,
   "id": "9fd76115",
   "metadata": {},
   "outputs": [
    {
     "name": "stderr",
     "output_type": "stream",
     "text": [
      "C:\\Users\\Dell\\anaconda3\\envs\\tf_env\\lib\\site-packages\\ipykernel_launcher.py:3: SettingWithCopyWarning: \n",
      "A value is trying to be set on a copy of a slice from a DataFrame.\n",
      "Try using .loc[row_indexer,col_indexer] = value instead\n",
      "\n",
      "See the caveats in the documentation: https://pandas.pydata.org/pandas-docs/stable/user_guide/indexing.html#returning-a-view-versus-a-copy\n",
      "  This is separate from the ipykernel package so we can avoid doing imports until\n",
      "C:\\Users\\Dell\\anaconda3\\envs\\tf_env\\lib\\site-packages\\ipykernel_launcher.py:5: SettingWithCopyWarning: \n",
      "A value is trying to be set on a copy of a slice from a DataFrame.\n",
      "Try using .loc[row_indexer,col_indexer] = value instead\n",
      "\n",
      "See the caveats in the documentation: https://pandas.pydata.org/pandas-docs/stable/user_guide/indexing.html#returning-a-view-versus-a-copy\n",
      "  \"\"\"\n",
      "C:\\Users\\Dell\\anaconda3\\envs\\tf_env\\lib\\site-packages\\ipykernel_launcher.py:7: SettingWithCopyWarning: \n",
      "A value is trying to be set on a copy of a slice from a DataFrame.\n",
      "Try using .loc[row_indexer,col_indexer] = value instead\n",
      "\n",
      "See the caveats in the documentation: https://pandas.pydata.org/pandas-docs/stable/user_guide/indexing.html#returning-a-view-versus-a-copy\n",
      "  import sys\n",
      "C:\\Users\\Dell\\anaconda3\\envs\\tf_env\\lib\\site-packages\\ipykernel_launcher.py:9: SettingWithCopyWarning: \n",
      "A value is trying to be set on a copy of a slice from a DataFrame.\n",
      "Try using .loc[row_indexer,col_indexer] = value instead\n",
      "\n",
      "See the caveats in the documentation: https://pandas.pydata.org/pandas-docs/stable/user_guide/indexing.html#returning-a-view-versus-a-copy\n",
      "  if __name__ == '__main__':\n",
      "C:\\Users\\Dell\\anaconda3\\envs\\tf_env\\lib\\site-packages\\ipykernel_launcher.py:11: SettingWithCopyWarning: \n",
      "A value is trying to be set on a copy of a slice from a DataFrame.\n",
      "Try using .loc[row_indexer,col_indexer] = value instead\n",
      "\n",
      "See the caveats in the documentation: https://pandas.pydata.org/pandas-docs/stable/user_guide/indexing.html#returning-a-view-versus-a-copy\n",
      "  # This is added back by InteractiveShellApp.init_path()\n"
     ]
    }
   ],
   "source": [
    "# Labeling the levels of rainfall based on its above mentioned percentile value\n",
    "norain=data[data['Rainfall']==q0]\n",
    "norain['Rainfall Levels']='No Rain'\n",
    "lowrain=data[data['Rainfall'].between(q0,q25)]\n",
    "lowrain['Rainfall Levels']='Low Rain'\n",
    "medrain=data[data['Rainfall'].between(q25,q50)]\n",
    "medrain['Rainfall Levels']='Medium Rain'\n",
    "highrain=data[data['Rainfall'].between(q50,q75)]\n",
    "highrain['Rainfall Levels']='High Rain'\n",
    "heavyrain=data[data['Rainfall'].between(q75,q100)]\n",
    "heavyrain['Rainfall Levels']='Heavy Rain'"
   ]
  },
  {
   "cell_type": "code",
   "execution_count": 142,
   "id": "8aa8043e",
   "metadata": {},
   "outputs": [
    {
     "data": {
      "text/plain": [
       "array(['No Rain', 'Low Rain', 'Medium Rain', 'High Rain', 'Heavy Rain'],\n",
       "      dtype=object)"
      ]
     },
     "execution_count": 142,
     "metadata": {},
     "output_type": "execute_result"
    }
   ],
   "source": [
    "# Concatting all othe above labels together as Rainfall Levels\n",
    "rainfalldata=pd.concat([norain,lowrain,medrain,highrain,heavyrain])\n",
    "rainfalldata['Rainfall Levels'].unique()\n"
   ]
  },
  {
   "cell_type": "code",
   "execution_count": 165,
   "id": "4bf12718",
   "metadata": {},
   "outputs": [
    {
     "data": {
      "text/html": [
       "<div>\n",
       "<style scoped>\n",
       "    .dataframe tbody tr th:only-of-type {\n",
       "        vertical-align: middle;\n",
       "    }\n",
       "\n",
       "    .dataframe tbody tr th {\n",
       "        vertical-align: top;\n",
       "    }\n",
       "\n",
       "    .dataframe thead th {\n",
       "        text-align: right;\n",
       "    }\n",
       "</style>\n",
       "<table border=\"1\" class=\"dataframe\">\n",
       "  <thead>\n",
       "    <tr style=\"text-align: right;\">\n",
       "      <th>Rainfall Levels</th>\n",
       "      <th>Heavy Rain</th>\n",
       "      <th>High Rain</th>\n",
       "      <th>Low Rain</th>\n",
       "      <th>Medium Rain</th>\n",
       "      <th>No Rain</th>\n",
       "    </tr>\n",
       "    <tr>\n",
       "      <th>WindGustDir</th>\n",
       "      <th></th>\n",
       "      <th></th>\n",
       "      <th></th>\n",
       "      <th></th>\n",
       "      <th></th>\n",
       "    </tr>\n",
       "  </thead>\n",
       "  <tbody>\n",
       "    <tr>\n",
       "      <th>E</th>\n",
       "      <td>1082</td>\n",
       "      <td>5372</td>\n",
       "      <td>4724</td>\n",
       "      <td>4724</td>\n",
       "      <td>4724</td>\n",
       "    </tr>\n",
       "    <tr>\n",
       "      <th>ENE</th>\n",
       "      <td>965</td>\n",
       "      <td>4780</td>\n",
       "      <td>4231</td>\n",
       "      <td>4231</td>\n",
       "      <td>4231</td>\n",
       "    </tr>\n",
       "    <tr>\n",
       "      <th>ESE</th>\n",
       "      <td>1066</td>\n",
       "      <td>4153</td>\n",
       "      <td>3586</td>\n",
       "      <td>3586</td>\n",
       "      <td>3586</td>\n",
       "    </tr>\n",
       "    <tr>\n",
       "      <th>N</th>\n",
       "      <td>1148</td>\n",
       "      <td>5172</td>\n",
       "      <td>4351</td>\n",
       "      <td>4351</td>\n",
       "      <td>4351</td>\n",
       "    </tr>\n",
       "    <tr>\n",
       "      <th>NE</th>\n",
       "      <td>789</td>\n",
       "      <td>4233</td>\n",
       "      <td>3738</td>\n",
       "      <td>3738</td>\n",
       "      <td>3738</td>\n",
       "    </tr>\n",
       "    <tr>\n",
       "      <th>NNE</th>\n",
       "      <td>758</td>\n",
       "      <td>3809</td>\n",
       "      <td>3307</td>\n",
       "      <td>3307</td>\n",
       "      <td>3307</td>\n",
       "    </tr>\n",
       "    <tr>\n",
       "      <th>NNW</th>\n",
       "      <td>1075</td>\n",
       "      <td>3642</td>\n",
       "      <td>3037</td>\n",
       "      <td>3037</td>\n",
       "      <td>3037</td>\n",
       "    </tr>\n",
       "    <tr>\n",
       "      <th>NW</th>\n",
       "      <td>1480</td>\n",
       "      <td>4269</td>\n",
       "      <td>3563</td>\n",
       "      <td>3563</td>\n",
       "      <td>3563</td>\n",
       "    </tr>\n",
       "    <tr>\n",
       "      <th>S</th>\n",
       "      <td>1942</td>\n",
       "      <td>4396</td>\n",
       "      <td>3565</td>\n",
       "      <td>3565</td>\n",
       "      <td>3565</td>\n",
       "    </tr>\n",
       "    <tr>\n",
       "      <th>SE</th>\n",
       "      <td>1495</td>\n",
       "      <td>5101</td>\n",
       "      <td>4317</td>\n",
       "      <td>4317</td>\n",
       "      <td>4317</td>\n",
       "    </tr>\n",
       "    <tr>\n",
       "      <th>SSE</th>\n",
       "      <td>1646</td>\n",
       "      <td>4771</td>\n",
       "      <td>3992</td>\n",
       "      <td>3992</td>\n",
       "      <td>3992</td>\n",
       "    </tr>\n",
       "    <tr>\n",
       "      <th>SSW</th>\n",
       "      <td>1949</td>\n",
       "      <td>4224</td>\n",
       "      <td>3459</td>\n",
       "      <td>3459</td>\n",
       "      <td>3459</td>\n",
       "    </tr>\n",
       "    <tr>\n",
       "      <th>SW</th>\n",
       "      <td>1984</td>\n",
       "      <td>4301</td>\n",
       "      <td>3505</td>\n",
       "      <td>3505</td>\n",
       "      <td>3505</td>\n",
       "    </tr>\n",
       "    <tr>\n",
       "      <th>W</th>\n",
       "      <td>2334</td>\n",
       "      <td>4645</td>\n",
       "      <td>3662</td>\n",
       "      <td>3662</td>\n",
       "      <td>3662</td>\n",
       "    </tr>\n",
       "    <tr>\n",
       "      <th>WNW</th>\n",
       "      <td>1803</td>\n",
       "      <td>3968</td>\n",
       "      <td>3164</td>\n",
       "      <td>3164</td>\n",
       "      <td>3164</td>\n",
       "    </tr>\n",
       "    <tr>\n",
       "      <th>WSW</th>\n",
       "      <td>2140</td>\n",
       "      <td>4239</td>\n",
       "      <td>3405</td>\n",
       "      <td>3405</td>\n",
       "      <td>3405</td>\n",
       "    </tr>\n",
       "  </tbody>\n",
       "</table>\n",
       "</div>"
      ],
      "text/plain": [
       "Rainfall Levels  Heavy Rain  High Rain  Low Rain  Medium Rain  No Rain\n",
       "WindGustDir                                                           \n",
       "E                      1082       5372      4724         4724     4724\n",
       "ENE                     965       4780      4231         4231     4231\n",
       "ESE                    1066       4153      3586         3586     3586\n",
       "N                      1148       5172      4351         4351     4351\n",
       "NE                      789       4233      3738         3738     3738\n",
       "NNE                     758       3809      3307         3307     3307\n",
       "NNW                    1075       3642      3037         3037     3037\n",
       "NW                     1480       4269      3563         3563     3563\n",
       "S                      1942       4396      3565         3565     3565\n",
       "SE                     1495       5101      4317         4317     4317\n",
       "SSE                    1646       4771      3992         3992     3992\n",
       "SSW                    1949       4224      3459         3459     3459\n",
       "SW                     1984       4301      3505         3505     3505\n",
       "W                      2334       4645      3662         3662     3662\n",
       "WNW                    1803       3968      3164         3164     3164\n",
       "WSW                    2140       4239      3405         3405     3405"
      ]
     },
     "execution_count": 165,
     "metadata": {},
     "output_type": "execute_result"
    }
   ],
   "source": [
    "# Framing a crosstable with WindGust Direction and Rainfall Levels\n",
    "table=pd.crosstab(index=rainfalldata['WindGustDir'],columns=rainfalldata['Rainfall Levels'])\n",
    "table"
   ]
  },
  {
   "cell_type": "code",
   "execution_count": 144,
   "id": "de458451",
   "metadata": {},
   "outputs": [
    {
     "data": {
      "text/plain": [
       "<AxesSubplot:xlabel='WindGustDir'>"
      ]
     },
     "execution_count": 144,
     "metadata": {},
     "output_type": "execute_result"
    },
    {
     "data": {
      "image/png": "[encoded data removed]",
      "text/plain": [
       "<Figure size 432x288 with 1 Axes>"
      ]
     },
     "metadata": {
      "needs_background": "light"
     },
     "output_type": "display_data"
    }
   ],
   "source": [
    "#Plotting a bar plot based on the above table \n",
    "table.plot(kind='bar')"
   ]
  },
  {
   "cell_type": "code",
   "execution_count": null,
   "id": "711c8350",
   "metadata": {},
   "outputs": [],
   "source": [
    "# On analysing the above bar plot we can state that High Rains are quite prominent in Australia across all wind directions."
   ]
  },
  {
   "cell_type": "markdown",
   "id": "fafec3b2",
   "metadata": {},
   "source": [
    "# 7. Plot the correlation heatmap between the numerical variables"
   ]
  },
  {
   "cell_type": "code",
   "execution_count": 54,
   "id": "14328c36",
   "metadata": {},
   "outputs": [
    {
     "data": {
      "text/plain": [
       "<AxesSubplot:>"
      ]
     },
     "execution_count": 54,
     "metadata": {},
     "output_type": "execute_result"
    },
    {
     "data": {
      "image/png": "[encoded data removed]",
      "text/plain": [
       "<Figure size 576x576 with 2 Axes>"
      ]
     },
     "metadata": {
      "needs_background": "light"
     },
     "output_type": "display_data"
    }
   ],
   "source": [
    "#Plotting correlation heatmap of numerical variables using the following libraries \n",
    "from matplotlib import pyplot as plt\n",
    "import seaborn as sb\n",
    "plt.figure(figsize=(8,8))\n",
    "data_num=data._get_numeric_data()\n",
    "sb.heatmap(data_num.corr())"
   ]
  },
  {
   "cell_type": "code",
   "execution_count": null,
   "id": "87df8ec8",
   "metadata": {},
   "outputs": [],
   "source": [
    "#Correlation ranges from-1 to +1 , the above correlation heatmap shows the relationship between the various columns .\n",
    "# As the colour of the box intensifies into dark shades we can say that the relationship between the corresponding 2 columns  is negative but however correlation exists as it gets closer to (-)1.\n",
    "#Similarly as the colour of the box gets lighter we can say that the relationship is positive and it gets closer to (+)1.\n",
    "# Please note that Min Temp is included in Temp hence we need not include that column for analysis."
   ]
  },
  {
   "cell_type": "markdown",
   "id": "b58cc7ec",
   "metadata": {},
   "source": [
    "# 8.\tPerform the appropriate Missing value treatments for each columns"
   ]
  },
  {
   "cell_type": "code",
   "execution_count": 68,
   "id": "c42c5708",
   "metadata": {},
   "outputs": [
    {
     "data": {
      "text/plain": [
       "Date                 0\n",
       "Location             0\n",
       "MinTemp            436\n",
       "Rainfall           970\n",
       "Evaporation      42633\n",
       "Sunshine         47482\n",
       "WindGustDir       6581\n",
       "WindGustSpeed     6540\n",
       "WindDir9am        7062\n",
       "WindDir3pm        2691\n",
       "RainToday          970\n",
       "RainTomorrow         0\n",
       "dtype: int64"
      ]
     },
     "execution_count": 68,
     "metadata": {},
     "output_type": "execute_result"
    }
   ],
   "source": [
    "# Finding the missing values \n",
    "data.isnull().sum()"
   ]
  },
  {
   "cell_type": "code",
   "execution_count": null,
   "id": "fb79b80c",
   "metadata": {},
   "outputs": [],
   "source": [
    "#(a)Computing  the percentage of missing values in each column"
   ]
  },
  {
   "cell_type": "code",
   "execution_count": 69,
   "id": "cbe51e50",
   "metadata": {},
   "outputs": [
    {
     "data": {
      "text/plain": [
       "Date              0.000\n",
       "Location          0.000\n",
       "MinTemp           0.436\n",
       "Rainfall          0.970\n",
       "Evaporation      42.633\n",
       "Sunshine         47.482\n",
       "WindGustDir       6.581\n",
       "WindGustSpeed     6.540\n",
       "WindDir9am        7.062\n",
       "WindDir3pm        2.691\n",
       "RainToday         0.970\n",
       "RainTomorrow      0.000\n",
       "dtype: float64"
      ]
     },
     "execution_count": 69,
     "metadata": {},
     "output_type": "execute_result"
    }
   ],
   "source": [
    "data.isnull().sum()/len(data)*100"
   ]
  },
  {
   "cell_type": "code",
   "execution_count": null,
   "id": "d51b19c6",
   "metadata": {},
   "outputs": [],
   "source": [
    "#(b)Explore dropping the row or dropping the column strategy is appropriate for this data"
   ]
  },
  {
   "cell_type": "code",
   "execution_count": 70,
   "id": "6fd4bfc8",
   "metadata": {},
   "outputs": [
    {
     "data": {
      "text/html": [
       "<div>\n",
       "<style scoped>\n",
       "    .dataframe tbody tr th:only-of-type {\n",
       "        vertical-align: middle;\n",
       "    }\n",
       "\n",
       "    .dataframe tbody tr th {\n",
       "        vertical-align: top;\n",
       "    }\n",
       "\n",
       "    .dataframe thead th {\n",
       "        text-align: right;\n",
       "    }\n",
       "</style>\n",
       "<table border=\"1\" class=\"dataframe\">\n",
       "  <thead>\n",
       "    <tr style=\"text-align: right;\">\n",
       "      <th></th>\n",
       "      <th>Date</th>\n",
       "      <th>Location</th>\n",
       "      <th>MinTemp</th>\n",
       "      <th>Rainfall</th>\n",
       "      <th>Evaporation</th>\n",
       "      <th>WindGustDir</th>\n",
       "      <th>WindGustSpeed</th>\n",
       "      <th>WindDir9am</th>\n",
       "      <th>WindDir3pm</th>\n",
       "      <th>RainToday</th>\n",
       "      <th>RainTomorrow</th>\n",
       "    </tr>\n",
       "  </thead>\n",
       "  <tbody>\n",
       "    <tr>\n",
       "      <th>0</th>\n",
       "      <td>7/2/2014</td>\n",
       "      <td>CoffsHarbour</td>\n",
       "      <td>17.7</td>\n",
       "      <td>2.2</td>\n",
       "      <td>1.6</td>\n",
       "      <td>NNE</td>\n",
       "      <td>31.0</td>\n",
       "      <td>SW</td>\n",
       "      <td>ESE</td>\n",
       "      <td>Yes</td>\n",
       "      <td>No</td>\n",
       "    </tr>\n",
       "    <tr>\n",
       "      <th>1</th>\n",
       "      <td>23-04-2009</td>\n",
       "      <td>Portland</td>\n",
       "      <td>6.7</td>\n",
       "      <td>0.0</td>\n",
       "      <td>5.4</td>\n",
       "      <td>NNE</td>\n",
       "      <td>44.0</td>\n",
       "      <td>NE</td>\n",
       "      <td>NNE</td>\n",
       "      <td>No</td>\n",
       "      <td>Yes</td>\n",
       "    </tr>\n",
       "    <tr>\n",
       "      <th>2</th>\n",
       "      <td>8/11/2015</td>\n",
       "      <td>Watsonia</td>\n",
       "      <td>6.2</td>\n",
       "      <td>0.0</td>\n",
       "      <td>4.2</td>\n",
       "      <td>WSW</td>\n",
       "      <td>20.0</td>\n",
       "      <td>SE</td>\n",
       "      <td>E</td>\n",
       "      <td>No</td>\n",
       "      <td>No</td>\n",
       "    </tr>\n",
       "    <tr>\n",
       "      <th>3</th>\n",
       "      <td>21-11-2012</td>\n",
       "      <td>Wollongong</td>\n",
       "      <td>13.8</td>\n",
       "      <td>0.0</td>\n",
       "      <td>NaN</td>\n",
       "      <td>SSW</td>\n",
       "      <td>70.0</td>\n",
       "      <td>N</td>\n",
       "      <td>NE</td>\n",
       "      <td>No</td>\n",
       "      <td>No</td>\n",
       "    </tr>\n",
       "    <tr>\n",
       "      <th>4</th>\n",
       "      <td>30-07-2013</td>\n",
       "      <td>Townsville</td>\n",
       "      <td>13.4</td>\n",
       "      <td>0.0</td>\n",
       "      <td>6.0</td>\n",
       "      <td>ENE</td>\n",
       "      <td>30.0</td>\n",
       "      <td>SSW</td>\n",
       "      <td>NNW</td>\n",
       "      <td>No</td>\n",
       "      <td>No</td>\n",
       "    </tr>\n",
       "    <tr>\n",
       "      <th>...</th>\n",
       "      <td>...</td>\n",
       "      <td>...</td>\n",
       "      <td>...</td>\n",
       "      <td>...</td>\n",
       "      <td>...</td>\n",
       "      <td>...</td>\n",
       "      <td>...</td>\n",
       "      <td>...</td>\n",
       "      <td>...</td>\n",
       "      <td>...</td>\n",
       "      <td>...</td>\n",
       "    </tr>\n",
       "    <tr>\n",
       "      <th>99995</th>\n",
       "      <td>27-01-2013</td>\n",
       "      <td>AliceSprings</td>\n",
       "      <td>17.6</td>\n",
       "      <td>0.0</td>\n",
       "      <td>15.6</td>\n",
       "      <td>SE</td>\n",
       "      <td>44.0</td>\n",
       "      <td>SE</td>\n",
       "      <td>SE</td>\n",
       "      <td>No</td>\n",
       "      <td>No</td>\n",
       "    </tr>\n",
       "    <tr>\n",
       "      <th>99996</th>\n",
       "      <td>14-08-2010</td>\n",
       "      <td>Melbourne</td>\n",
       "      <td>10.2</td>\n",
       "      <td>0.0</td>\n",
       "      <td>3.8</td>\n",
       "      <td>N</td>\n",
       "      <td>89.0</td>\n",
       "      <td>N</td>\n",
       "      <td>N</td>\n",
       "      <td>No</td>\n",
       "      <td>No</td>\n",
       "    </tr>\n",
       "    <tr>\n",
       "      <th>99997</th>\n",
       "      <td>26-10-2015</td>\n",
       "      <td>SydneyAirport</td>\n",
       "      <td>17.1</td>\n",
       "      <td>0.0</td>\n",
       "      <td>7.0</td>\n",
       "      <td>W</td>\n",
       "      <td>85.0</td>\n",
       "      <td>N</td>\n",
       "      <td>NE</td>\n",
       "      <td>No</td>\n",
       "      <td>Yes</td>\n",
       "    </tr>\n",
       "    <tr>\n",
       "      <th>99998</th>\n",
       "      <td>6/4/2012</td>\n",
       "      <td>Albany</td>\n",
       "      <td>NaN</td>\n",
       "      <td>0.8</td>\n",
       "      <td>3.8</td>\n",
       "      <td>NaN</td>\n",
       "      <td>NaN</td>\n",
       "      <td>NaN</td>\n",
       "      <td>NaN</td>\n",
       "      <td>No</td>\n",
       "      <td>No</td>\n",
       "    </tr>\n",
       "    <tr>\n",
       "      <th>99999</th>\n",
       "      <td>21-03-2017</td>\n",
       "      <td>Perth</td>\n",
       "      <td>17.5</td>\n",
       "      <td>0.0</td>\n",
       "      <td>8.0</td>\n",
       "      <td>E</td>\n",
       "      <td>39.0</td>\n",
       "      <td>ENE</td>\n",
       "      <td>ESE</td>\n",
       "      <td>No</td>\n",
       "      <td>Yes</td>\n",
       "    </tr>\n",
       "  </tbody>\n",
       "</table>\n",
       "<p>100000 rows × 11 columns</p>\n",
       "</div>"
      ],
      "text/plain": [
       "             Date       Location  MinTemp  Rainfall  Evaporation WindGustDir  \\\n",
       "0        7/2/2014   CoffsHarbour     17.7       2.2          1.6         NNE   \n",
       "1      23-04-2009       Portland      6.7       0.0          5.4         NNE   \n",
       "2       8/11/2015       Watsonia      6.2       0.0          4.2         WSW   \n",
       "3      21-11-2012     Wollongong     13.8       0.0          NaN         SSW   \n",
       "4      30-07-2013     Townsville     13.4       0.0          6.0         ENE   \n",
       "...           ...            ...      ...       ...          ...         ...   \n",
       "99995  27-01-2013   AliceSprings     17.6       0.0         15.6          SE   \n",
       "99996  14-08-2010      Melbourne     10.2       0.0          3.8           N   \n",
       "99997  26-10-2015  SydneyAirport     17.1       0.0          7.0           W   \n",
       "99998    6/4/2012         Albany      NaN       0.8          3.8         NaN   \n",
       "99999  21-03-2017          Perth     17.5       0.0          8.0           E   \n",
       "\n",
       "       WindGustSpeed WindDir9am WindDir3pm RainToday RainTomorrow  \n",
       "0               31.0         SW        ESE       Yes           No  \n",
       "1               44.0         NE        NNE        No          Yes  \n",
       "2               20.0         SE          E        No           No  \n",
       "3               70.0          N         NE        No           No  \n",
       "4               30.0        SSW        NNW        No           No  \n",
       "...              ...        ...        ...       ...          ...  \n",
       "99995           44.0         SE         SE        No           No  \n",
       "99996           89.0          N          N        No           No  \n",
       "99997           85.0          N         NE        No          Yes  \n",
       "99998            NaN        NaN        NaN        No           No  \n",
       "99999           39.0        ENE        ESE        No          Yes  \n",
       "\n",
       "[100000 rows x 11 columns]"
      ]
     },
     "execution_count": 70,
     "metadata": {},
     "output_type": "execute_result"
    }
   ],
   "source": [
    "#Since sunshine has more than 40% of null values we can  drop that column\n",
    "data.drop('Sunshine',axis=1)\n"
   ]
  },
  {
   "cell_type": "code",
   "execution_count": null,
   "id": "5fa2a71c",
   "metadata": {},
   "outputs": [],
   "source": [
    "#(c)Explore mean/median imputation is preferable for any column"
   ]
  },
  {
   "cell_type": "code",
   "execution_count": null,
   "id": "d61d1ff4",
   "metadata": {},
   "outputs": [],
   "source": [
    "# Columns with less than 3% null values can go for mean/median imputation .Columns with outliers and less than 3% can go for median imputation."
   ]
  },
  {
   "cell_type": "code",
   "execution_count": null,
   "id": "fdfb6bc2",
   "metadata": {},
   "outputs": [],
   "source": [
    "#Identifying if data has outliers"
   ]
  },
  {
   "cell_type": "code",
   "execution_count": 16,
   "id": "f2b628b2",
   "metadata": {},
   "outputs": [
    {
     "data": {
      "image/png": "[encoded data removed]",
      "text/plain": [
       "<Figure size 432x288 with 1 Axes>"
      ]
     },
     "metadata": {
      "needs_background": "light"
     },
     "output_type": "display_data"
    },
    {
     "data": {
      "image/png": "[encoded data removed]",
      "text/plain": [
       "<Figure size 432x288 with 1 Axes>"
      ]
     },
     "metadata": {
      "needs_background": "light"
     },
     "output_type": "display_data"
    },
    {
     "data": {
      "image/png": "[encoded data removed]",
      "text/plain": [
       "<Figure size 432x288 with 1 Axes>"
      ]
     },
     "metadata": {
      "needs_background": "light"
     },
     "output_type": "display_data"
    },
    {
     "data": {
      "image/png": "[encoded data removed]",
      "text/plain": [
       "<Figure size 432x288 with 1 Axes>"
      ]
     },
     "metadata": {
      "needs_background": "light"
     },
     "output_type": "display_data"
    },
    {
     "data": {
      "image/png": "[encoded data removed]",
      "text/plain": [
       "<Figure size 432x288 with 1 Axes>"
      ]
     },
     "metadata": {
      "needs_background": "light"
     },
     "output_type": "display_data"
    },
    {
     "data": {
      "image/png": "[encoded data removed]",
      "text/plain": [
       "<Figure size 432x288 with 1 Axes>"
      ]
     },
     "metadata": {
      "needs_background": "light"
     },
     "output_type": "display_data"
    },
    {
     "data": {
      "image/png": "[encoded data removed]",
      "text/plain": [
       "<Figure size 432x288 with 1 Axes>"
      ]
     },
     "metadata": {
      "needs_background": "light"
     },
     "output_type": "display_data"
    },
    {
     "data": {
      "image/png": "[encoded data removed]",
      "text/plain": [
       "<Figure size 432x288 with 1 Axes>"
      ]
     },
     "metadata": {
      "needs_background": "light"
     },
     "output_type": "display_data"
    },
    {
     "data": {
      "image/png": "[encoded data removed]",
      "text/plain": [
       "<Figure size 432x288 with 1 Axes>"
      ]
     },
     "metadata": {
      "needs_background": "light"
     },
     "output_type": "display_data"
    },
    {
     "data": {
      "image/png": "[encoded data removed]",
      "text/plain": [
       "<Figure size 432x288 with 1 Axes>"
      ]
     },
     "metadata": {
      "needs_background": "light"
     },
     "output_type": "display_data"
    },
    {
     "data": {
      "image/png": "[encoded data removed]",
      "text/plain": [
       "<Figure size 432x288 with 1 Axes>"
      ]
     },
     "metadata": {
      "needs_background": "light"
     },
     "output_type": "display_data"
    }
   ],
   "source": [
    "import seaborn as sb\n",
    "import matplotlib.pyplot as plt\n",
    "for i in num_data.columns:\n",
    "    sb.boxplot(x=num_data[i])\n",
    "    plt.show()"
   ]
  },
  {
   "cell_type": "markdown",
   "id": "45f564cb",
   "metadata": {},
   "source": [
    "# MinTemp"
   ]
  },
  {
   "cell_type": "code",
   "execution_count": 167,
   "id": "8ce14b92",
   "metadata": {},
   "outputs": [
    {
     "data": {
      "text/plain": [
       "count    100000.000000\n",
       "mean         12.190559\n",
       "std           6.398855\n",
       "min          -8.500000\n",
       "25%           7.600000\n",
       "50%          12.000000\n",
       "75%          16.800000\n",
       "max          33.900000\n",
       "Name: MinTemp, dtype: float64"
      ]
     },
     "execution_count": 167,
     "metadata": {},
     "output_type": "execute_result"
    }
   ],
   "source": [
    "# Analysing important characterstics of MinTemp using describe()\n",
    "data['MinTemp'].describe()"
   ]
  },
  {
   "cell_type": "code",
   "execution_count": 168,
   "id": "d312cbb3",
   "metadata": {},
   "outputs": [],
   "source": [
    "# Performing median imputation on MinTemp as it has outliers\n",
    "data['MinTemp']=data['MinTemp'].fillna(data['MinTemp'].median())"
   ]
  },
  {
   "cell_type": "code",
   "execution_count": 169,
   "id": "212b5233",
   "metadata": {},
   "outputs": [
    {
     "data": {
      "text/plain": [
       "0"
      ]
     },
     "execution_count": 169,
     "metadata": {},
     "output_type": "execute_result"
    }
   ],
   "source": [
    "data['MinTemp'].isnull().sum() # MinTemp no more has null value"
   ]
  },
  {
   "cell_type": "code",
   "execution_count": 170,
   "id": "7f05bac8",
   "metadata": {},
   "outputs": [
    {
     "data": {
      "text/plain": [
       "count    100000.000000\n",
       "mean         12.190559\n",
       "std           6.398855\n",
       "min          -8.500000\n",
       "25%           7.600000\n",
       "50%          12.000000\n",
       "75%          16.800000\n",
       "max          33.900000\n",
       "Name: MinTemp, dtype: float64"
      ]
     },
     "execution_count": 170,
     "metadata": {},
     "output_type": "execute_result"
    }
   ],
   "source": [
    "data['MinTemp'].describe()# Analyzing the change in below given characterstics after imputation."
   ]
  },
  {
   "cell_type": "markdown",
   "id": "b514abb6",
   "metadata": {},
   "source": [
    "# Rainfall"
   ]
  },
  {
   "cell_type": "code",
   "execution_count": 21,
   "id": "50545971",
   "metadata": {},
   "outputs": [
    {
     "data": {
      "text/plain": [
       "count    100000.000000\n",
       "mean          2.324117\n",
       "std           8.320062\n",
       "min           0.000000\n",
       "25%           0.000000\n",
       "50%           0.000000\n",
       "75%           0.600000\n",
       "max         278.400000\n",
       "Name: Rainfall, dtype: float64"
      ]
     },
     "execution_count": 21,
     "metadata": {},
     "output_type": "execute_result"
    }
   ],
   "source": [
    "# Analysing important characterstics of Rainfall  using describe()\n",
    "data['Rainfall'].describe()"
   ]
  },
  {
   "cell_type": "code",
   "execution_count": 12,
   "id": "0010b38b",
   "metadata": {},
   "outputs": [],
   "source": [
    "# Performing median imputation on MinTemp as it has outliers\n",
    "data['Rainfall']=data['Rainfall'].fillna(data['Rainfall'].median())"
   ]
  },
  {
   "cell_type": "code",
   "execution_count": 13,
   "id": "848b6817",
   "metadata": {},
   "outputs": [
    {
     "data": {
      "text/plain": [
       "0"
      ]
     },
     "execution_count": 13,
     "metadata": {},
     "output_type": "execute_result"
    }
   ],
   "source": [
    "data['Rainfall'].isnull().sum()# Rainfall nomore has nullvalue"
   ]
  },
  {
   "cell_type": "markdown",
   "id": "d04546e4",
   "metadata": {},
   "source": [
    "# WindGustSpeed"
   ]
  },
  {
   "cell_type": "code",
   "execution_count": 30,
   "id": "beb43a66",
   "metadata": {},
   "outputs": [
    {
     "data": {
      "text/plain": [
       "count    100000.000000\n",
       "mean         39.922280\n",
       "std          13.139831\n",
       "min           7.000000\n",
       "25%          31.000000\n",
       "50%          39.000000\n",
       "75%          46.000000\n",
       "max         135.000000\n",
       "Name: WindGustSpeed, dtype: float64"
      ]
     },
     "execution_count": 30,
     "metadata": {},
     "output_type": "execute_result"
    }
   ],
   "source": [
    "# Analysing important characterstics of WindGustSpeed  using describe()\n",
    "data['WindGustSpeed'].describe()"
   ]
  },
  {
   "cell_type": "code",
   "execution_count": 31,
   "id": "3574c61f",
   "metadata": {},
   "outputs": [],
   "source": [
    "# Performing median imputation on MinTemp as it has outliers\n",
    "data['WindGustSpeed']=data['WindGustSpeed'].fillna(data['WindGustSpeed'].median())"
   ]
  },
  {
   "cell_type": "code",
   "execution_count": 32,
   "id": "ae5e6499",
   "metadata": {},
   "outputs": [
    {
     "data": {
      "text/plain": [
       "0"
      ]
     },
     "execution_count": 32,
     "metadata": {},
     "output_type": "execute_result"
    }
   ],
   "source": [
    "data['WindGustSpeed'].isnull().sum()# WindGustSpeed nomore has nullvalue"
   ]
  },
  {
   "cell_type": "code",
   "execution_count": 34,
   "id": "153201aa",
   "metadata": {},
   "outputs": [
    {
     "data": {
      "text/plain": [
       "count    100000.000000\n",
       "mean         39.922280\n",
       "std          13.139831\n",
       "min           7.000000\n",
       "25%          31.000000\n",
       "50%          39.000000\n",
       "75%          46.000000\n",
       "max         135.000000\n",
       "Name: WindGustSpeed, dtype: float64"
      ]
     },
     "execution_count": 34,
     "metadata": {},
     "output_type": "execute_result"
    }
   ],
   "source": [
    "data['WindGustSpeed'].describe()# Analyze the change in the below given characterstics after imputation "
   ]
  },
  {
   "cell_type": "markdown",
   "id": "19f27928",
   "metadata": {},
   "source": [
    "# Temp"
   ]
  },
  {
   "cell_type": "code",
   "execution_count": 35,
   "id": "d05fdb5d",
   "metadata": {},
   "outputs": [
    {
     "data": {
      "text/plain": [
       "count    99407.000000\n",
       "mean        17.709175\n",
       "std          6.304051\n",
       "min         -6.150000\n",
       "25%         12.950000\n",
       "50%         17.400000\n",
       "75%         22.300000\n",
       "max         38.800000\n",
       "Name: Temp, dtype: float64"
      ]
     },
     "execution_count": 35,
     "metadata": {},
     "output_type": "execute_result"
    }
   ],
   "source": [
    "# Analysing important characterstics of Temp  using describe()\n",
    "data['Temp'].describe()"
   ]
  },
  {
   "cell_type": "code",
   "execution_count": 40,
   "id": "f3afb942",
   "metadata": {},
   "outputs": [],
   "source": [
    "# Performing median imputation on Temp as it has outliers\n",
    "data['Temp']=data['Temp'].fillna(data['Temp'].median())"
   ]
  },
  {
   "cell_type": "code",
   "execution_count": 41,
   "id": "00196810",
   "metadata": {},
   "outputs": [
    {
     "data": {
      "text/plain": [
       "0"
      ]
     },
     "execution_count": 41,
     "metadata": {},
     "output_type": "execute_result"
    }
   ],
   "source": [
    "data['Temp'].isnull().sum() # Nomore nullvalues in Temp"
   ]
  },
  {
   "cell_type": "code",
   "execution_count": 39,
   "id": "324517c5",
   "metadata": {},
   "outputs": [
    {
     "data": {
      "text/plain": [
       "count    100000.000000\n",
       "mean         17.707341\n",
       "std           6.285376\n",
       "min          -6.150000\n",
       "25%          13.000000\n",
       "50%          17.400000\n",
       "75%          22.300000\n",
       "max          38.800000\n",
       "Name: Temp, dtype: float64"
      ]
     },
     "execution_count": 39,
     "metadata": {},
     "output_type": "execute_result"
    }
   ],
   "source": [
    "data['Temp'].describe() # Analyze the change in the below given characterstics after imputation "
   ]
  },
  {
   "cell_type": "markdown",
   "id": "a783cb75",
   "metadata": {},
   "source": [
    "# Humidity"
   ]
  },
  {
   "cell_type": "code",
   "execution_count": 46,
   "id": "b301d435",
   "metadata": {},
   "outputs": [
    {
     "data": {
      "text/plain": [
       "count    100000.000000\n",
       "mean         60.159815\n",
       "std          17.942613\n",
       "min           1.000000\n",
       "25%          49.000000\n",
       "50%          61.500000\n",
       "75%          72.500000\n",
       "max         100.000000\n",
       "Name: Humidity, dtype: float64"
      ]
     },
     "execution_count": 46,
     "metadata": {},
     "output_type": "execute_result"
    }
   ],
   "source": [
    "data['Humidity'].describe()# Analyzing important characterstics of Humidity using describe() "
   ]
  },
  {
   "cell_type": "code",
   "execution_count": 43,
   "id": "ad831262",
   "metadata": {},
   "outputs": [],
   "source": [
    "data['Humidity']=data['Humidity'].fillna(data['Humidity'].median()) # Performing median imputation on Humidity as it has outliers"
   ]
  },
  {
   "cell_type": "code",
   "execution_count": 44,
   "id": "f1147de5",
   "metadata": {},
   "outputs": [
    {
     "data": {
      "text/plain": [
       "0"
      ]
     },
     "execution_count": 44,
     "metadata": {},
     "output_type": "execute_result"
    }
   ],
   "source": [
    "data['Humidity'].isnull().sum() #No more missing values found in Humidity"
   ]
  },
  {
   "cell_type": "code",
   "execution_count": 45,
   "id": "18d052d0",
   "metadata": {},
   "outputs": [
    {
     "data": {
      "text/plain": [
       "count    100000.000000\n",
       "mean         60.159815\n",
       "std          17.942613\n",
       "min           1.000000\n",
       "25%          49.000000\n",
       "50%          61.500000\n",
       "75%          72.500000\n",
       "max         100.000000\n",
       "Name: Humidity, dtype: float64"
      ]
     },
     "execution_count": 45,
     "metadata": {},
     "output_type": "execute_result"
    }
   ],
   "source": [
    "data['Humidity'].describe() # Analyzing the change in the characterstics after imputing missing values"
   ]
  },
  {
   "cell_type": "markdown",
   "id": "08500ce7",
   "metadata": {},
   "source": [
    "# Pressure"
   ]
  },
  {
   "cell_type": "code",
   "execution_count": 50,
   "id": "149bfd53",
   "metadata": {},
   "outputs": [
    {
     "data": {
      "text/plain": [
       "count    100000.000000\n",
       "mean       1016.433506\n",
       "std           6.642434\n",
       "min         979.750000\n",
       "25%        1012.300000\n",
       "50%        1016.400000\n",
       "75%        1020.550000\n",
       "max        1040.050000\n",
       "Name: Pressure, dtype: float64"
      ]
     },
     "execution_count": 50,
     "metadata": {},
     "output_type": "execute_result"
    }
   ],
   "source": [
    "data['Pressure'].describe()# Analyzing important characterstics of Pressure using describe() "
   ]
  },
  {
   "cell_type": "code",
   "execution_count": 51,
   "id": "4e4ea7a5",
   "metadata": {},
   "outputs": [],
   "source": [
    "data['Pressure']=data['Pressure'].fillna(data['Pressure'].median()) # Performing median imputation on Pressure as it has outliers"
   ]
  },
  {
   "cell_type": "code",
   "execution_count": 52,
   "id": "74a1d65c",
   "metadata": {},
   "outputs": [
    {
     "data": {
      "text/plain": [
       "0"
      ]
     },
     "execution_count": 52,
     "metadata": {},
     "output_type": "execute_result"
    }
   ],
   "source": [
    "data['Pressure'].isnull().sum()#No more missing values found in Pressure"
   ]
  },
  {
   "cell_type": "code",
   "execution_count": 49,
   "id": "f307dddb",
   "metadata": {},
   "outputs": [
    {
     "data": {
      "text/plain": [
       "count    100000.000000\n",
       "mean       1016.433506\n",
       "std           6.642434\n",
       "min         979.750000\n",
       "25%        1012.300000\n",
       "50%        1016.400000\n",
       "75%        1020.550000\n",
       "max        1040.050000\n",
       "Name: Pressure, dtype: float64"
      ]
     },
     "execution_count": 49,
     "metadata": {},
     "output_type": "execute_result"
    }
   ],
   "source": [
    "data['Pressure'].describe() # Analyzing the change in the characterstics after imputing missing values"
   ]
  },
  {
   "cell_type": "markdown",
   "id": "935599ea",
   "metadata": {},
   "source": [
    "# Cloud"
   ]
  },
  {
   "cell_type": "code",
   "execution_count": 53,
   "id": "6ebc1ef5",
   "metadata": {},
   "outputs": [
    {
     "data": {
      "text/plain": [
       "count    57188.000000\n",
       "mean         4.476193\n",
       "std          2.504489\n",
       "min          0.000000\n",
       "25%          2.000000\n",
       "50%          4.500000\n",
       "75%          7.000000\n",
       "max          8.000000\n",
       "Name: Cloud, dtype: float64"
      ]
     },
     "execution_count": 53,
     "metadata": {},
     "output_type": "execute_result"
    }
   ],
   "source": [
    "data['Cloud'].describe()# Analyzing important characterstics of Cloud using describe() "
   ]
  },
  {
   "cell_type": "code",
   "execution_count": 54,
   "id": "79b2ca1f",
   "metadata": {},
   "outputs": [],
   "source": [
    "data['Cloud']=data['Cloud'].fillna(data['Cloud'].mean()) # Performing mean imputation on Cloud as it has no  outliers"
   ]
  },
  {
   "cell_type": "code",
   "execution_count": 55,
   "id": "b173a2c5",
   "metadata": {},
   "outputs": [
    {
     "data": {
      "text/plain": [
       "0"
      ]
     },
     "execution_count": 55,
     "metadata": {},
     "output_type": "execute_result"
    }
   ],
   "source": [
    "data['Cloud'].isnull().sum()#No more missing values found in Cloud"
   ]
  },
  {
   "cell_type": "code",
   "execution_count": 57,
   "id": "421180ee",
   "metadata": {},
   "outputs": [
    {
     "data": {
      "text/plain": [
       "count    100000.000000\n",
       "mean          4.476193\n",
       "std           1.893956\n",
       "min           0.000000\n",
       "25%           4.000000\n",
       "50%           4.476193\n",
       "75%           5.500000\n",
       "max           8.000000\n",
       "Name: Cloud, dtype: float64"
      ]
     },
     "execution_count": 57,
     "metadata": {},
     "output_type": "execute_result"
    }
   ],
   "source": [
    "data['Cloud'].describe() # Analyzing the change in the characterstics after imputing missing values"
   ]
  },
  {
   "cell_type": "markdown",
   "id": "1e0d1de9",
   "metadata": {},
   "source": [
    "# Temp1"
   ]
  },
  {
   "cell_type": "code",
   "execution_count": 58,
   "id": "7c97c669",
   "metadata": {},
   "outputs": [
    {
     "data": {
      "text/plain": [
       "count    97709.000000\n",
       "mean        19.322685\n",
       "std          6.464446\n",
       "min         -6.300000\n",
       "25%         14.500000\n",
       "50%         18.950000\n",
       "75%         23.900000\n",
       "max         41.600000\n",
       "Name: Temp1, dtype: float64"
      ]
     },
     "execution_count": 58,
     "metadata": {},
     "output_type": "execute_result"
    }
   ],
   "source": [
    "data['Temp1'].describe()# Analyzing important characterstics of Temp1 using describe() "
   ]
  },
  {
   "cell_type": "code",
   "execution_count": 62,
   "id": "02a727fb",
   "metadata": {},
   "outputs": [],
   "source": [
    "data['Temp1']=data['Temp1'].fillna(data['Temp1'].median()) # Performing median imputation on Temp1 as it has outliers\n"
   ]
  },
  {
   "cell_type": "code",
   "execution_count": 63,
   "id": "fc7bc1f5",
   "metadata": {},
   "outputs": [
    {
     "data": {
      "text/plain": [
       "0"
      ]
     },
     "execution_count": 63,
     "metadata": {},
     "output_type": "execute_result"
    }
   ],
   "source": [
    "data['Temp1'].isnull().sum()#No more missing values found in Temp1"
   ]
  },
  {
   "cell_type": "code",
   "execution_count": 64,
   "id": "4ded4ff2",
   "metadata": {},
   "outputs": [
    {
     "data": {
      "text/plain": [
       "count    100000.000000\n",
       "mean         19.322685\n",
       "std           6.389966\n",
       "min          -6.300000\n",
       "25%          14.650000\n",
       "50%          19.150000\n",
       "75%          23.750000\n",
       "max          41.600000\n",
       "Name: Temp1, dtype: float64"
      ]
     },
     "execution_count": 64,
     "metadata": {},
     "output_type": "execute_result"
    }
   ],
   "source": [
    "data['Temp1'].describe() # Analyzing the change in the characterstics after imputing missing values"
   ]
  },
  {
   "cell_type": "markdown",
   "id": "91634106",
   "metadata": {},
   "source": [
    "# WindSpeed"
   ]
  },
  {
   "cell_type": "code",
   "execution_count": 11,
   "id": "2ed530b8",
   "metadata": {},
   "outputs": [
    {
     "data": {
      "text/plain": [
       "count    100000.000000\n",
       "mean         16.312555\n",
       "std           7.604035\n",
       "min           0.000000\n",
       "25%          11.000000\n",
       "50%          15.500000\n",
       "75%          20.500000\n",
       "max          83.000000\n",
       "Name: WindSpeed, dtype: float64"
      ]
     },
     "execution_count": 11,
     "metadata": {},
     "output_type": "execute_result"
    }
   ],
   "source": [
    "data['WindSpeed'].describe()# Analyzing important characterstics of WindSpeed using describe() "
   ]
  },
  {
   "cell_type": "code",
   "execution_count": 12,
   "id": "2e218373",
   "metadata": {},
   "outputs": [],
   "source": [
    "data['WindSpeed']=data['WindSpeed'].fillna(data['WindSpeed'].median()) # Performing median imputation on WindSpeed as it has outliers"
   ]
  },
  {
   "cell_type": "code",
   "execution_count": 13,
   "id": "cfd42838",
   "metadata": {},
   "outputs": [
    {
     "data": {
      "text/plain": [
       "0"
      ]
     },
     "execution_count": 13,
     "metadata": {},
     "output_type": "execute_result"
    }
   ],
   "source": [
    "data['WindSpeed'].isnull().sum()#No more missing values found in WindSpeed"
   ]
  },
  {
   "cell_type": "code",
   "execution_count": 14,
   "id": "7997c579",
   "metadata": {},
   "outputs": [
    {
     "data": {
      "text/plain": [
       "count    100000.000000\n",
       "mean         16.312555\n",
       "std           7.604035\n",
       "min           0.000000\n",
       "25%          11.000000\n",
       "50%          15.500000\n",
       "75%          20.500000\n",
       "max          83.000000\n",
       "Name: WindSpeed, dtype: float64"
      ]
     },
     "execution_count": 14,
     "metadata": {},
     "output_type": "execute_result"
    }
   ],
   "source": [
    "data['WindSpeed'].describe() # Analyzing the change in the characterstics after imputing missing values"
   ]
  },
  {
   "cell_type": "code",
   "execution_count": null,
   "id": "d0f1fd92",
   "metadata": {},
   "outputs": [],
   "source": [
    "#(d)Explore groupby based imputation"
   ]
  },
  {
   "cell_type": "code",
   "execution_count": 52,
   "id": "f5fad439",
   "metadata": {},
   "outputs": [
    {
     "data": {
      "text/plain": [
       "Humidity\n",
       "1.0      12.000000\n",
       "1.5      13.200000\n",
       "2.0      16.600000\n",
       "2.5      16.400000\n",
       "3.0      16.333333\n",
       "           ...    \n",
       "98.0      2.408000\n",
       "98.5      2.477273\n",
       "99.0      2.522727\n",
       "99.5      2.003226\n",
       "100.0     2.405714\n",
       "Name: Evaporation, Length: 199, dtype: float64"
      ]
     },
     "execution_count": 52,
     "metadata": {},
     "output_type": "execute_result"
    }
   ],
   "source": [
    "data.groupby('Humidity')['Evaporation'].mean()"
   ]
  },
  {
   "cell_type": "code",
   "execution_count": 53,
   "id": "48c66e8e",
   "metadata": {},
   "outputs": [
    {
     "data": {
      "text/plain": [
       "<AxesSubplot:ylabel='Density'>"
      ]
     },
     "execution_count": 53,
     "metadata": {},
     "output_type": "execute_result"
    },
    {
     "data": {
      "image/png": "[encoded data removed]",
      "text/plain": [
       "<Figure size 432x288 with 1 Axes>"
      ]
     },
     "metadata": {
      "needs_background": "light"
     },
     "output_type": "display_data"
    }
   ],
   "source": [
    "data['Temp'].fillna(data.groupby('Humidity')['Evaporation'].transform('mean')).plot(kind='kde')"
   ]
  },
  {
   "cell_type": "code",
   "execution_count": 54,
   "id": "e15471eb",
   "metadata": {},
   "outputs": [
    {
     "data": {
      "text/plain": [
       "1734"
      ]
     },
     "execution_count": 54,
     "metadata": {},
     "output_type": "execute_result"
    }
   ],
   "source": [
    "data['Evaporation'].fillna(data.groupby('Humidity')['Evaporation'].transform('mean')).isnull().sum()"
   ]
  },
  {
   "cell_type": "code",
   "execution_count": null,
   "id": "44b62a7c",
   "metadata": {},
   "outputs": [],
   "source": [
    "#(e)Explore mode based and rule based imputation for categorical columns"
   ]
  },
  {
   "cell_type": "code",
   "execution_count": 58,
   "id": "6ce95e8d",
   "metadata": {},
   "outputs": [],
   "source": [
    "cat_data=data.select_dtypes(exclude=np.number)"
   ]
  },
  {
   "cell_type": "code",
   "execution_count": 59,
   "id": "491b08d9",
   "metadata": {},
   "outputs": [
    {
     "data": {
      "text/html": [
       "<div>\n",
       "<style scoped>\n",
       "    .dataframe tbody tr th:only-of-type {\n",
       "        vertical-align: middle;\n",
       "    }\n",
       "\n",
       "    .dataframe tbody tr th {\n",
       "        vertical-align: top;\n",
       "    }\n",
       "\n",
       "    .dataframe thead th {\n",
       "        text-align: right;\n",
       "    }\n",
       "</style>\n",
       "<table border=\"1\" class=\"dataframe\">\n",
       "  <thead>\n",
       "    <tr style=\"text-align: right;\">\n",
       "      <th></th>\n",
       "      <th>Date</th>\n",
       "      <th>Location</th>\n",
       "      <th>WindGustDir</th>\n",
       "      <th>WindDir9am</th>\n",
       "      <th>WindDir3pm</th>\n",
       "      <th>RainToday</th>\n",
       "      <th>RainTomorrow</th>\n",
       "    </tr>\n",
       "  </thead>\n",
       "  <tbody>\n",
       "    <tr>\n",
       "      <th>0</th>\n",
       "      <td>7/2/2014</td>\n",
       "      <td>CoffsHarbour</td>\n",
       "      <td>NNE</td>\n",
       "      <td>SW</td>\n",
       "      <td>ESE</td>\n",
       "      <td>Yes</td>\n",
       "      <td>No</td>\n",
       "    </tr>\n",
       "    <tr>\n",
       "      <th>1</th>\n",
       "      <td>23-04-2009</td>\n",
       "      <td>Portland</td>\n",
       "      <td>NNE</td>\n",
       "      <td>NE</td>\n",
       "      <td>NNE</td>\n",
       "      <td>No</td>\n",
       "      <td>Yes</td>\n",
       "    </tr>\n",
       "    <tr>\n",
       "      <th>2</th>\n",
       "      <td>8/11/2015</td>\n",
       "      <td>Watsonia</td>\n",
       "      <td>WSW</td>\n",
       "      <td>SE</td>\n",
       "      <td>E</td>\n",
       "      <td>No</td>\n",
       "      <td>No</td>\n",
       "    </tr>\n",
       "    <tr>\n",
       "      <th>3</th>\n",
       "      <td>21-11-2012</td>\n",
       "      <td>Wollongong</td>\n",
       "      <td>SSW</td>\n",
       "      <td>N</td>\n",
       "      <td>NE</td>\n",
       "      <td>No</td>\n",
       "      <td>No</td>\n",
       "    </tr>\n",
       "    <tr>\n",
       "      <th>4</th>\n",
       "      <td>30-07-2013</td>\n",
       "      <td>Townsville</td>\n",
       "      <td>ENE</td>\n",
       "      <td>SSW</td>\n",
       "      <td>NNW</td>\n",
       "      <td>No</td>\n",
       "      <td>No</td>\n",
       "    </tr>\n",
       "  </tbody>\n",
       "</table>\n",
       "</div>"
      ],
      "text/plain": [
       "         Date      Location WindGustDir WindDir9am WindDir3pm RainToday  \\\n",
       "0    7/2/2014  CoffsHarbour         NNE         SW        ESE       Yes   \n",
       "1  23-04-2009      Portland         NNE         NE        NNE        No   \n",
       "2   8/11/2015      Watsonia         WSW         SE          E        No   \n",
       "3  21-11-2012    Wollongong         SSW          N         NE        No   \n",
       "4  30-07-2013    Townsville         ENE        SSW        NNW        No   \n",
       "\n",
       "  RainTomorrow  \n",
       "0           No  \n",
       "1          Yes  \n",
       "2           No  \n",
       "3           No  \n",
       "4           No  "
      ]
     },
     "execution_count": 59,
     "metadata": {},
     "output_type": "execute_result"
    }
   ],
   "source": [
    "cat_data.head(5)"
   ]
  },
  {
   "cell_type": "code",
   "execution_count": 60,
   "id": "a677dd86",
   "metadata": {},
   "outputs": [
    {
     "data": {
      "text/plain": [
       "Date               0\n",
       "Location           0\n",
       "WindGustDir     6581\n",
       "WindDir9am      7062\n",
       "WindDir3pm      2691\n",
       "RainToday        970\n",
       "RainTomorrow       0\n",
       "dtype: int64"
      ]
     },
     "execution_count": 60,
     "metadata": {},
     "output_type": "execute_result"
    }
   ],
   "source": [
    "cat_data.isnull().sum()"
   ]
  },
  {
   "cell_type": "code",
   "execution_count": 61,
   "id": "59cab07f",
   "metadata": {},
   "outputs": [
    {
     "data": {
      "text/plain": [
       "Date            0.000\n",
       "Location        0.000\n",
       "WindGustDir     6.581\n",
       "WindDir9am      7.062\n",
       "WindDir3pm      2.691\n",
       "RainToday       0.970\n",
       "RainTomorrow    0.000\n",
       "dtype: float64"
      ]
     },
     "execution_count": 61,
     "metadata": {},
     "output_type": "execute_result"
    }
   ],
   "source": [
    "cat_data.isnull().sum()/len(data)*100"
   ]
  },
  {
   "cell_type": "code",
   "execution_count": null,
   "id": "de3d094d",
   "metadata": {},
   "outputs": [],
   "source": [
    "data['RainToday']=data['RainToday'].fillna(data['RainToday'].mode())"
   ]
  },
  {
   "cell_type": "code",
   "execution_count": 86,
   "id": "9e813439",
   "metadata": {},
   "outputs": [
    {
     "data": {
      "text/plain": [
       "970"
      ]
     },
     "execution_count": 86,
     "metadata": {},
     "output_type": "execute_result"
    }
   ],
   "source": [
    "data['RainToday'].isnull().sum()"
   ]
  },
  {
   "cell_type": "code",
   "execution_count": 87,
   "id": "74643e63",
   "metadata": {},
   "outputs": [],
   "source": [
    "data['WindDir3pm']=data['WindDir3pm'].fillna(data['WindDir3pm'].mode())"
   ]
  },
  {
   "cell_type": "code",
   "execution_count": 88,
   "id": "8a9c7058",
   "metadata": {},
   "outputs": [
    {
     "data": {
      "text/plain": [
       "2691"
      ]
     },
     "execution_count": 88,
     "metadata": {},
     "output_type": "execute_result"
    }
   ],
   "source": [
    "data['WindDir3pm'].isnull().sum()"
   ]
  },
  {
   "cell_type": "markdown",
   "id": "fc648dc9",
   "metadata": {},
   "source": [
    "# 9.\tComment about the Normality of each numerical feature in the dataset"
   ]
  },
  {
   "cell_type": "code",
   "execution_count": 57,
   "id": "cc29df6d",
   "metadata": {},
   "outputs": [
    {
     "data": {
      "text/html": [
       "<div>\n",
       "<style scoped>\n",
       "    .dataframe tbody tr th:only-of-type {\n",
       "        vertical-align: middle;\n",
       "    }\n",
       "\n",
       "    .dataframe tbody tr th {\n",
       "        vertical-align: top;\n",
       "    }\n",
       "\n",
       "    .dataframe thead th {\n",
       "        text-align: right;\n",
       "    }\n",
       "</style>\n",
       "<table border=\"1\" class=\"dataframe\">\n",
       "  <thead>\n",
       "    <tr style=\"text-align: right;\">\n",
       "      <th></th>\n",
       "      <th>MinTemp</th>\n",
       "      <th>Rainfall</th>\n",
       "      <th>Evaporation</th>\n",
       "      <th>Sunshine</th>\n",
       "      <th>WindGustSpeed</th>\n",
       "      <th>Temp</th>\n",
       "      <th>Humidity</th>\n",
       "      <th>Pressure</th>\n",
       "      <th>Cloud</th>\n",
       "      <th>Temp1</th>\n",
       "      <th>WindSpeed</th>\n",
       "    </tr>\n",
       "  </thead>\n",
       "  <tbody>\n",
       "    <tr>\n",
       "      <th>0</th>\n",
       "      <td>17.7</td>\n",
       "      <td>37.8</td>\n",
       "      <td>1.6</td>\n",
       "      <td>NaN</td>\n",
       "      <td>31.0</td>\n",
       "      <td>21.80</td>\n",
       "      <td>71.0</td>\n",
       "      <td>1016.90</td>\n",
       "      <td>5.5</td>\n",
       "      <td>22.85</td>\n",
       "      <td>13.0</td>\n",
       "    </tr>\n",
       "    <tr>\n",
       "      <th>1</th>\n",
       "      <td>6.7</td>\n",
       "      <td>0.0</td>\n",
       "      <td>5.4</td>\n",
       "      <td>0.4</td>\n",
       "      <td>44.0</td>\n",
       "      <td>14.35</td>\n",
       "      <td>51.0</td>\n",
       "      <td>1011.40</td>\n",
       "      <td>7.5</td>\n",
       "      <td>17.90</td>\n",
       "      <td>16.0</td>\n",
       "    </tr>\n",
       "    <tr>\n",
       "      <th>2</th>\n",
       "      <td>6.2</td>\n",
       "      <td>0.0</td>\n",
       "      <td>4.2</td>\n",
       "      <td>10.9</td>\n",
       "      <td>20.0</td>\n",
       "      <td>15.95</td>\n",
       "      <td>49.5</td>\n",
       "      <td>1020.95</td>\n",
       "      <td>4.5</td>\n",
       "      <td>18.20</td>\n",
       "      <td>6.5</td>\n",
       "    </tr>\n",
       "    <tr>\n",
       "      <th>3</th>\n",
       "      <td>13.8</td>\n",
       "      <td>0.0</td>\n",
       "      <td>NaN</td>\n",
       "      <td>NaN</td>\n",
       "      <td>70.0</td>\n",
       "      <td>18.30</td>\n",
       "      <td>70.5</td>\n",
       "      <td>1013.80</td>\n",
       "      <td>NaN</td>\n",
       "      <td>19.75</td>\n",
       "      <td>28.0</td>\n",
       "    </tr>\n",
       "    <tr>\n",
       "      <th>4</th>\n",
       "      <td>13.4</td>\n",
       "      <td>0.0</td>\n",
       "      <td>6.0</td>\n",
       "      <td>10.2</td>\n",
       "      <td>30.0</td>\n",
       "      <td>20.30</td>\n",
       "      <td>53.5</td>\n",
       "      <td>1014.30</td>\n",
       "      <td>1.0</td>\n",
       "      <td>23.65</td>\n",
       "      <td>11.0</td>\n",
       "    </tr>\n",
       "  </tbody>\n",
       "</table>\n",
       "</div>"
      ],
      "text/plain": [
       "   MinTemp  Rainfall  Evaporation  Sunshine  WindGustSpeed   Temp  Humidity  \\\n",
       "0     17.7      37.8          1.6       NaN           31.0  21.80      71.0   \n",
       "1      6.7       0.0          5.4       0.4           44.0  14.35      51.0   \n",
       "2      6.2       0.0          4.2      10.9           20.0  15.95      49.5   \n",
       "3     13.8       0.0          NaN       NaN           70.0  18.30      70.5   \n",
       "4     13.4       0.0          6.0      10.2           30.0  20.30      53.5   \n",
       "\n",
       "   Pressure  Cloud  Temp1  WindSpeed  \n",
       "0   1016.90    5.5  22.85       13.0  \n",
       "1   1011.40    7.5  17.90       16.0  \n",
       "2   1020.95    4.5  18.20        6.5  \n",
       "3   1013.80    NaN  19.75       28.0  \n",
       "4   1014.30    1.0  23.65       11.0  "
      ]
     },
     "execution_count": 57,
     "metadata": {},
     "output_type": "execute_result"
    }
   ],
   "source": [
    "# Numerical dataframe:\n",
    "num_data.head(5)"
   ]
  },
  {
   "cell_type": "code",
   "execution_count": 64,
   "id": "76ece118",
   "metadata": {},
   "outputs": [
    {
     "data": {
      "text/plain": [
       "<AxesSubplot:ylabel='Density'>"
      ]
     },
     "execution_count": 64,
     "metadata": {},
     "output_type": "execute_result"
    },
    {
     "data": {
      "image/png": "[encoded data removed]",
      "text/plain": [
       "<Figure size 432x288 with 1 Axes>"
      ]
     },
     "metadata": {
      "needs_background": "light"
     },
     "output_type": "display_data"
    }
   ],
   "source": [
    "# Normal Distribution plot of each column in the Numericaldataframe:\n",
    "num_data.plot(kind='kde')"
   ]
  },
  {
   "cell_type": "code",
   "execution_count": null,
   "id": "945f5f15",
   "metadata": {},
   "outputs": [],
   "source": [
    "#From the above plot we can conclude that except Temp every other numeric column follows normal distribution or atleast close to normal distribution."
   ]
  },
  {
   "cell_type": "markdown",
   "id": "17a74597",
   "metadata": {},
   "source": [
    "# 10.Apply Transformations to make the data close to NormalDistribution(Perform on any 3 features)"
   ]
  },
  {
   "cell_type": "code",
   "execution_count": null,
   "id": "50251a49",
   "metadata": {},
   "outputs": [],
   "source": [
    "#Please note that we use trial and error transformations in order to bring skewness close to normal which is 0 and upto 0.5 is permissable."
   ]
  },
  {
   "cell_type": "code",
   "execution_count": 154,
   "id": "5635e28d",
   "metadata": {},
   "outputs": [
    {
     "data": {
      "text/plain": [
       "<AxesSubplot:ylabel='Density'>"
      ]
     },
     "execution_count": 154,
     "metadata": {},
     "output_type": "execute_result"
    },
    {
     "data": {
      "image/png": "[encoded data removed]",
      "text/plain": [
       "<Figure size 432x288 with 1 Axes>"
      ]
     },
     "metadata": {
      "needs_background": "light"
     },
     "output_type": "display_data"
    }
   ],
   "source": [
    "#Initial Normal Distribution Plot:\n",
    "num_data['Rainfall'].plot(kind='kde')"
   ]
  },
  {
   "cell_type": "markdown",
   "id": "4d2c39d4",
   "metadata": {},
   "source": [
    "# Rainfall"
   ]
  },
  {
   "cell_type": "code",
   "execution_count": 155,
   "id": "b8a7097d",
   "metadata": {},
   "outputs": [
    {
     "data": {
      "text/plain": [
       "9.091403830067811"
      ]
     },
     "execution_count": 155,
     "metadata": {},
     "output_type": "execute_result"
    }
   ],
   "source": [
    "#Initial Skewness\n",
    "num_data['Rainfall'].skew()"
   ]
  },
  {
   "cell_type": "code",
   "execution_count": 55,
   "id": "e1ac0cf9",
   "metadata": {},
   "outputs": [
    {
     "data": {
      "text/plain": [
       "0.5611315450194605"
      ]
     },
     "execution_count": 55,
     "metadata": {},
     "output_type": "execute_result"
    }
   ],
   "source": [
    "#Transformation\n",
    "num_data['Rainfall']=np.power(num_data['Rainfall'],0.001).skew()"
   ]
  },
  {
   "cell_type": "code",
   "execution_count": 157,
   "id": "e7c907a3",
   "metadata": {},
   "outputs": [
    {
     "data": {
      "text/plain": [
       "<AxesSubplot:ylabel='Density'>"
      ]
     },
     "execution_count": 157,
     "metadata": {},
     "output_type": "execute_result"
    },
    {
     "data": {
      "image/png": "[encoded data removed]",
      "text/plain": [
       "<Figure size 432x288 with 1 Axes>"
      ]
     },
     "metadata": {
      "needs_background": "light"
     },
     "output_type": "display_data"
    }
   ],
   "source": [
    "#Plot after transformation\n",
    "num_data['Rainfall'].plot(kind='kde')"
   ]
  },
  {
   "cell_type": "markdown",
   "id": "4fb2feaa",
   "metadata": {},
   "source": [
    "# WindGustSpeed"
   ]
  },
  {
   "cell_type": "code",
   "execution_count": 156,
   "id": "e277117b",
   "metadata": {},
   "outputs": [
    {
     "data": {
      "text/plain": [
       "<AxesSubplot:ylabel='Density'>"
      ]
     },
     "execution_count": 156,
     "metadata": {},
     "output_type": "execute_result"
    },
    {
     "data": {
      "image/png": "[encoded data removed]",
      "text/plain": [
       "<Figure size 432x288 with 1 Axes>"
      ]
     },
     "metadata": {
      "needs_background": "light"
     },
     "output_type": "display_data"
    }
   ],
   "source": [
    "#Initial Normal Dist Plot\n",
    "num_data['WindGustSpeed'].plot(kind='kde')"
   ]
  },
  {
   "cell_type": "code",
   "execution_count": 57,
   "id": "979d2088",
   "metadata": {},
   "outputs": [
    {
     "data": {
      "text/plain": [
       "0.7592605440798507"
      ]
     },
     "execution_count": 57,
     "metadata": {},
     "output_type": "execute_result"
    }
   ],
   "source": [
    "#Initial Skewness\n",
    "num_data['WindGustSpeed'].skew()"
   ]
  },
  {
   "cell_type": "code",
   "execution_count": 58,
   "id": "f4b32ad3",
   "metadata": {},
   "outputs": [
    {
     "data": {
      "text/plain": [
       "0.24690531502328564"
      ]
     },
     "execution_count": 58,
     "metadata": {},
     "output_type": "execute_result"
    }
   ],
   "source": [
    "#On performing Transformation \n",
    "np.power(num_data['WindGustSpeed'],0.5).skew() \n",
    "num_data['WindGustSpeed']=np.power(num_data['WindGustSpeed'],0.5).skew() "
   ]
  },
  {
   "cell_type": "code",
   "execution_count": 158,
   "id": "620af940",
   "metadata": {},
   "outputs": [
    {
     "data": {
      "text/plain": [
       "<AxesSubplot:ylabel='Density'>"
      ]
     },
     "execution_count": 158,
     "metadata": {},
     "output_type": "execute_result"
    },
    {
     "data": {
      "image/png": "[encoded data removed]",
      "text/plain": [
       "<Figure size 432x288 with 1 Axes>"
      ]
     },
     "metadata": {
      "needs_background": "light"
     },
     "output_type": "display_data"
    }
   ],
   "source": [
    "#Normal Dist Plot After Transformation\n",
    "num_data['WindGustSpeed'].plot(kind='kde')"
   ]
  },
  {
   "cell_type": "markdown",
   "id": "18f5532c",
   "metadata": {},
   "source": [
    "# Evaporation"
   ]
  },
  {
   "cell_type": "code",
   "execution_count": 59,
   "id": "1d5e473b",
   "metadata": {},
   "outputs": [
    {
     "data": {
      "text/plain": [
       "<AxesSubplot:ylabel='Density'>"
      ]
     },
     "execution_count": 59,
     "metadata": {},
     "output_type": "execute_result"
    },
    {
     "data": {
      "image/png": "[encoded data removed]",
      "text/plain": [
       "<Figure size 432x288 with 1 Axes>"
      ]
     },
     "metadata": {
      "needs_background": "light"
     },
     "output_type": "display_data"
    }
   ],
   "source": [
    "#Inital Normal Dist Plot:\n",
    "num_data['Evaporation'].plot(kind='kde')"
   ]
  },
  {
   "cell_type": "code",
   "execution_count": 60,
   "id": "7744b49e",
   "metadata": {},
   "outputs": [
    {
     "data": {
      "text/plain": [
       "1.2393038288567249"
      ]
     },
     "execution_count": 60,
     "metadata": {},
     "output_type": "execute_result"
    }
   ],
   "source": [
    "#Initial Skewness\n",
    "num_data['Evaporation'].skew()"
   ]
  },
  {
   "cell_type": "code",
   "execution_count": 61,
   "id": "c0e0b0d5",
   "metadata": {},
   "outputs": [
    {
     "data": {
      "text/plain": [
       "0.23731928479449366"
      ]
     },
     "execution_count": 61,
     "metadata": {},
     "output_type": "execute_result"
    }
   ],
   "source": [
    "#On performing Transformation\n",
    "np.power(num_data['Evaporation'],0.5).skew() \n",
    "num_data['Evaporation']=np.power(num_data['Evaporation'],0.5).skew()"
   ]
  },
  {
   "cell_type": "code",
   "execution_count": 159,
   "id": "480cb46e",
   "metadata": {},
   "outputs": [
    {
     "data": {
      "text/plain": [
       "<AxesSubplot:ylabel='Density'>"
      ]
     },
     "execution_count": 159,
     "metadata": {},
     "output_type": "execute_result"
    },
    {
     "data": {
      "image/png": "[encoded data removed]",
      "text/plain": [
       "<Figure size 432x288 with 1 Axes>"
      ]
     },
     "metadata": {
      "needs_background": "light"
     },
     "output_type": "display_data"
    }
   ],
   "source": [
    "# Normal Distribution Plot after transformation\n",
    "num_data['Evaporation'].plot(kind='kde')"
   ]
  },
  {
   "cell_type": "markdown",
   "id": "3771feff",
   "metadata": {},
   "source": [
    "# 11. Apply all three types of scaling on numeric columns"
   ]
  },
  {
   "cell_type": "code",
   "execution_count": 145,
   "id": "ea4a96eb",
   "metadata": {},
   "outputs": [
    {
     "data": {
      "text/html": [
       "<div>\n",
       "<style scoped>\n",
       "    .dataframe tbody tr th:only-of-type {\n",
       "        vertical-align: middle;\n",
       "    }\n",
       "\n",
       "    .dataframe tbody tr th {\n",
       "        vertical-align: top;\n",
       "    }\n",
       "\n",
       "    .dataframe thead th {\n",
       "        text-align: right;\n",
       "    }\n",
       "</style>\n",
       "<table border=\"1\" class=\"dataframe\">\n",
       "  <thead>\n",
       "    <tr style=\"text-align: right;\">\n",
       "      <th></th>\n",
       "      <th>MinTemp</th>\n",
       "      <th>Rainfall</th>\n",
       "      <th>Evaporation</th>\n",
       "      <th>Sunshine</th>\n",
       "      <th>WindGustSpeed</th>\n",
       "      <th>Temp</th>\n",
       "      <th>Humidity</th>\n",
       "      <th>Pressure</th>\n",
       "      <th>Cloud</th>\n",
       "      <th>Temp1</th>\n",
       "      <th>WindSpeed</th>\n",
       "    </tr>\n",
       "  </thead>\n",
       "  <tbody>\n",
       "    <tr>\n",
       "      <th>0</th>\n",
       "      <td>17.7</td>\n",
       "      <td>2.2</td>\n",
       "      <td>1.600000</td>\n",
       "      <td>NaN</td>\n",
       "      <td>31.0</td>\n",
       "      <td>21.80</td>\n",
       "      <td>71.0</td>\n",
       "      <td>1016.90</td>\n",
       "      <td>5.500000</td>\n",
       "      <td>22.85</td>\n",
       "      <td>13.0</td>\n",
       "    </tr>\n",
       "    <tr>\n",
       "      <th>1</th>\n",
       "      <td>6.7</td>\n",
       "      <td>0.0</td>\n",
       "      <td>5.400000</td>\n",
       "      <td>0.4</td>\n",
       "      <td>44.0</td>\n",
       "      <td>14.35</td>\n",
       "      <td>51.0</td>\n",
       "      <td>1011.40</td>\n",
       "      <td>7.500000</td>\n",
       "      <td>17.90</td>\n",
       "      <td>16.0</td>\n",
       "    </tr>\n",
       "    <tr>\n",
       "      <th>2</th>\n",
       "      <td>6.2</td>\n",
       "      <td>0.0</td>\n",
       "      <td>4.200000</td>\n",
       "      <td>10.9</td>\n",
       "      <td>20.0</td>\n",
       "      <td>15.95</td>\n",
       "      <td>49.5</td>\n",
       "      <td>1020.95</td>\n",
       "      <td>4.500000</td>\n",
       "      <td>18.20</td>\n",
       "      <td>6.5</td>\n",
       "    </tr>\n",
       "    <tr>\n",
       "      <th>3</th>\n",
       "      <td>13.8</td>\n",
       "      <td>0.0</td>\n",
       "      <td>5.467535</td>\n",
       "      <td>NaN</td>\n",
       "      <td>70.0</td>\n",
       "      <td>18.30</td>\n",
       "      <td>70.5</td>\n",
       "      <td>1013.80</td>\n",
       "      <td>4.476193</td>\n",
       "      <td>19.75</td>\n",
       "      <td>28.0</td>\n",
       "    </tr>\n",
       "    <tr>\n",
       "      <th>4</th>\n",
       "      <td>13.4</td>\n",
       "      <td>0.0</td>\n",
       "      <td>6.000000</td>\n",
       "      <td>10.2</td>\n",
       "      <td>30.0</td>\n",
       "      <td>20.30</td>\n",
       "      <td>53.5</td>\n",
       "      <td>1014.30</td>\n",
       "      <td>1.000000</td>\n",
       "      <td>23.65</td>\n",
       "      <td>11.0</td>\n",
       "    </tr>\n",
       "  </tbody>\n",
       "</table>\n",
       "</div>"
      ],
      "text/plain": [
       "   MinTemp  Rainfall  Evaporation  Sunshine  WindGustSpeed   Temp  Humidity  \\\n",
       "0     17.7       2.2     1.600000       NaN           31.0  21.80      71.0   \n",
       "1      6.7       0.0     5.400000       0.4           44.0  14.35      51.0   \n",
       "2      6.2       0.0     4.200000      10.9           20.0  15.95      49.5   \n",
       "3     13.8       0.0     5.467535       NaN           70.0  18.30      70.5   \n",
       "4     13.4       0.0     6.000000      10.2           30.0  20.30      53.5   \n",
       "\n",
       "   Pressure     Cloud  Temp1  WindSpeed  \n",
       "0   1016.90  5.500000  22.85       13.0  \n",
       "1   1011.40  7.500000  17.90       16.0  \n",
       "2   1020.95  4.500000  18.20        6.5  \n",
       "3   1013.80  4.476193  19.75       28.0  \n",
       "4   1014.30  1.000000  23.65       11.0  "
      ]
     },
     "execution_count": 145,
     "metadata": {},
     "output_type": "execute_result"
    }
   ],
   "source": [
    "# Deriving Numerical columns alone once again for scaling \n",
    "num_data=data.select_dtypes(include=np.number)\n",
    "num_data.head(5)"
   ]
  },
  {
   "cell_type": "code",
   "execution_count": 146,
   "id": "7910d300",
   "metadata": {},
   "outputs": [],
   "source": [
    "# Using Standard Scaler\n",
    "from sklearn.preprocessing import StandardScaler\n",
    "sc=StandardScaler()\n",
    "num_data_sc=sc.fit_transform(num_data)\n",
    "num_data_sc=pd.DataFrame(num_data_sc)\n",
    "num_data_sc.columns=num_data.columns"
   ]
  },
  {
   "cell_type": "code",
   "execution_count": 147,
   "id": "5013803e",
   "metadata": {},
   "outputs": [
    {
     "data": {
      "text/html": [
       "<div>\n",
       "<style scoped>\n",
       "    .dataframe tbody tr th:only-of-type {\n",
       "        vertical-align: middle;\n",
       "    }\n",
       "\n",
       "    .dataframe tbody tr th {\n",
       "        vertical-align: top;\n",
       "    }\n",
       "\n",
       "    .dataframe thead th {\n",
       "        text-align: right;\n",
       "    }\n",
       "</style>\n",
       "<table border=\"1\" class=\"dataframe\">\n",
       "  <thead>\n",
       "    <tr style=\"text-align: right;\">\n",
       "      <th></th>\n",
       "      <th>MinTemp</th>\n",
       "      <th>Rainfall</th>\n",
       "      <th>Evaporation</th>\n",
       "      <th>Sunshine</th>\n",
       "      <th>WindGustSpeed</th>\n",
       "      <th>Temp</th>\n",
       "      <th>Humidity</th>\n",
       "      <th>Pressure</th>\n",
       "      <th>Cloud</th>\n",
       "      <th>Temp1</th>\n",
       "      <th>WindSpeed</th>\n",
       "    </tr>\n",
       "  </thead>\n",
       "  <tbody>\n",
       "    <tr>\n",
       "      <th>0</th>\n",
       "      <td>0.861009</td>\n",
       "      <td>-0.017661</td>\n",
       "      <td>-1.219673</td>\n",
       "      <td>NaN</td>\n",
       "      <td>-0.684058</td>\n",
       "      <td>0.650856</td>\n",
       "      <td>0.606529</td>\n",
       "      <td>0.069671</td>\n",
       "      <td>0.540568</td>\n",
       "      <td>0.552011</td>\n",
       "      <td>-0.438067</td>\n",
       "    </tr>\n",
       "    <tr>\n",
       "      <th>1</th>\n",
       "      <td>-0.858058</td>\n",
       "      <td>-0.282184</td>\n",
       "      <td>-0.021298</td>\n",
       "      <td>-1.91005</td>\n",
       "      <td>0.305475</td>\n",
       "      <td>-0.534449</td>\n",
       "      <td>-0.508238</td>\n",
       "      <td>-0.758343</td>\n",
       "      <td>1.596564</td>\n",
       "      <td>-0.222645</td>\n",
       "      <td>-0.043488</td>\n",
       "    </tr>\n",
       "  </tbody>\n",
       "</table>\n",
       "</div>"
      ],
      "text/plain": [
       "    MinTemp  Rainfall  Evaporation  Sunshine  WindGustSpeed      Temp  \\\n",
       "0  0.861009 -0.017661    -1.219673       NaN      -0.684058  0.650856   \n",
       "1 -0.858058 -0.282184    -0.021298  -1.91005       0.305475 -0.534449   \n",
       "\n",
       "   Humidity  Pressure     Cloud     Temp1  WindSpeed  \n",
       "0  0.606529  0.069671  0.540568  0.552011  -0.438067  \n",
       "1 -0.508238 -0.758343  1.596564 -0.222645  -0.043488  "
      ]
     },
     "execution_count": 147,
     "metadata": {},
     "output_type": "execute_result"
    }
   ],
   "source": [
    "num_data_sc.head(2)"
   ]
  },
  {
   "cell_type": "code",
   "execution_count": 148,
   "id": "9180cc0d",
   "metadata": {},
   "outputs": [],
   "source": [
    "#Using MinMax Scaler\n",
    "from sklearn.preprocessing import MinMaxScaler\n",
    "mm=MinMaxScaler()\n",
    "num_data_mm=mm.fit_transform(num_data)\n",
    "num_data_mm=pd.DataFrame(num_data_mm)\n",
    "num_data_mm.columns=num_data.columns"
   ]
  },
  {
   "cell_type": "code",
   "execution_count": 149,
   "id": "f24e8d6a",
   "metadata": {},
   "outputs": [
    {
     "data": {
      "text/html": [
       "<div>\n",
       "<style scoped>\n",
       "    .dataframe tbody tr th:only-of-type {\n",
       "        vertical-align: middle;\n",
       "    }\n",
       "\n",
       "    .dataframe tbody tr th {\n",
       "        vertical-align: top;\n",
       "    }\n",
       "\n",
       "    .dataframe thead th {\n",
       "        text-align: right;\n",
       "    }\n",
       "</style>\n",
       "<table border=\"1\" class=\"dataframe\">\n",
       "  <thead>\n",
       "    <tr style=\"text-align: right;\">\n",
       "      <th></th>\n",
       "      <th>MinTemp</th>\n",
       "      <th>Rainfall</th>\n",
       "      <th>Evaporation</th>\n",
       "      <th>Sunshine</th>\n",
       "      <th>WindGustSpeed</th>\n",
       "      <th>Temp</th>\n",
       "      <th>Humidity</th>\n",
       "      <th>Pressure</th>\n",
       "      <th>Cloud</th>\n",
       "      <th>Temp1</th>\n",
       "      <th>WindSpeed</th>\n",
       "    </tr>\n",
       "  </thead>\n",
       "  <tbody>\n",
       "    <tr>\n",
       "      <th>0</th>\n",
       "      <td>0.617925</td>\n",
       "      <td>0.007902</td>\n",
       "      <td>0.011034</td>\n",
       "      <td>NaN</td>\n",
       "      <td>0.187500</td>\n",
       "      <td>0.621802</td>\n",
       "      <td>0.707071</td>\n",
       "      <td>0.616086</td>\n",
       "      <td>0.6875</td>\n",
       "      <td>0.608559</td>\n",
       "      <td>0.156627</td>\n",
       "    </tr>\n",
       "    <tr>\n",
       "      <th>1</th>\n",
       "      <td>0.358491</td>\n",
       "      <td>0.000000</td>\n",
       "      <td>0.037241</td>\n",
       "      <td>0.027586</td>\n",
       "      <td>0.289062</td>\n",
       "      <td>0.456062</td>\n",
       "      <td>0.505051</td>\n",
       "      <td>0.524876</td>\n",
       "      <td>0.9375</td>\n",
       "      <td>0.505219</td>\n",
       "      <td>0.192771</td>\n",
       "    </tr>\n",
       "  </tbody>\n",
       "</table>\n",
       "</div>"
      ],
      "text/plain": [
       "    MinTemp  Rainfall  Evaporation  Sunshine  WindGustSpeed      Temp  \\\n",
       "0  0.617925  0.007902     0.011034       NaN       0.187500  0.621802   \n",
       "1  0.358491  0.000000     0.037241  0.027586       0.289062  0.456062   \n",
       "\n",
       "   Humidity  Pressure   Cloud     Temp1  WindSpeed  \n",
       "0  0.707071  0.616086  0.6875  0.608559   0.156627  \n",
       "1  0.505051  0.524876  0.9375  0.505219   0.192771  "
      ]
     },
     "execution_count": 149,
     "metadata": {},
     "output_type": "execute_result"
    }
   ],
   "source": [
    "num_data_mm.head(2)"
   ]
  },
  {
   "cell_type": "code",
   "execution_count": 152,
   "id": "8717e568",
   "metadata": {},
   "outputs": [],
   "source": [
    "# Using Robust Scaler\n",
    "from sklearn.preprocessing import RobustScaler\n",
    "rb=RobustScaler()\n",
    "num_data_rb=rb.fit_transform(num_data)\n",
    "num_data_rb=pd.DataFrame(num_data_rb)\n",
    "num_data_rb.columns=num_data.columns"
   ]
  },
  {
   "cell_type": "code",
   "execution_count": 153,
   "id": "cf5b548f",
   "metadata": {},
   "outputs": [
    {
     "data": {
      "text/html": [
       "<div>\n",
       "<style scoped>\n",
       "    .dataframe tbody tr th:only-of-type {\n",
       "        vertical-align: middle;\n",
       "    }\n",
       "\n",
       "    .dataframe tbody tr th {\n",
       "        vertical-align: top;\n",
       "    }\n",
       "\n",
       "    .dataframe thead th {\n",
       "        text-align: right;\n",
       "    }\n",
       "</style>\n",
       "<table border=\"1\" class=\"dataframe\">\n",
       "  <thead>\n",
       "    <tr style=\"text-align: right;\">\n",
       "      <th></th>\n",
       "      <th>MinTemp</th>\n",
       "      <th>Rainfall</th>\n",
       "      <th>Evaporation</th>\n",
       "      <th>Sunshine</th>\n",
       "      <th>WindGustSpeed</th>\n",
       "      <th>Temp</th>\n",
       "      <th>Humidity</th>\n",
       "      <th>Pressure</th>\n",
       "      <th>Cloud</th>\n",
       "      <th>Temp1</th>\n",
       "      <th>WindSpeed</th>\n",
       "    </tr>\n",
       "  </thead>\n",
       "  <tbody>\n",
       "    <tr>\n",
       "      <th>0</th>\n",
       "      <td>0.619565</td>\n",
       "      <td>2.75</td>\n",
       "      <td>-2.635395</td>\n",
       "      <td>NaN</td>\n",
       "      <td>-0.533333</td>\n",
       "      <td>0.467742</td>\n",
       "      <td>0.446809</td>\n",
       "      <td>0.056095</td>\n",
       "      <td>0.682538</td>\n",
       "      <td>0.406593</td>\n",
       "      <td>-0.315789</td>\n",
       "    </tr>\n",
       "    <tr>\n",
       "      <th>1</th>\n",
       "      <td>-0.576087</td>\n",
       "      <td>0.00</td>\n",
       "      <td>-0.046020</td>\n",
       "      <td>-1.421053</td>\n",
       "      <td>0.333333</td>\n",
       "      <td>-0.333333</td>\n",
       "      <td>-0.404255</td>\n",
       "      <td>-0.610571</td>\n",
       "      <td>2.015872</td>\n",
       "      <td>-0.137363</td>\n",
       "      <td>0.000000</td>\n",
       "    </tr>\n",
       "  </tbody>\n",
       "</table>\n",
       "</div>"
      ],
      "text/plain": [
       "    MinTemp  Rainfall  Evaporation  Sunshine  WindGustSpeed      Temp  \\\n",
       "0  0.619565      2.75    -2.635395       NaN      -0.533333  0.467742   \n",
       "1 -0.576087      0.00    -0.046020 -1.421053       0.333333 -0.333333   \n",
       "\n",
       "   Humidity  Pressure     Cloud     Temp1  WindSpeed  \n",
       "0  0.446809  0.056095  0.682538  0.406593  -0.315789  \n",
       "1 -0.404255 -0.610571  2.015872 -0.137363   0.000000  "
      ]
     },
     "execution_count": 153,
     "metadata": {},
     "output_type": "execute_result"
    }
   ],
   "source": [
    "num_data_rb.head(2)"
   ]
  },
  {
   "cell_type": "markdown",
   "id": "19c96ece",
   "metadata": {},
   "source": [
    "# 12. Apply appropriate Encodings on each categorical columns."
   ]
  },
  {
   "cell_type": "code",
   "execution_count": 69,
   "id": "2aac1d0b",
   "metadata": {},
   "outputs": [
    {
     "data": {
      "text/plain": [
       "Index(['Date', 'Location', 'WindGustDir', 'WindDir9am', 'WindDir3pm',\n",
       "       'RainToday', 'RainTomorrow'],\n",
       "      dtype='object')"
      ]
     },
     "execution_count": 69,
     "metadata": {},
     "output_type": "execute_result"
    }
   ],
   "source": [
    "# Deriving categorical columns alone to perform encoding \n",
    "cat_data=data.select_dtypes(exclude=np.number)\n",
    "cat_data.columns"
   ]
  },
  {
   "cell_type": "code",
   "execution_count": 70,
   "id": "8ec680bb",
   "metadata": {},
   "outputs": [
    {
     "data": {
      "text/html": [
       "<div>\n",
       "<style scoped>\n",
       "    .dataframe tbody tr th:only-of-type {\n",
       "        vertical-align: middle;\n",
       "    }\n",
       "\n",
       "    .dataframe tbody tr th {\n",
       "        vertical-align: top;\n",
       "    }\n",
       "\n",
       "    .dataframe thead th {\n",
       "        text-align: right;\n",
       "    }\n",
       "</style>\n",
       "<table border=\"1\" class=\"dataframe\">\n",
       "  <thead>\n",
       "    <tr style=\"text-align: right;\">\n",
       "      <th></th>\n",
       "      <th>Date</th>\n",
       "      <th>Location</th>\n",
       "      <th>WindGustDir</th>\n",
       "      <th>WindDir9am</th>\n",
       "      <th>WindDir3pm</th>\n",
       "      <th>RainToday</th>\n",
       "      <th>RainTomorrow</th>\n",
       "    </tr>\n",
       "  </thead>\n",
       "  <tbody>\n",
       "    <tr>\n",
       "      <th>0</th>\n",
       "      <td>7/2/2014</td>\n",
       "      <td>CoffsHarbour</td>\n",
       "      <td>NNE</td>\n",
       "      <td>SW</td>\n",
       "      <td>ESE</td>\n",
       "      <td>Yes</td>\n",
       "      <td>No</td>\n",
       "    </tr>\n",
       "    <tr>\n",
       "      <th>1</th>\n",
       "      <td>23-04-2009</td>\n",
       "      <td>Portland</td>\n",
       "      <td>NNE</td>\n",
       "      <td>NE</td>\n",
       "      <td>NNE</td>\n",
       "      <td>No</td>\n",
       "      <td>Yes</td>\n",
       "    </tr>\n",
       "    <tr>\n",
       "      <th>2</th>\n",
       "      <td>8/11/2015</td>\n",
       "      <td>Watsonia</td>\n",
       "      <td>WSW</td>\n",
       "      <td>SE</td>\n",
       "      <td>E</td>\n",
       "      <td>No</td>\n",
       "      <td>No</td>\n",
       "    </tr>\n",
       "    <tr>\n",
       "      <th>3</th>\n",
       "      <td>21-11-2012</td>\n",
       "      <td>Wollongong</td>\n",
       "      <td>SSW</td>\n",
       "      <td>N</td>\n",
       "      <td>NE</td>\n",
       "      <td>No</td>\n",
       "      <td>No</td>\n",
       "    </tr>\n",
       "  </tbody>\n",
       "</table>\n",
       "</div>"
      ],
      "text/plain": [
       "         Date      Location WindGustDir WindDir9am WindDir3pm RainToday  \\\n",
       "0    7/2/2014  CoffsHarbour         NNE         SW        ESE       Yes   \n",
       "1  23-04-2009      Portland         NNE         NE        NNE        No   \n",
       "2   8/11/2015      Watsonia         WSW         SE          E        No   \n",
       "3  21-11-2012    Wollongong         SSW          N         NE        No   \n",
       "\n",
       "  RainTomorrow  \n",
       "0           No  \n",
       "1          Yes  \n",
       "2           No  \n",
       "3           No  "
      ]
     },
     "execution_count": 70,
     "metadata": {},
     "output_type": "execute_result"
    }
   ],
   "source": [
    "cat_data.head(4)"
   ]
  },
  {
   "cell_type": "code",
   "execution_count": 71,
   "id": "f17279c3",
   "metadata": {},
   "outputs": [],
   "source": [
    "# Using 1 hot  encoding  for raintoday and raintomorrow"
   ]
  },
  {
   "cell_type": "code",
   "execution_count": 72,
   "id": "bc681af9",
   "metadata": {},
   "outputs": [],
   "source": [
    "cat_data=pd.get_dummies(cat_data,columns=['RainToday','RainTomorrow'],drop_first=True)"
   ]
  },
  {
   "cell_type": "code",
   "execution_count": 73,
   "id": "9e2ce04b",
   "metadata": {},
   "outputs": [
    {
     "data": {
      "text/html": [
       "<div>\n",
       "<style scoped>\n",
       "    .dataframe tbody tr th:only-of-type {\n",
       "        vertical-align: middle;\n",
       "    }\n",
       "\n",
       "    .dataframe tbody tr th {\n",
       "        vertical-align: top;\n",
       "    }\n",
       "\n",
       "    .dataframe thead th {\n",
       "        text-align: right;\n",
       "    }\n",
       "</style>\n",
       "<table border=\"1\" class=\"dataframe\">\n",
       "  <thead>\n",
       "    <tr style=\"text-align: right;\">\n",
       "      <th></th>\n",
       "      <th>Date</th>\n",
       "      <th>Location</th>\n",
       "      <th>WindGustDir</th>\n",
       "      <th>WindDir9am</th>\n",
       "      <th>WindDir3pm</th>\n",
       "      <th>RainToday_Yes</th>\n",
       "      <th>RainTomorrow_Yes</th>\n",
       "    </tr>\n",
       "  </thead>\n",
       "  <tbody>\n",
       "    <tr>\n",
       "      <th>0</th>\n",
       "      <td>7/2/2014</td>\n",
       "      <td>CoffsHarbour</td>\n",
       "      <td>NNE</td>\n",
       "      <td>SW</td>\n",
       "      <td>ESE</td>\n",
       "      <td>1</td>\n",
       "      <td>0</td>\n",
       "    </tr>\n",
       "    <tr>\n",
       "      <th>1</th>\n",
       "      <td>23-04-2009</td>\n",
       "      <td>Portland</td>\n",
       "      <td>NNE</td>\n",
       "      <td>NE</td>\n",
       "      <td>NNE</td>\n",
       "      <td>0</td>\n",
       "      <td>1</td>\n",
       "    </tr>\n",
       "    <tr>\n",
       "      <th>2</th>\n",
       "      <td>8/11/2015</td>\n",
       "      <td>Watsonia</td>\n",
       "      <td>WSW</td>\n",
       "      <td>SE</td>\n",
       "      <td>E</td>\n",
       "      <td>0</td>\n",
       "      <td>0</td>\n",
       "    </tr>\n",
       "    <tr>\n",
       "      <th>3</th>\n",
       "      <td>21-11-2012</td>\n",
       "      <td>Wollongong</td>\n",
       "      <td>SSW</td>\n",
       "      <td>N</td>\n",
       "      <td>NE</td>\n",
       "      <td>0</td>\n",
       "      <td>0</td>\n",
       "    </tr>\n",
       "  </tbody>\n",
       "</table>\n",
       "</div>"
      ],
      "text/plain": [
       "         Date      Location WindGustDir WindDir9am WindDir3pm  RainToday_Yes  \\\n",
       "0    7/2/2014  CoffsHarbour         NNE         SW        ESE              1   \n",
       "1  23-04-2009      Portland         NNE         NE        NNE              0   \n",
       "2   8/11/2015      Watsonia         WSW         SE          E              0   \n",
       "3  21-11-2012    Wollongong         SSW          N         NE              0   \n",
       "\n",
       "   RainTomorrow_Yes  \n",
       "0                 0  \n",
       "1                 1  \n",
       "2                 0  \n",
       "3                 0  "
      ]
     },
     "execution_count": 73,
     "metadata": {},
     "output_type": "execute_result"
    }
   ],
   "source": [
    "cat_data.head(4)"
   ]
  },
  {
   "cell_type": "code",
   "execution_count": 74,
   "id": "f68fab26",
   "metadata": {},
   "outputs": [],
   "source": [
    "# Using Frequency Encoding for WindGust Direction ,Wind Direction 9am , Wind Direction 3pm and Location"
   ]
  },
  {
   "cell_type": "code",
   "execution_count": 75,
   "id": "74f28366",
   "metadata": {},
   "outputs": [
    {
     "data": {
      "text/plain": [
       "W      6857\n",
       "SE     6508\n",
       "E      6405\n",
       "SSE    6320\n",
       "WSW    6268\n",
       "N      6240\n",
       "S      6231\n",
       "SW     6193\n",
       "SSW    6088\n",
       "ENE    5689\n",
       "WNW    5667\n",
       "NW     5665\n",
       "ESE    5156\n",
       "NE     4973\n",
       "NNW    4639\n",
       "NNE    4520\n",
       "Name: WindGustDir, dtype: int64"
      ]
     },
     "execution_count": 75,
     "metadata": {},
     "output_type": "execute_result"
    }
   ],
   "source": [
    "tab=cat_data['WindGustDir'].value_counts()\n",
    "tab"
   ]
  },
  {
   "cell_type": "code",
   "execution_count": 76,
   "id": "6e1dcb76",
   "metadata": {},
   "outputs": [],
   "source": [
    "cat_data['WindGustDir']=cat_data['WindGustDir'].map(tab)"
   ]
  },
  {
   "cell_type": "code",
   "execution_count": 77,
   "id": "2341fc5d",
   "metadata": {},
   "outputs": [
    {
     "data": {
      "text/html": [
       "<div>\n",
       "<style scoped>\n",
       "    .dataframe tbody tr th:only-of-type {\n",
       "        vertical-align: middle;\n",
       "    }\n",
       "\n",
       "    .dataframe tbody tr th {\n",
       "        vertical-align: top;\n",
       "    }\n",
       "\n",
       "    .dataframe thead th {\n",
       "        text-align: right;\n",
       "    }\n",
       "</style>\n",
       "<table border=\"1\" class=\"dataframe\">\n",
       "  <thead>\n",
       "    <tr style=\"text-align: right;\">\n",
       "      <th></th>\n",
       "      <th>Date</th>\n",
       "      <th>Location</th>\n",
       "      <th>WindGustDir</th>\n",
       "      <th>WindDir9am</th>\n",
       "      <th>WindDir3pm</th>\n",
       "      <th>RainToday_Yes</th>\n",
       "      <th>RainTomorrow_Yes</th>\n",
       "    </tr>\n",
       "  </thead>\n",
       "  <tbody>\n",
       "    <tr>\n",
       "      <th>0</th>\n",
       "      <td>7/2/2014</td>\n",
       "      <td>CoffsHarbour</td>\n",
       "      <td>4520.0</td>\n",
       "      <td>SW</td>\n",
       "      <td>ESE</td>\n",
       "      <td>1</td>\n",
       "      <td>0</td>\n",
       "    </tr>\n",
       "    <tr>\n",
       "      <th>1</th>\n",
       "      <td>23-04-2009</td>\n",
       "      <td>Portland</td>\n",
       "      <td>4520.0</td>\n",
       "      <td>NE</td>\n",
       "      <td>NNE</td>\n",
       "      <td>0</td>\n",
       "      <td>1</td>\n",
       "    </tr>\n",
       "  </tbody>\n",
       "</table>\n",
       "</div>"
      ],
      "text/plain": [
       "         Date      Location  WindGustDir WindDir9am WindDir3pm  RainToday_Yes  \\\n",
       "0    7/2/2014  CoffsHarbour       4520.0         SW        ESE              1   \n",
       "1  23-04-2009      Portland       4520.0         NE        NNE              0   \n",
       "\n",
       "   RainTomorrow_Yes  \n",
       "0                 0  \n",
       "1                 1  "
      ]
     },
     "execution_count": 77,
     "metadata": {},
     "output_type": "execute_result"
    }
   ],
   "source": [
    "cat_data.head(2)"
   ]
  },
  {
   "cell_type": "code",
   "execution_count": 78,
   "id": "c4a8f395",
   "metadata": {},
   "outputs": [],
   "source": [
    "cat_data['WindDir9am']=cat_data['WindDir9am'].map(tab)"
   ]
  },
  {
   "cell_type": "code",
   "execution_count": 79,
   "id": "5b5688e8",
   "metadata": {},
   "outputs": [
    {
     "data": {
      "text/html": [
       "<div>\n",
       "<style scoped>\n",
       "    .dataframe tbody tr th:only-of-type {\n",
       "        vertical-align: middle;\n",
       "    }\n",
       "\n",
       "    .dataframe tbody tr th {\n",
       "        vertical-align: top;\n",
       "    }\n",
       "\n",
       "    .dataframe thead th {\n",
       "        text-align: right;\n",
       "    }\n",
       "</style>\n",
       "<table border=\"1\" class=\"dataframe\">\n",
       "  <thead>\n",
       "    <tr style=\"text-align: right;\">\n",
       "      <th></th>\n",
       "      <th>Date</th>\n",
       "      <th>Location</th>\n",
       "      <th>WindGustDir</th>\n",
       "      <th>WindDir9am</th>\n",
       "      <th>WindDir3pm</th>\n",
       "      <th>RainToday_Yes</th>\n",
       "      <th>RainTomorrow_Yes</th>\n",
       "    </tr>\n",
       "  </thead>\n",
       "  <tbody>\n",
       "    <tr>\n",
       "      <th>0</th>\n",
       "      <td>7/2/2014</td>\n",
       "      <td>CoffsHarbour</td>\n",
       "      <td>4520.0</td>\n",
       "      <td>6193.0</td>\n",
       "      <td>ESE</td>\n",
       "      <td>1</td>\n",
       "      <td>0</td>\n",
       "    </tr>\n",
       "    <tr>\n",
       "      <th>1</th>\n",
       "      <td>23-04-2009</td>\n",
       "      <td>Portland</td>\n",
       "      <td>4520.0</td>\n",
       "      <td>4973.0</td>\n",
       "      <td>NNE</td>\n",
       "      <td>0</td>\n",
       "      <td>1</td>\n",
       "    </tr>\n",
       "  </tbody>\n",
       "</table>\n",
       "</div>"
      ],
      "text/plain": [
       "         Date      Location  WindGustDir  WindDir9am WindDir3pm  \\\n",
       "0    7/2/2014  CoffsHarbour       4520.0      6193.0        ESE   \n",
       "1  23-04-2009      Portland       4520.0      4973.0        NNE   \n",
       "\n",
       "   RainToday_Yes  RainTomorrow_Yes  \n",
       "0              1                 0  \n",
       "1              0                 1  "
      ]
     },
     "execution_count": 79,
     "metadata": {},
     "output_type": "execute_result"
    }
   ],
   "source": [
    "cat_data.head(2)"
   ]
  },
  {
   "cell_type": "code",
   "execution_count": 80,
   "id": "6d06d5d6",
   "metadata": {},
   "outputs": [],
   "source": [
    "cat_data['WindDir3pm']=cat_data['WindDir3pm'].map(tab)"
   ]
  },
  {
   "cell_type": "code",
   "execution_count": 81,
   "id": "c8aa0cf5",
   "metadata": {},
   "outputs": [
    {
     "data": {
      "text/html": [
       "<div>\n",
       "<style scoped>\n",
       "    .dataframe tbody tr th:only-of-type {\n",
       "        vertical-align: middle;\n",
       "    }\n",
       "\n",
       "    .dataframe tbody tr th {\n",
       "        vertical-align: top;\n",
       "    }\n",
       "\n",
       "    .dataframe thead th {\n",
       "        text-align: right;\n",
       "    }\n",
       "</style>\n",
       "<table border=\"1\" class=\"dataframe\">\n",
       "  <thead>\n",
       "    <tr style=\"text-align: right;\">\n",
       "      <th></th>\n",
       "      <th>Date</th>\n",
       "      <th>Location</th>\n",
       "      <th>WindGustDir</th>\n",
       "      <th>WindDir9am</th>\n",
       "      <th>WindDir3pm</th>\n",
       "      <th>RainToday_Yes</th>\n",
       "      <th>RainTomorrow_Yes</th>\n",
       "    </tr>\n",
       "  </thead>\n",
       "  <tbody>\n",
       "    <tr>\n",
       "      <th>0</th>\n",
       "      <td>7/2/2014</td>\n",
       "      <td>CoffsHarbour</td>\n",
       "      <td>4520.0</td>\n",
       "      <td>6193.0</td>\n",
       "      <td>5156.0</td>\n",
       "      <td>1</td>\n",
       "      <td>0</td>\n",
       "    </tr>\n",
       "    <tr>\n",
       "      <th>1</th>\n",
       "      <td>23-04-2009</td>\n",
       "      <td>Portland</td>\n",
       "      <td>4520.0</td>\n",
       "      <td>4973.0</td>\n",
       "      <td>4520.0</td>\n",
       "      <td>0</td>\n",
       "      <td>1</td>\n",
       "    </tr>\n",
       "    <tr>\n",
       "      <th>2</th>\n",
       "      <td>8/11/2015</td>\n",
       "      <td>Watsonia</td>\n",
       "      <td>6268.0</td>\n",
       "      <td>6508.0</td>\n",
       "      <td>6405.0</td>\n",
       "      <td>0</td>\n",
       "      <td>0</td>\n",
       "    </tr>\n",
       "  </tbody>\n",
       "</table>\n",
       "</div>"
      ],
      "text/plain": [
       "         Date      Location  WindGustDir  WindDir9am  WindDir3pm  \\\n",
       "0    7/2/2014  CoffsHarbour       4520.0      6193.0      5156.0   \n",
       "1  23-04-2009      Portland       4520.0      4973.0      4520.0   \n",
       "2   8/11/2015      Watsonia       6268.0      6508.0      6405.0   \n",
       "\n",
       "   RainToday_Yes  RainTomorrow_Yes  \n",
       "0              1                 0  \n",
       "1              0                 1  \n",
       "2              0                 0  "
      ]
     },
     "execution_count": 81,
     "metadata": {},
     "output_type": "execute_result"
    }
   ],
   "source": [
    "cat_data.head(3)"
   ]
  },
  {
   "cell_type": "code",
   "execution_count": 82,
   "id": "405b6782",
   "metadata": {},
   "outputs": [
    {
     "data": {
      "text/plain": [
       "Canberra            2414\n",
       "Sydney              2342\n",
       "Perth               2281\n",
       "Hobart              2250\n",
       "Brisbane            2223\n",
       "Darwin              2220\n",
       "Adelaide            2184\n",
       "AliceSprings        2182\n",
       "Albany              2161\n",
       "Townsville          2152\n",
       "SydneyAirport       2136\n",
       "Portland            2124\n",
       "Sale                2120\n",
       "Launceston          2119\n",
       "Watsonia            2118\n",
       "MountGambier        2117\n",
       "PerthAirport        2116\n",
       "Nuriootpa           2115\n",
       "Mildura             2113\n",
       "WaggaWagga          2112\n",
       "NorfolkIsland       2110\n",
       "Tuggeranong         2110\n",
       "Ballarat            2108\n",
       "Bendigo             2098\n",
       "Woomera             2097\n",
       "Cairns              2096\n",
       "Cobar               2093\n",
       "Penrith             2090\n",
       "Richmond            2080\n",
       "GoldCoast           2079\n",
       "Newcastle           2076\n",
       "NorahHead           2074\n",
       "Albury              2073\n",
       "SalmonGums          2073\n",
       "MelbourneAirport    2067\n",
       "BadgerysCreek       2066\n",
       "Dartmoor            2060\n",
       "MountGinini         2054\n",
       "CoffsHarbour        2039\n",
       "Wollongong          2036\n",
       "Witchcliffe         2024\n",
       "Moree               2023\n",
       "Walpole             1956\n",
       "PearceRAAF          1949\n",
       "Williamtown         1819\n",
       "Melbourne           1754\n",
       "Nhil                1103\n",
       "Uluru               1098\n",
       "Katherine           1096\n",
       "Name: Location, dtype: int64"
      ]
     },
     "execution_count": 82,
     "metadata": {},
     "output_type": "execute_result"
    }
   ],
   "source": [
    "tab=cat_data['Location'].value_counts()\n",
    "tab"
   ]
  },
  {
   "cell_type": "code",
   "execution_count": 83,
   "id": "f40fd71c",
   "metadata": {},
   "outputs": [],
   "source": [
    "cat_data['Location']=cat_data['Location'].map(tab)"
   ]
  },
  {
   "cell_type": "code",
   "execution_count": 84,
   "id": "d1a79808",
   "metadata": {},
   "outputs": [
    {
     "data": {
      "text/html": [
       "<div>\n",
       "<style scoped>\n",
       "    .dataframe tbody tr th:only-of-type {\n",
       "        vertical-align: middle;\n",
       "    }\n",
       "\n",
       "    .dataframe tbody tr th {\n",
       "        vertical-align: top;\n",
       "    }\n",
       "\n",
       "    .dataframe thead th {\n",
       "        text-align: right;\n",
       "    }\n",
       "</style>\n",
       "<table border=\"1\" class=\"dataframe\">\n",
       "  <thead>\n",
       "    <tr style=\"text-align: right;\">\n",
       "      <th></th>\n",
       "      <th>Date</th>\n",
       "      <th>Location</th>\n",
       "      <th>WindGustDir</th>\n",
       "      <th>WindDir9am</th>\n",
       "      <th>WindDir3pm</th>\n",
       "      <th>RainToday_Yes</th>\n",
       "      <th>RainTomorrow_Yes</th>\n",
       "    </tr>\n",
       "  </thead>\n",
       "  <tbody>\n",
       "    <tr>\n",
       "      <th>0</th>\n",
       "      <td>7/2/2014</td>\n",
       "      <td>2039</td>\n",
       "      <td>4520.0</td>\n",
       "      <td>6193.0</td>\n",
       "      <td>5156.0</td>\n",
       "      <td>1</td>\n",
       "      <td>0</td>\n",
       "    </tr>\n",
       "    <tr>\n",
       "      <th>1</th>\n",
       "      <td>23-04-2009</td>\n",
       "      <td>2124</td>\n",
       "      <td>4520.0</td>\n",
       "      <td>4973.0</td>\n",
       "      <td>4520.0</td>\n",
       "      <td>0</td>\n",
       "      <td>1</td>\n",
       "    </tr>\n",
       "    <tr>\n",
       "      <th>2</th>\n",
       "      <td>8/11/2015</td>\n",
       "      <td>2118</td>\n",
       "      <td>6268.0</td>\n",
       "      <td>6508.0</td>\n",
       "      <td>6405.0</td>\n",
       "      <td>0</td>\n",
       "      <td>0</td>\n",
       "    </tr>\n",
       "  </tbody>\n",
       "</table>\n",
       "</div>"
      ],
      "text/plain": [
       "         Date  Location  WindGustDir  WindDir9am  WindDir3pm  RainToday_Yes  \\\n",
       "0    7/2/2014      2039       4520.0      6193.0      5156.0              1   \n",
       "1  23-04-2009      2124       4520.0      4973.0      4520.0              0   \n",
       "2   8/11/2015      2118       6268.0      6508.0      6405.0              0   \n",
       "\n",
       "   RainTomorrow_Yes  \n",
       "0                 0  \n",
       "1                 1  \n",
       "2                 0  "
      ]
     },
     "execution_count": 84,
     "metadata": {},
     "output_type": "execute_result"
    }
   ],
   "source": [
    "cat_data.head(3)"
   ]
  },
  {
   "cell_type": "code",
   "execution_count": null,
   "id": "8791eb21",
   "metadata": {},
   "outputs": [],
   "source": [
    "# Hence we encoded all the categorical columns "
   ]
  }
 ],
 "metadata": {
  "kernelspec": {
   "display_name": "Python 3 (ipykernel)",
   "language": "python",
   "name": "python3"
  },
  "language_info": {
   "codemirror_mode": {
    "name": "ipython",
    "version": 3
   },
   "file_extension": ".py",
   "mimetype": "text/x-python",
   "name": "python",
   "nbconvert_exporter": "python",
   "pygments_lexer": "ipython3",
   "version": "3.7.11"
  }
 },
 "nbformat": 4,
 "nbformat_minor": 5
}
